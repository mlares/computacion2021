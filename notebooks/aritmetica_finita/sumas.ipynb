{
 "cells": [
  {
   "cell_type": "code",
   "execution_count": 1,
   "id": "northern-fireplace",
   "metadata": {},
   "outputs": [],
   "source": [
    "import math as m"
   ]
  },
  {
   "cell_type": "code",
   "execution_count": 2,
   "id": "desperate-tulsa",
   "metadata": {},
   "outputs": [
    {
     "name": "stdout",
     "output_type": "stream",
     "text": [
      "\n",
      "suma_1 =  2.7182818284590455\n",
      "error absoluto= 4.440892098500626e-16\n",
      "error relativo= 1.6337129034990842e-16\n"
     ]
    }
   ],
   "source": [
    "# fijemos un valor de n\n",
    "n=17\n",
    "# calculemos la suma1 y sus errores\n",
    "s1=0;\n",
    "for i in range(n+1):  #ojo, range(n)=[0,1,...,n-1] son n contando desde cero\n",
    "  s1=s1+1/m.factorial(i)\n",
    "print('\\nsuma_1 = ',s1)\n",
    "print('error absoluto=',abs(s1-m.e))\n",
    "print('error relativo=',abs(s1-m.e)/m.e)"
   ]
  },
  {
   "cell_type": "code",
   "execution_count": 3,
   "id": "inclusive-forestry",
   "metadata": {},
   "outputs": [
    {
     "name": "stdout",
     "output_type": "stream",
     "text": [
      "\n",
      "suma_2 =  2.718281828459045\n",
      "error absoluto= 0.0\n",
      "error relativo= 0.0\n",
      "\n"
     ]
    }
   ],
   "source": [
    "# calculemos la suma2 y sus errores\n",
    "s2=0;\n",
    "for j in range(n+1):\n",
    "  s2=s2+1/m.factorial(n-j)\n",
    "print('\\nsuma_2 = ',s2)\n",
    "print('error absoluto=',abs(s2-m.e))\n",
    "print('error relativo=',abs(s2-m.e)/m.e)  \n",
    "print('')    "
   ]
  },
  {
   "cell_type": "code",
   "execution_count": null,
   "id": "announced-champion",
   "metadata": {},
   "outputs": [],
   "source": []
  }
 ],
 "metadata": {
  "kernelspec": {
   "display_name": "Python 3",
   "language": "python",
   "name": "python3"
  },
  "language_info": {
   "codemirror_mode": {
    "name": "ipython",
    "version": 3
   },
   "file_extension": ".py",
   "mimetype": "text/x-python",
   "name": "python",
   "nbconvert_exporter": "python",
   "pygments_lexer": "ipython3",
   "version": "3.8.5"
  }
 },
 "nbformat": 4,
 "nbformat_minor": 5
}
