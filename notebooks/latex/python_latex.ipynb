{
 "cells": [
  {
   "cell_type": "code",
   "execution_count": 16,
   "id": "baking-profit",
   "metadata": {},
   "outputs": [],
   "source": [
    "import numpy as np\n",
    "from fractions import Fraction as frac"
   ]
  },
  {
   "cell_type": "code",
   "execution_count": 17,
   "id": "backed-hindu",
   "metadata": {},
   "outputs": [],
   "source": [
    "class bcolors:\n",
    "    # ANSI escape sequences\n",
    "    # Ver también el paquete colorama\n",
    "    HEADER = '\\033[95m'\n",
    "    OKBLUE = '\\033[94m'\n",
    "    OKCYAN = '\\033[96m'\n",
    "    OKGREEN = '\\033[92m'\n",
    "    WARNING = '\\033[93m'\n",
    "    FAIL = '\\033[91m'\n",
    "    ENDC = '\\033[0m'\n",
    "    BOLD = '\\033[1m'\n",
    "    UNDERLINE = '\\033[4m'\n",
    "    TST = '\\033[31;1m'\n",
    "    X = '\\033[4;95;1m'"
   ]
  },
  {
   "cell_type": "code",
   "execution_count": 18,
   "id": "sunrise-generic",
   "metadata": {},
   "outputs": [],
   "source": [
    "A = np.random.randint(1, 6, [3,3])\n",
    "b = np.random.randint(1, 6, [3,1])"
   ]
  },
  {
   "cell_type": "code",
   "execution_count": 19,
   "id": "brave-lebanon",
   "metadata": {},
   "outputs": [],
   "source": [
    "def show_eqs(A, B):\n",
    "    for a, b in zip(A, B):\n",
    "        s = ''\n",
    "        for i, aa in enumerate(a):\n",
    "            s = s + f'{aa}*x{i+1} + '\n",
    "        s = s[:-2] + f' = {b}'\n",
    "        print(s)"
   ]
  },
  {
   "cell_type": "code",
   "execution_count": 20,
   "id": "manufactured-velvet",
   "metadata": {},
   "outputs": [
    {
     "name": "stdout",
     "output_type": "stream",
     "text": [
      "2*x1 + 1*x2 + 2*x3  = [3]\n",
      "3*x1 + 5*x2 + 3*x3  = [2]\n",
      "3*x1 + 2*x2 + 5*x3  = [5]\n"
     ]
    }
   ],
   "source": [
    "show_eqs(A, b)"
   ]
  },
  {
   "cell_type": "code",
   "execution_count": 21,
   "id": "finnish-senegal",
   "metadata": {},
   "outputs": [],
   "source": [
    "def show_eqs(A, B):\n",
    "    for a, b in zip(A, B):\n",
    "        s = ''\n",
    "        for i, aa in enumerate(a):\n",
    "            s = s + f'{aa}*x_{i+1} + '\n",
    "        s = s[:-2] + f' = {b}'\n",
    "        print(s)"
   ]
  },
  {
   "cell_type": "code",
   "execution_count": 22,
   "id": "popular-hearing",
   "metadata": {},
   "outputs": [
    {
     "name": "stdout",
     "output_type": "stream",
     "text": [
      "2*x_1 + 1*x_2 + 2*x_3  = [3]\n",
      "3*x_1 + 5*x_2 + 3*x_3  = [2]\n",
      "3*x_1 + 2*x_2 + 5*x_3  = [5]\n"
     ]
    }
   ],
   "source": [
    "show_eqs(A, b)"
   ]
  },
  {
   "cell_type": "code",
   "execution_count": null,
   "id": "remarkable-comedy",
   "metadata": {},
   "outputs": [],
   "source": []
  },
  {
   "cell_type": "code",
   "execution_count": 23,
   "id": "expected-point",
   "metadata": {},
   "outputs": [],
   "source": [
    "def niceprint(matrix, ij=[None, None]):\n",
    "    sp = ' '*50\n",
    "    print(f'{bcolors.X}{sp}{bcolors.ENDC}\\n')\n",
    "    ki=0\n",
    "    for irow, row in enumerate(matrix):\n",
    "        pp = []\n",
    "        for icol, rr in enumerate(row):\n",
    "            if abs(rr)>1.e-8:\n",
    "                r = frac(rr)\n",
    "                if r.numerator > 1.e3 or r.denominator > 1.e3:\n",
    "                    r = f'{rr:7.3f}'\n",
    "                else:\n",
    "                    r = str(frac(rr))\n",
    "                if (ij[0]==irow) and (ij[1]==icol):\n",
    "                    r = f'{bcolors.OKGREEN}{r}{bcolors.ENDC}'\n",
    "            else:\n",
    "                r = '0'\n",
    "            pp.append(r)\n",
    "        p = pp[:-1]\n",
    "        p.append(f'{bcolors.WARNING}:{bcolors.ENDC}')\n",
    "        p.append(f'{bcolors.TST}{pp[-1]}{bcolors.ENDC}')\n",
    "        msg = \"\\t\".join(p)           \n",
    "        print(msg)\n",
    "        print(\"\\u001b[0m\")  # reset\n",
    "    return 0"
   ]
  },
  {
   "cell_type": "code",
   "execution_count": 27,
   "id": "flexible-omaha",
   "metadata": {},
   "outputs": [],
   "source": [
    "def diag(A, b):\n",
    "    '''\n",
    "    Implementa el método de eliminación de Gauss para resolver\n",
    "    un sistema de ecuaciones\n",
    "    '''\n",
    "    A = np.array(A) \n",
    "    b = np.array(b) \n",
    "    n = len(b)\n",
    "    M = np.zeros((A.shape[0],A.shape[1]+1))\n",
    "    M[:,:-1] = A\n",
    "    M[:,-1] = b\n",
    "\n",
    "    for i in range(n):\n",
    "        for j in range(n):\n",
    "            if i != j:\n",
    "                factor = M[j][i]/M[i][i]\n",
    "\n",
    "                niceprint(M)\n",
    "                for k in range(n+1):\n",
    "                    M[j][k] = M[j][k] - factor * M[i][k]\n",
    "\n",
    "    niceprint(M)\n",
    "    x = b*0.\n",
    "    for i in range(n):\n",
    "        x[i] = M[i][n]/M[i][i]\n",
    "    return M, x      "
   ]
  },
  {
   "cell_type": "code",
   "execution_count": 28,
   "id": "economic-michigan",
   "metadata": {},
   "outputs": [],
   "source": [
    "A = [[1, 2, 3],\n",
    "     [2, 1, 4],\n",
    "     [5, 2, 1]]\n",
    "b = [4, 2, 5]"
   ]
  },
  {
   "cell_type": "code",
   "execution_count": 32,
   "id": "headed-startup",
   "metadata": {},
   "outputs": [
    {
     "name": "stdout",
     "output_type": "stream",
     "text": [
      "\u001b[4;95;1m                                                  \u001b[0m\n",
      "\n",
      "1\t2\t3\t\u001b[93m:\u001b[0m\t\u001b[31;1m4\u001b[0m\n",
      "\u001b[0m\n",
      "2\t1\t4\t\u001b[93m:\u001b[0m\t\u001b[31;1m2\u001b[0m\n",
      "\u001b[0m\n",
      "5\t2\t1\t\u001b[93m:\u001b[0m\t\u001b[31;1m5\u001b[0m\n",
      "\u001b[0m\n",
      "\u001b[4;95;1m                                                  \u001b[0m\n",
      "\n",
      "1\t2\t3\t\u001b[93m:\u001b[0m\t\u001b[31;1m4\u001b[0m\n",
      "\u001b[0m\n",
      "0\t-3\t-2\t\u001b[93m:\u001b[0m\t\u001b[31;1m-6\u001b[0m\n",
      "\u001b[0m\n",
      "5\t2\t1\t\u001b[93m:\u001b[0m\t\u001b[31;1m5\u001b[0m\n",
      "\u001b[0m\n",
      "\u001b[4;95;1m                                                  \u001b[0m\n",
      "\n",
      "1\t2\t3\t\u001b[93m:\u001b[0m\t\u001b[31;1m4\u001b[0m\n",
      "\u001b[0m\n",
      "0\t-3\t-2\t\u001b[93m:\u001b[0m\t\u001b[31;1m-6\u001b[0m\n",
      "\u001b[0m\n",
      "0\t-8\t-14\t\u001b[93m:\u001b[0m\t\u001b[31;1m-15\u001b[0m\n",
      "\u001b[0m\n",
      "\u001b[4;95;1m                                                  \u001b[0m\n",
      "\n",
      "1\t0\t  1.667\t\u001b[93m:\u001b[0m\t\u001b[31;1m0\u001b[0m\n",
      "\u001b[0m\n",
      "0\t-3\t-2\t\u001b[93m:\u001b[0m\t\u001b[31;1m-6\u001b[0m\n",
      "\u001b[0m\n",
      "0\t-8\t-14\t\u001b[93m:\u001b[0m\t\u001b[31;1m-15\u001b[0m\n",
      "\u001b[0m\n",
      "\u001b[4;95;1m                                                  \u001b[0m\n",
      "\n",
      "1\t0\t  1.667\t\u001b[93m:\u001b[0m\t\u001b[31;1m0\u001b[0m\n",
      "\u001b[0m\n",
      "0\t-3\t-2\t\u001b[93m:\u001b[0m\t\u001b[31;1m-6\u001b[0m\n",
      "\u001b[0m\n",
      "0\t0\t -8.667\t\u001b[93m:\u001b[0m\t\u001b[31;1m1\u001b[0m\n",
      "\u001b[0m\n",
      "\u001b[4;95;1m                                                  \u001b[0m\n",
      "\n",
      "1\t0\t0\t\u001b[93m:\u001b[0m\t\u001b[31;1m  0.192\u001b[0m\n",
      "\u001b[0m\n",
      "0\t-3\t-2\t\u001b[93m:\u001b[0m\t\u001b[31;1m-6\u001b[0m\n",
      "\u001b[0m\n",
      "0\t0\t -8.667\t\u001b[93m:\u001b[0m\t\u001b[31;1m1\u001b[0m\n",
      "\u001b[0m\n",
      "\u001b[4;95;1m                                                  \u001b[0m\n",
      "\n",
      "1\t0\t0\t\u001b[93m:\u001b[0m\t\u001b[31;1m  0.192\u001b[0m\n",
      "\u001b[0m\n",
      "0\t-3\t0\t\u001b[93m:\u001b[0m\t\u001b[31;1m -6.231\u001b[0m\n",
      "\u001b[0m\n",
      "0\t0\t -8.667\t\u001b[93m:\u001b[0m\t\u001b[31;1m1\u001b[0m\n",
      "\u001b[0m\n"
     ]
    },
    {
     "data": {
      "text/plain": [
       "(array([[ 1.        ,  0.        ,  0.        ,  0.19230769],\n",
       "        [ 0.        , -3.        ,  0.        , -6.23076923],\n",
       "        [ 0.        ,  0.        , -8.66666667,  1.        ]]),\n",
       " array([ 0.19230769,  2.07692308, -0.11538462]))"
      ]
     },
     "execution_count": 32,
     "metadata": {},
     "output_type": "execute_result"
    }
   ],
   "source": [
    "diag(A, b)"
   ]
  },
  {
   "cell_type": "code",
   "execution_count": null,
   "id": "outside-money",
   "metadata": {},
   "outputs": [],
   "source": []
  },
  {
   "cell_type": "code",
   "execution_count": null,
   "id": "authentic-actor",
   "metadata": {},
   "outputs": [],
   "source": []
  },
  {
   "cell_type": "markdown",
   "id": "automotive-stanford",
   "metadata": {},
   "source": [
    "## Veamos cómo hacer una matriz en latex:"
   ]
  },
  {
   "cell_type": "markdown",
   "id": "mighty-controversy",
   "metadata": {},
   "source": [
    "$$\n",
    "\\left[\\begin{array}{cc}\n",
    "3& 2 \\\\\n",
    "1& 2\n",
    "\\end{array}\\right]\n",
    "$$\n",
    " "
   ]
  },
  {
   "cell_type": "markdown",
   "id": "parliamentary-mileage",
   "metadata": {},
   "source": [
    "$$\n",
    "\\left[\\begin{array}{cc}\n",
    "3& 2 \\\\\n",
    "1& 2\n",
    "\\end{array}\\right]\n",
    "\\left[\\begin{array}{c}\n",
    "x_0 \\\\\n",
    "x_1\n",
    "\\end{array}\\right]=\n",
    "\\left[\\begin{array}{c}\n",
    "5 \\\\\n",
    "3\n",
    "\\end{array}\\right]\n",
    "$$"
   ]
  },
  {
   "cell_type": "markdown",
   "id": "fewer-brave",
   "metadata": {},
   "source": [
    "Modificamos la rutina:"
   ]
  },
  {
   "cell_type": "code",
   "execution_count": 57,
   "id": "standing-mexican",
   "metadata": {},
   "outputs": [],
   "source": [
    "def niceprint_latex(matrix, ij=[None, None]):\n",
    "    sp = ' '*50\n",
    "    print(f'{bcolors.X}{sp}{bcolors.ENDC}\\n')\n",
    "    ki=0\n",
    "    for irow, row in enumerate(matrix):\n",
    "        pp = []\n",
    "        for icol, rr in enumerate(row):\n",
    "            if abs(rr)>1.e-8:\n",
    "                r = frac(rr)\n",
    "                if r.numerator > 1.e3 or r.denominator > 1.e3:\n",
    "                    r = f'{rr:7.3f}'\n",
    "                else:\n",
    "                    r = str(frac(rr))\n",
    "                if (ij[0]==irow) and (ij[1]==icol):\n",
    "                    r = f'{bcolors.OKGREEN}{r}{bcolors.ENDC}'\n",
    "            else:\n",
    "                r = '0'\n",
    "            pp.append(r)\n",
    "        p = pp[:-1]\n",
    "        p.append(f'{bcolors.WARNING}:{bcolors.ENDC}')\n",
    "        p.append(f'{bcolors.TST}{pp[-1]}{bcolors.ENDC}')\n",
    "        msg = \" & \".join(p) + '  \\\\\\\\'\n",
    "        print(msg)\n",
    "        print(\"\\u001b[0m\")  # reset\n",
    "    return 0"
   ]
  },
  {
   "cell_type": "code",
   "execution_count": 58,
   "id": "upset-diploma",
   "metadata": {},
   "outputs": [],
   "source": [
    "def diag_latex(A, b):\n",
    "    '''\n",
    "    Implementa el método de eliminación de Gauss para resolver\n",
    "    un sistema de ecuaciones\n",
    "    '''\n",
    "    A = np.array(A) \n",
    "    b = np.array(b) \n",
    "    n = len(b)\n",
    "    M = np.zeros((A.shape[0],A.shape[1]+1))\n",
    "    M[:,:-1] = A\n",
    "    M[:,-1] = b\n",
    "\n",
    "    for i in range(n):\n",
    "        for j in range(n):\n",
    "            if i != j:\n",
    "                factor = M[j][i]/M[i][i]\n",
    "\n",
    "                niceprint_latex(M)\n",
    "                for k in range(n+1):\n",
    "                    M[j][k] = M[j][k] - factor * M[i][k]\n",
    "\n",
    "    niceprint_latex(M)\n",
    "    x = b*0.\n",
    "    for i in range(n):\n",
    "        x[i] = M[i][n]/M[i][i]\n",
    "    return M, x "
   ]
  },
  {
   "cell_type": "code",
   "execution_count": 59,
   "id": "veterinary-promotion",
   "metadata": {},
   "outputs": [
    {
     "name": "stdout",
     "output_type": "stream",
     "text": [
      "\u001b[4;95;1m                                                  \u001b[0m\n",
      "\n",
      "1 & 2 & 3 & \u001b[93m:\u001b[0m & \u001b[31;1m4\u001b[0m  \\\\\n",
      "\u001b[0m\n",
      "2 & 1 & 4 & \u001b[93m:\u001b[0m & \u001b[31;1m2\u001b[0m  \\\\\n",
      "\u001b[0m\n",
      "5 & 2 & 1 & \u001b[93m:\u001b[0m & \u001b[31;1m5\u001b[0m  \\\\\n",
      "\u001b[0m\n",
      "\u001b[4;95;1m                                                  \u001b[0m\n",
      "\n",
      "1 & 2 & 3 & \u001b[93m:\u001b[0m & \u001b[31;1m4\u001b[0m  \\\\\n",
      "\u001b[0m\n",
      "0 & -3 & -2 & \u001b[93m:\u001b[0m & \u001b[31;1m-6\u001b[0m  \\\\\n",
      "\u001b[0m\n",
      "5 & 2 & 1 & \u001b[93m:\u001b[0m & \u001b[31;1m5\u001b[0m  \\\\\n",
      "\u001b[0m\n",
      "\u001b[4;95;1m                                                  \u001b[0m\n",
      "\n",
      "1 & 2 & 3 & \u001b[93m:\u001b[0m & \u001b[31;1m4\u001b[0m  \\\\\n",
      "\u001b[0m\n",
      "0 & -3 & -2 & \u001b[93m:\u001b[0m & \u001b[31;1m-6\u001b[0m  \\\\\n",
      "\u001b[0m\n",
      "0 & -8 & -14 & \u001b[93m:\u001b[0m & \u001b[31;1m-15\u001b[0m  \\\\\n",
      "\u001b[0m\n",
      "\u001b[4;95;1m                                                  \u001b[0m\n",
      "\n",
      "1 & 0 &   1.667 & \u001b[93m:\u001b[0m & \u001b[31;1m0\u001b[0m  \\\\\n",
      "\u001b[0m\n",
      "0 & -3 & -2 & \u001b[93m:\u001b[0m & \u001b[31;1m-6\u001b[0m  \\\\\n",
      "\u001b[0m\n",
      "0 & -8 & -14 & \u001b[93m:\u001b[0m & \u001b[31;1m-15\u001b[0m  \\\\\n",
      "\u001b[0m\n",
      "\u001b[4;95;1m                                                  \u001b[0m\n",
      "\n",
      "1 & 0 &   1.667 & \u001b[93m:\u001b[0m & \u001b[31;1m0\u001b[0m  \\\\\n",
      "\u001b[0m\n",
      "0 & -3 & -2 & \u001b[93m:\u001b[0m & \u001b[31;1m-6\u001b[0m  \\\\\n",
      "\u001b[0m\n",
      "0 & 0 &  -8.667 & \u001b[93m:\u001b[0m & \u001b[31;1m1\u001b[0m  \\\\\n",
      "\u001b[0m\n",
      "\u001b[4;95;1m                                                  \u001b[0m\n",
      "\n",
      "1 & 0 & 0 & \u001b[93m:\u001b[0m & \u001b[31;1m  0.192\u001b[0m  \\\\\n",
      "\u001b[0m\n",
      "0 & -3 & -2 & \u001b[93m:\u001b[0m & \u001b[31;1m-6\u001b[0m  \\\\\n",
      "\u001b[0m\n",
      "0 & 0 &  -8.667 & \u001b[93m:\u001b[0m & \u001b[31;1m1\u001b[0m  \\\\\n",
      "\u001b[0m\n",
      "\u001b[4;95;1m                                                  \u001b[0m\n",
      "\n",
      "1 & 0 & 0 & \u001b[93m:\u001b[0m & \u001b[31;1m  0.192\u001b[0m  \\\\\n",
      "\u001b[0m\n",
      "0 & -3 & 0 & \u001b[93m:\u001b[0m & \u001b[31;1m -6.231\u001b[0m  \\\\\n",
      "\u001b[0m\n",
      "0 & 0 &  -8.667 & \u001b[93m:\u001b[0m & \u001b[31;1m1\u001b[0m  \\\\\n",
      "\u001b[0m\n"
     ]
    },
    {
     "data": {
      "text/plain": [
       "(array([[ 1.        ,  0.        ,  0.        ,  0.19230769],\n",
       "        [ 0.        , -3.        ,  0.        , -6.23076923],\n",
       "        [ 0.        ,  0.        , -8.66666667,  1.        ]]),\n",
       " array([ 0.19230769,  2.07692308, -0.11538462]))"
      ]
     },
     "execution_count": 59,
     "metadata": {},
     "output_type": "execute_result"
    }
   ],
   "source": [
    "diag_latex(A, b)"
   ]
  },
  {
   "cell_type": "code",
   "execution_count": null,
   "id": "through-recorder",
   "metadata": {},
   "outputs": [],
   "source": []
  },
  {
   "cell_type": "code",
   "execution_count": null,
   "id": "exact-murray",
   "metadata": {},
   "outputs": [],
   "source": []
  }
 ],
 "metadata": {
  "kernelspec": {
   "display_name": "Python 3",
   "language": "python",
   "name": "python3"
  },
  "language_info": {
   "codemirror_mode": {
    "name": "ipython",
    "version": 3
   },
   "file_extension": ".py",
   "mimetype": "text/x-python",
   "name": "python",
   "nbconvert_exporter": "python",
   "pygments_lexer": "ipython3",
   "version": "3.8.5"
  }
 },
 "nbformat": 4,
 "nbformat_minor": 5
}
