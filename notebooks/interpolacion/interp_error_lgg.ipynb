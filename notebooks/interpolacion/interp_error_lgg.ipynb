{
 "cells": [
  {
   "cell_type": "markdown",
   "id": "unknown-price",
   "metadata": {},
   "source": [
    "# Ejemplo: error del polinomio interpolante de Lagrange"
   ]
  },
  {
   "cell_type": "code",
   "execution_count": 4,
   "id": "moved-horizontal",
   "metadata": {},
   "outputs": [],
   "source": [
    "import numpy as np\n",
    "from matplotlib import pyplot as plt\n",
    "\n",
    "from numpy.polynomial import polynomial as P\n",
    "from functools import partial\n",
    "import math"
   ]
  },
  {
   "cell_type": "code",
   "execution_count": 5,
   "id": "70f7b9de-4069-4d96-bbb3-8e0cc9ae49b4",
   "metadata": {},
   "outputs": [
    {
     "ename": "ModuleNotFoundError",
     "evalue": "No module named 'interp_tools'",
     "output_type": "error",
     "traceback": [
      "\u001b[1;31m---------------------------------------------------------------------------\u001b[0m",
      "\u001b[1;31mModuleNotFoundError\u001b[0m                       Traceback (most recent call last)",
      "Cell \u001b[1;32mIn[5], line 1\u001b[0m\n\u001b[1;32m----> 1\u001b[0m \u001b[38;5;28;01mimport\u001b[39;00m \u001b[38;5;21;01minterp_tools\u001b[39;00m \u001b[38;5;28;01mas\u001b[39;00m \u001b[38;5;21;01mit\u001b[39;00m\n",
      "\u001b[1;31mModuleNotFoundError\u001b[0m: No module named 'interp_tools'"
     ]
    }
   ],
   "source": [
    "import interp_tools as it\n"
   ]
  },
  {
   "cell_type": "markdown",
   "id": "preceding-awareness",
   "metadata": {},
   "source": [
    "Sea $f(x)=\\frac{1}{x}$ \n",
    "   "
   ]
  },
  {
   "cell_type": "code",
   "execution_count": null,
   "id": "governing-rugby",
   "metadata": {},
   "outputs": [],
   "source": [
    "f = lambda x: 1/x"
   ]
  },
  {
   "cell_type": "markdown",
   "id": "english-nightlife",
   "metadata": {},
   "source": [
    "   y $P(x)$ el polinomio interpolante de Lagrange en los\n",
    "   puntos $x_0=2, x_1=2.75, x_2=4$ (notar que $n=2$).\n",
    "   "
   ]
  },
  {
   "cell_type": "markdown",
   "id": "generic-shade",
   "metadata": {},
   "source": [
    "________"
   ]
  },
  {
   "cell_type": "markdown",
   "id": "detected-chance",
   "metadata": {},
   "source": [
    "#### Datos:"
   ]
  },
  {
   "cell_type": "code",
   "execution_count": 4,
   "id": "promotional-protein",
   "metadata": {},
   "outputs": [],
   "source": [
    "xd = np.array([2, 2.75, 4])"
   ]
  },
  {
   "cell_type": "code",
   "execution_count": 5,
   "id": "middle-donna",
   "metadata": {},
   "outputs": [],
   "source": [
    "# xd = np.array([2, 2.34, 2.87, 3.02, 3.45, 3.48, 4])"
   ]
  },
  {
   "cell_type": "code",
   "execution_count": 6,
   "id": "centered-application",
   "metadata": {},
   "outputs": [],
   "source": [
    "xd = np.linspace(2, 10, 18)"
   ]
  },
  {
   "cell_type": "code",
   "execution_count": 7,
   "id": "hundred-rugby",
   "metadata": {},
   "outputs": [],
   "source": [
    "yd = f(xd)"
   ]
  },
  {
   "cell_type": "code",
   "execution_count": 8,
   "id": "endangered-elite",
   "metadata": {},
   "outputs": [],
   "source": [
    "xi = np.linspace(min(xd), max(xd), 200)\n",
    "ym = f(xi)"
   ]
  },
  {
   "cell_type": "markdown",
   "id": "limiting-respect",
   "metadata": {},
   "source": [
    "_______"
   ]
  },
  {
   "cell_type": "markdown",
   "id": "baking-kruger",
   "metadata": {},
   "source": [
    "#### Interpolación de Lagrange:"
   ]
  },
  {
   "cell_type": "code",
   "execution_count": 9,
   "id": "corrected-conditioning",
   "metadata": {},
   "outputs": [],
   "source": [
    "yl = it.interp_lagrange(xi, xd, yd)"
   ]
  },
  {
   "cell_type": "code",
   "execution_count": 10,
   "id": "chinese-compression",
   "metadata": {},
   "outputs": [
    {
     "data": {
      "text/plain": [
       "<matplotlib.legend.Legend at 0x7f4c5844ab20>"
      ]
     },
     "execution_count": 10,
     "metadata": {},
     "output_type": "execute_result"
    },
    {
     "data": {
      "image/png": "[encoded data removed]",
      "text/plain": [
       "<Figure size 864x432 with 1 Axes>"
      ]
     },
     "metadata": {
      "needs_background": "light"
     },
     "output_type": "display_data"
    }
   ],
   "source": [
    "fig = plt.figure(figsize=(12, 6))\n",
    "ax = fig.add_subplot()\n",
    "ax.plot(xi, yl, linewidth=1.4, linestyle='-', color='orchid', \n",
    "        label='lagrange')\n",
    "ax.plot(xd, yd, marker='o', linestyle='None', color='navy', markersize=5)\n",
    "ax.grid()\n",
    "ax.legend()"
   ]
  },
  {
   "cell_type": "markdown",
   "id": "talented-breed",
   "metadata": {},
   "source": [
    "_____"
   ]
  },
  {
   "cell_type": "markdown",
   "id": "split-conversion",
   "metadata": {},
   "source": [
    "#### Análisis del error"
   ]
  },
  {
   "cell_type": "markdown",
   "id": "sophisticated-visibility",
   "metadata": {},
   "source": [
    "   La función cumple con las hipótesis del teorema, sus derivadas son:\n",
    "\n",
    "   $$f^{(1)}(x) = -\\frac{1}{x^2}, \n",
    "   \\qquad f^{(2)}(x)=2\\frac{1}{x^3}, \n",
    "   \\qquad f^{(3)}(x)=-6\\frac{1}{x^4}$$"
   ]
  },
  {
   "cell_type": "markdown",
   "id": "brazilian-mistake",
   "metadata": {},
   "source": [
    "En general, $$f^{(k)}(x)= (-1)^k k! \\frac{1}{x^{(k+1)}} $$"
   ]
  },
  {
   "cell_type": "markdown",
   "id": "irish-collector",
   "metadata": {},
   "source": [
    "Por el teorema podemos decir que su error $E(x)=f(x)-P(x)$ está dado por:\n",
    "\n",
    "   \\begin{eqnarray*}\n",
    "      E(x)&=\\frac{f^{(n+1)}(\\xi)}{(n+1)!}(x-x_0)(x-x_1)...(x-x_n) \\\\\n",
    "      &=\\frac{f^{(n+1)}(\\xi)}{(n+1)!}(x-2)(x-2.75)(x-4) \\\\\n",
    "      &=\\frac{6}{(\\xi(x))^4 3!}(x-2)(x-2.75)(x-4) \\\\\n",
    "      &=\\frac{1}{\\xi(x)^4}(x-2)(x-2.75)(x-4)\n",
    "   \\end{eqnarray*}\n",
    "\n",
    "para **algún valor de $\\xi(x)$**.\n",
    "Ahora queremos hallar el máximo de $E(x)$ para acotar el error.                   "
   ]
  },
  {
   "cell_type": "markdown",
   "id": "curious-climb",
   "metadata": {},
   "source": [
    "Para eso vamos a considerar **dos factores**:\n",
    "    \n",
    "- $\\frac{1}{\\xi(x)^4}$\n",
    "- $(x-2)(x-2.75)(x-4)$"
   ]
  },
  {
   "cell_type": "markdown",
   "id": "existing-invitation",
   "metadata": {},
   "source": [
    "En general, \n",
    "\n",
    "- $f^{(n+1)}(x) / (n+1)! = \\left[(-1)^{(n+1)} (n+1)! \\frac{1}{x^{(n+2)}}\\right] \\frac{1}{(n+1)!} = (-1)^{(n+1)} \\frac{1}{x^{(n+2)}}$\n",
    "\n",
    "- $(x-x_0)(x-x_1)...(x-x_n)$"
   ]
  },
  {
   "cell_type": "code",
   "execution_count": 11,
   "id": "filled-mexican",
   "metadata": {},
   "outputs": [],
   "source": [
    "def f_xi(x, n):\n",
    "    # (n+1) es el numero de puntos\n",
    "    z = pow(-1, n+1) / pow(x, n+2)\n",
    "    z = abs(z)\n",
    "    return z"
   ]
  },
  {
   "cell_type": "markdown",
   "id": "upset-entrepreneur",
   "metadata": {},
   "source": [
    "Como \n",
    "      $$2 < \\xi(x) < 4$$\n",
    "\n",
    "entonces  $$\\xi(x)^4 \\ge 1/2^4 = 1/16 = 0.0625$$ para todos los $x \\in [2, 4]$"
   ]
  },
  {
   "cell_type": "markdown",
   "id": "assigned-circulation",
   "metadata": {},
   "source": [
    "Ahora consideremos \n",
    "\n",
    "   $$g(x) = 1/16 (x-2)(x-2.75)(x-4)$$\n",
    "\n",
    "Esta función tiene puntos críticos en $7/3$ y $7/2$, y el máximo de su valor\n",
    "   absoluto es $|g(7/2)|=9/16$.\n",
    "\n",
    "   Por lo tanto, \n",
    "\n",
    "   $$E(x)=\\frac{f^{(n+1)}(\\xi)}{(n+1)!}(x-2)(x-2.75)(x-4) \\le \\frac{1}{16}\n",
    "   \\frac{9}{16} = 9/256$$\n",
    "                         "
   ]
  },
  {
   "cell_type": "code",
   "execution_count": 12,
   "id": "played-chile",
   "metadata": {},
   "outputs": [
    {
     "name": "stdout",
     "output_type": "stream",
     "text": [
      "1.9073486328125e-06\n"
     ]
    }
   ],
   "source": [
    "n = len(xd)-1\n",
    "xi_factor = f_xi(2, n)\n",
    "print(xi_factor)"
   ]
  },
  {
   "cell_type": "code",
   "execution_count": 13,
   "id": "electronic-citation",
   "metadata": {},
   "outputs": [
    {
     "data": {
      "text/plain": [
       "[<matplotlib.lines.Line2D at 0x7f4c56380520>]"
      ]
     },
     "execution_count": 13,
     "metadata": {},
     "output_type": "execute_result"
    },
    {
     "data": {
      "image/png": "[encoded data removed]",
      "text/plain": [
       "<Figure size 864x432 with 1 Axes>"
      ]
     },
     "metadata": {
      "needs_background": "light"
     },
     "output_type": "display_data"
    }
   ],
   "source": [
    "fig = plt.figure(figsize=(12, 6))\n",
    "ax = fig.add_subplot()\n",
    "\n",
    "yxi = f_xi(xi, 2)\n",
    "ax.plot(xi, yxi)\n",
    "ax.plot(xi[0], yxi[0], 'o')"
   ]
  },
  {
   "cell_type": "code",
   "execution_count": 14,
   "id": "silver-joining",
   "metadata": {},
   "outputs": [
    {
     "data": {
      "text/plain": [
       "<matplotlib.legend.Legend at 0x7f4c56380a00>"
      ]
     },
     "execution_count": 14,
     "metadata": {},
     "output_type": "execute_result"
    },
    {
     "data": {
      "image/png": "[encoded data removed]",
      "text/plain": [
       "<Figure size 864x432 with 1 Axes>"
      ]
     },
     "metadata": {
      "needs_background": "light"
     },
     "output_type": "display_data"
    }
   ],
   "source": [
    "fig = plt.figure(figsize=(12, 6))\n",
    "ax = fig.add_subplot()\n",
    "\n",
    "# el polinomio g\n",
    "coefs = P.polyfromroots(xd)\n",
    "g = partial(P.polyval, c=coefs)\n",
    "\n",
    "ax.plot(xi, np.absolute(g(xi)), label='función g(x)')\n",
    "ax.grid()\n",
    "ax.legend()"
   ]
  },
  {
   "cell_type": "code",
   "execution_count": 15,
   "id": "electronic-gross",
   "metadata": {},
   "outputs": [],
   "source": [
    "# puntos críticos\n",
    "\n",
    "coefs_prima = P.polyder(coefs)\n",
    "gprima = partial(P.polyval, c=coefs_prima)\n",
    "rs = P.polyroots(coefs_prima)"
   ]
  },
  {
   "cell_type": "code",
   "execution_count": 16,
   "id": "specified-christian",
   "metadata": {},
   "outputs": [
    {
     "data": {
      "text/plain": [
       "<matplotlib.legend.Legend at 0x7f4c56267ca0>"
      ]
     },
     "execution_count": 16,
     "metadata": {},
     "output_type": "execute_result"
    },
    {
     "data": {
      "image/png": "[encoded data removed]",
      "text/plain": [
       "<Figure size 864x432 with 1 Axes>"
      ]
     },
     "metadata": {
      "needs_background": "light"
     },
     "output_type": "display_data"
    }
   ],
   "source": [
    "fig = plt.figure(figsize=(12, 6))\n",
    "ax = fig.add_subplot()\n",
    "ax.plot(xi, gprima(xi), label=r'función g$_x$(x)')\n",
    "for r in rs:\n",
    "    ax.plot(r, gprima(r), 'o', color='k')\n",
    "ax.grid()\n",
    "ax.legend()"
   ]
  },
  {
   "cell_type": "code",
   "execution_count": 17,
   "id": "spectacular-preparation",
   "metadata": {},
   "outputs": [
    {
     "name": "stdout",
     "output_type": "stream",
     "text": [
      "2.1193523381372037\n",
      "2.6149809177580026\n",
      "-45532399.431640625\n",
      "3483374.0\n",
      "-516752.84765625\n",
      "118610.53125\n",
      "-38236.51953125\n",
      "16492.494140625\n",
      "-9060.5078125\n",
      "6852.49609375\n",
      "-5320.818359375\n",
      "8058.296875\n",
      "-7361.978515625\n",
      "22214.2578125\n",
      "-28891.10546875\n",
      "127884.14453125\n",
      "-482586.849609375\n",
      "3538434.908203125\n",
      "-45431204.833984375\n"
     ]
    }
   ],
   "source": [
    "print(rs[0])\n",
    "print(rs[1])\n",
    "for r in rs:\n",
    "    print(g(r))"
   ]
  },
  {
   "cell_type": "code",
   "execution_count": 18,
   "id": "effective-checkout",
   "metadata": {},
   "outputs": [
    {
     "data": {
      "text/plain": [
       "array([4.55323994e+07, 3.48337400e+06, 5.16752848e+05, 1.18610531e+05,\n",
       "       3.82365195e+04, 1.64924941e+04, 9.06050781e+03, 6.85249609e+03,\n",
       "       5.32081836e+03, 8.05829688e+03, 7.36197852e+03, 2.22142578e+04,\n",
       "       2.88911055e+04, 1.27884145e+05, 4.82586850e+05, 3.53843491e+06,\n",
       "       4.54312048e+07])"
      ]
     },
     "execution_count": 18,
     "metadata": {},
     "output_type": "execute_result"
    }
   ],
   "source": [
    "np.absolute(g(rs))"
   ]
  },
  {
   "cell_type": "code",
   "execution_count": 19,
   "id": "chemical-sandwich",
   "metadata": {},
   "outputs": [
    {
     "data": {
      "text/plain": [
       "45532399.431640625"
      ]
     },
     "execution_count": 19,
     "metadata": {},
     "output_type": "execute_result"
    }
   ],
   "source": [
    "rmax = max(np.absolute(g(rs)))\n",
    "rmax"
   ]
  },
  {
   "cell_type": "code",
   "execution_count": 260,
   "id": "strategic-livestock",
   "metadata": {},
   "outputs": [
    {
     "name": "stdout",
     "output_type": "stream",
     "text": [
      "0.035156250000000444\n"
     ]
    }
   ],
   "source": [
    "Em = xi_factor*rmax\n",
    "print(Em)"
   ]
  },
  {
   "cell_type": "code",
   "execution_count": 263,
   "id": "altered-hands",
   "metadata": {},
   "outputs": [
    {
     "data": {
      "image/png": "[encoded data removed]",
      "text/plain": [
       "<Figure size 864x432 with 1 Axes>"
      ]
     },
     "metadata": {
      "needs_background": "light"
     },
     "output_type": "display_data"
    }
   ],
   "source": [
    "fig = plt.figure(figsize=(12, 6))\n",
    "ax = fig.add_subplot()\n",
    "\n",
    "ax.plot(xi, yl-ym, linewidth=3, color='indigo')\n",
    "\n",
    "ax.plot(xd, [0]*len(xd), marker='o', linestyle='None', color='navy',\n",
    "        markersize=8, mfc='white', mec='indigo', mew=2)\n",
    "ax.axhline(Em, color='rebeccapurple', linestyle='--')\n",
    "ax.axhline(-Em, color='rebeccapurple', linestyle='--')\n",
    "ax.set_ylabel('ERROR')\n",
    "ax.set_xlabel('x')\n",
    "ax.grid()"
   ]
  },
  {
   "cell_type": "code",
   "execution_count": null,
   "id": "rubber-demand",
   "metadata": {},
   "outputs": [],
   "source": []
  },
  {
   "cell_type": "code",
   "execution_count": null,
   "id": "positive-keeping",
   "metadata": {},
   "outputs": [],
   "source": []
  },
  {
   "cell_type": "code",
   "execution_count": null,
   "id": "perfect-precipitation",
   "metadata": {},
   "outputs": [],
   "source": []
  },
  {
   "cell_type": "code",
   "execution_count": null,
   "id": "armed-titanium",
   "metadata": {},
   "outputs": [],
   "source": []
  },
  {
   "cell_type": "code",
   "execution_count": null,
   "id": "nuclear-rachel",
   "metadata": {},
   "outputs": [],
   "source": []
  },
  {
   "cell_type": "code",
   "execution_count": null,
   "id": "powerful-accident",
   "metadata": {},
   "outputs": [],
   "source": []
  },
  {
   "cell_type": "code",
   "execution_count": null,
   "id": "departmental-kazakhstan",
   "metadata": {},
   "outputs": [],
   "source": []
  },
  {
   "cell_type": "code",
   "execution_count": null,
   "id": "historic-civilization",
   "metadata": {},
   "outputs": [],
   "source": []
  },
  {
   "cell_type": "code",
   "execution_count": null,
   "id": "modified-amount",
   "metadata": {},
   "outputs": [],
   "source": []
  }
 ],
 "metadata": {
  "kernelspec": {
   "display_name": "Python 3 (ipykernel)",
   "language": "python",
   "name": "python3"
  },
  "language_info": {
   "codemirror_mode": {
    "name": "ipython",
    "version": 3
   },
   "file_extension": ".py",
   "mimetype": "text/x-python",
   "name": "python",
   "nbconvert_exporter": "python",
   "pygments_lexer": "ipython3",
   "version": "3.8.10"
  }
 },
 "nbformat": 4,
 "nbformat_minor": 5
}
