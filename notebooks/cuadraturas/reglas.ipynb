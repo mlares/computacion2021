{
 "cells": [
  {
   "cell_type": "code",
   "execution_count": 7,
   "id": "79566be0-d607-4cc0-9211-bbd32bba0413",
   "metadata": {
    "tags": []
   },
   "outputs": [],
   "source": [
    "import numpy as np"
   ]
  },
  {
   "cell_type": "markdown",
   "id": "46a6c71f-b555-437b-895d-a061ec739fb8",
   "metadata": {},
   "source": [
    "# Implementemos las reglas de cuadratura"
   ]
  },
  {
   "cell_type": "code",
   "execution_count": 8,
   "id": "incorporate-honolulu",
   "metadata": {
    "tags": []
   },
   "outputs": [],
   "source": [
    "def cuad_pmedio(a, b, f):\n",
    "    return (b-a)*f((a+b)/2)"
   ]
  },
  {
   "cell_type": "code",
   "execution_count": 9,
   "id": "f835d141-796c-4ad1-9255-e7f806aee00e",
   "metadata": {
    "tags": []
   },
   "outputs": [],
   "source": [
    "def f(x):\n",
    "    return x*x"
   ]
  },
  {
   "cell_type": "code",
   "execution_count": 10,
   "id": "7ca0cfe8-efb1-4692-bc98-52d63ee583e1",
   "metadata": {
    "tags": []
   },
   "outputs": [
    {
     "data": {
      "text/plain": [
       "9"
      ]
     },
     "execution_count": 10,
     "metadata": {},
     "output_type": "execute_result"
    }
   ],
   "source": [
    "f(3)"
   ]
  },
  {
   "cell_type": "code",
   "execution_count": 11,
   "id": "6edbfef5-d7b3-49b9-b25a-98a32fa4c6fe",
   "metadata": {
    "tags": []
   },
   "outputs": [],
   "source": [
    "t = np.linspace(1, 5, 10)"
   ]
  },
  {
   "cell_type": "code",
   "execution_count": 12,
   "id": "2e7d56a5-2644-4b90-b118-96649610edcd",
   "metadata": {
    "tags": []
   },
   "outputs": [
    {
     "data": {
      "text/plain": [
       "array([ 1.        ,  2.08641975,  3.56790123,  5.44444444,  7.71604938,\n",
       "       10.38271605, 13.44444444, 16.90123457, 20.75308642, 25.        ])"
      ]
     },
     "execution_count": 12,
     "metadata": {},
     "output_type": "execute_result"
    }
   ],
   "source": [
    "f(t)"
   ]
  },
  {
   "cell_type": "code",
   "execution_count": 13,
   "id": "7530a064-d267-46eb-b112-3e6b80524dd0",
   "metadata": {
    "tags": []
   },
   "outputs": [
    {
     "data": {
      "text/plain": [
       "18.0"
      ]
     },
     "execution_count": 13,
     "metadata": {},
     "output_type": "execute_result"
    }
   ],
   "source": [
    "cuad_pmedio(2, 4, f)"
   ]
  },
  {
   "cell_type": "code",
   "execution_count": 14,
   "id": "91556660-688b-4c5c-b805-4b7fe4e30ffc",
   "metadata": {
    "tags": []
   },
   "outputs": [
    {
     "data": {
      "text/plain": [
       "-18.0"
      ]
     },
     "execution_count": 14,
     "metadata": {},
     "output_type": "execute_result"
    }
   ],
   "source": [
    "cuad_pmedio(4, 2, f)"
   ]
  },
  {
   "cell_type": "code",
   "execution_count": null,
   "id": "765d6370-ba5a-4d10-9609-c1f2395751a7",
   "metadata": {},
   "outputs": [],
   "source": []
  },
  {
   "cell_type": "code",
   "execution_count": 17,
   "id": "functioning-cathedral",
   "metadata": {
    "tags": []
   },
   "outputs": [],
   "source": [
    "def cuad_pmedio(a, b, f):\n",
    "    \"\"\"Implementación de la regla del punto medio\n",
    "    \n",
    "    Parameters\n",
    "    ----------\n",
    "    f: La función a integrar\n",
    "    a: Límite inferior del intervalo\n",
    "    b: Límite superior del intervalo\n",
    "    \n",
    "    Returns\n",
    "    -------\n",
    "    aprox: Aproximación de la integral por la regla del punto medio\n",
    "    \n",
    "    Notes\n",
    "    -----\n",
    "    Este código es parte del curso \"Computación\", Famaf\n",
    "    \"\"\"\n",
    "    if a > b:\n",
    "        raise ValueError(\"Oops!  Debe ser a<b\")\n",
    "        \n",
    "    try:\n",
    "        x0 = (a+b)/2\n",
    "        h = f(x0)\n",
    "        aprox = h*(b-a)\n",
    "    except:\n",
    "        print('Error: no fue posible calcular la función')\n",
    "    return aprox"
   ]
  },
  {
   "cell_type": "code",
   "execution_count": 18,
   "id": "5e70cdae-284b-4e95-80dc-d620d7d88488",
   "metadata": {
    "tags": []
   },
   "outputs": [
    {
     "ename": "ValueError",
     "evalue": "Oops!  Debe ser a<b",
     "output_type": "error",
     "traceback": [
      "\u001b[1;31m---------------------------------------------------------------------------\u001b[0m",
      "\u001b[1;31mValueError\u001b[0m                                Traceback (most recent call last)",
      "Cell \u001b[1;32mIn[18], line 1\u001b[0m\n\u001b[1;32m----> 1\u001b[0m \u001b[43mcuad_pmedio\u001b[49m\u001b[43m(\u001b[49m\u001b[38;5;241;43m4\u001b[39;49m\u001b[43m,\u001b[49m\u001b[43m \u001b[49m\u001b[38;5;241;43m2\u001b[39;49m\u001b[43m,\u001b[49m\u001b[43m \u001b[49m\u001b[43mf\u001b[49m\u001b[43m)\u001b[49m\n",
      "Cell \u001b[1;32mIn[17], line 19\u001b[0m, in \u001b[0;36mcuad_pmedio\u001b[1;34m(a, b, f)\u001b[0m\n\u001b[0;32m      2\u001b[0m \u001b[38;5;250m\u001b[39m\u001b[38;5;124;03m\"\"\"Implementación de la regla del punto medio\u001b[39;00m\n\u001b[0;32m      3\u001b[0m \u001b[38;5;124;03m\u001b[39;00m\n\u001b[0;32m      4\u001b[0m \u001b[38;5;124;03mParameters\u001b[39;00m\n\u001b[1;32m   (...)\u001b[0m\n\u001b[0;32m     16\u001b[0m \u001b[38;5;124;03mEste código es parte del curso \"Computación\", Famaf\u001b[39;00m\n\u001b[0;32m     17\u001b[0m \u001b[38;5;124;03m\"\"\"\u001b[39;00m\n\u001b[0;32m     18\u001b[0m \u001b[38;5;28;01mif\u001b[39;00m a \u001b[38;5;241m>\u001b[39m b:\n\u001b[1;32m---> 19\u001b[0m     \u001b[38;5;28;01mraise\u001b[39;00m \u001b[38;5;167;01mValueError\u001b[39;00m(\u001b[38;5;124m\"\u001b[39m\u001b[38;5;124mOops!  Debe ser a<b\u001b[39m\u001b[38;5;124m\"\u001b[39m)\n\u001b[0;32m     21\u001b[0m \u001b[38;5;28;01mtry\u001b[39;00m:\n\u001b[0;32m     22\u001b[0m     x0 \u001b[38;5;241m=\u001b[39m (a\u001b[38;5;241m+\u001b[39mb)\u001b[38;5;241m/\u001b[39m\u001b[38;5;241m2\u001b[39m\n",
      "\u001b[1;31mValueError\u001b[0m: Oops!  Debe ser a<b"
     ]
    }
   ],
   "source": [
    "cuad_pmedio(4, 2, f)"
   ]
  },
  {
   "cell_type": "code",
   "execution_count": 19,
   "id": "found-illness",
   "metadata": {
    "tags": []
   },
   "outputs": [],
   "source": [
    "def cuad_trapecio(a, b, f):\n",
    "    \"\"\"Implementación de la regla del trapecio\n",
    "    \n",
    "    Parameters\n",
    "    ----------\n",
    "    f: La función a integrar\n",
    "    a: Límite inferior del intervalo\n",
    "    b: Límite superior del intervalo\n",
    "    \n",
    "    Returns\n",
    "    -------\n",
    "    aprox: Aproximación de la integral por la regla del trapecio\n",
    "    \n",
    "    Notes\n",
    "    -----\n",
    "    Este código es parte del curso \"Computación\", Famaf\n",
    "    \"\"\"\n",
    "    if a > b:\n",
    "        raise ValueError(\"Oops!  Debe ser a<b\")\n",
    "        return None\n",
    "    try:\n",
    "        h = f(a) + f(b)\n",
    "        aprox = (b-a)/2*h\n",
    "    except:\n",
    "        print('Error: no fue posible calcular la función')\n",
    "    return aprox"
   ]
  },
  {
   "cell_type": "code",
   "execution_count": 20,
   "id": "accomplished-reducing",
   "metadata": {
    "tags": []
   },
   "outputs": [],
   "source": [
    "def cuad_simpson(a, b, f):\n",
    "    \"\"\"Implementación de la regla de Simpson\n",
    "    \n",
    "    Parameters\n",
    "    ----------\n",
    "    f: La función a integrar\n",
    "    a: Límite inferior del intervalo\n",
    "    b: Límite superior del intervalo\n",
    "    \n",
    "    Returns\n",
    "    -------\n",
    "    aprox: Aproximación de la integral por la regla de Simpson\n",
    "    \n",
    "    Notes\n",
    "    -----\n",
    "    Este código es parte del curso \"Computación\", Famaf\n",
    "    \"\"\"\n",
    "    if a > b:\n",
    "        raise ValueError(\"Oops!  Debe ser a<b\")\n",
    "        return None\n",
    "    try:\n",
    "        x0 = (a+b)/2\n",
    "        h = f(a) + f(b) + 4*f(x0)\n",
    "        aprox = (b-a)/6*h\n",
    "    except:\n",
    "        print('Error: no fue posible calcular la función')\n",
    "    return aprox"
   ]
  },
  {
   "cell_type": "markdown",
   "id": "vulnerable-prairie",
   "metadata": {},
   "source": [
    "_____\n",
    "TESTING"
   ]
  },
  {
   "cell_type": "code",
   "execution_count": 21,
   "id": "technical-class",
   "metadata": {
    "tags": []
   },
   "outputs": [
    {
     "name": "stdout",
     "output_type": "stream",
     "text": [
      "La regla del punto medio da como resultado: 2.25\n",
      "La regla del trapecio da como resultado: 2.5\n",
      "La regla de simpson da como resultado: 2.333333333333333\n"
     ]
    }
   ],
   "source": [
    "def f(x):\n",
    "    return x**2\n",
    "\n",
    "I = cuad_pmedio(1, 2, f)\n",
    "print(f'La regla del punto medio da como resultado: {I}')\n",
    "\n",
    "I = cuad_trapecio(1, 2, f)\n",
    "print(f'La regla del trapecio da como resultado: {I}')\n",
    "\n",
    "I = cuad_simpson(1, 2, f)\n",
    "print(f'La regla de simpson da como resultado: {I}')"
   ]
  },
  {
   "cell_type": "code",
   "execution_count": 22,
   "id": "auburn-seafood",
   "metadata": {
    "tags": []
   },
   "outputs": [
    {
     "data": {
      "text/plain": [
       "2.3333333333333335"
      ]
     },
     "execution_count": 22,
     "metadata": {},
     "output_type": "execute_result"
    }
   ],
   "source": [
    "7/3"
   ]
  },
  {
   "cell_type": "markdown",
   "id": "military-drilling",
   "metadata": {},
   "source": [
    "Ahora vamos a preparar las funciones para que acepten los valores"
   ]
  },
  {
   "cell_type": "code",
   "execution_count": 27,
   "id": "portable-connectivity",
   "metadata": {
    "tags": []
   },
   "outputs": [],
   "source": [
    "def cuad_pmedio(a, b, y0):\n",
    "    \"\"\"Implementación de la regla del punto medio\n",
    "    \n",
    "    Parameters\n",
    "    ----------\n",
    "    y0: f evaluada en x0=(a+b)/2\n",
    "    a: Límite inferior del intervalo\n",
    "    b: Límite superior del intervalo\n",
    "    \n",
    "    Returns\n",
    "    -------\n",
    "    aprox: Aproximación de la integral por la regla del punto medio\n",
    "    \n",
    "    Notes\n",
    "    -----\n",
    "    Este código es parte del curso \"Computación\", Famaf\n",
    "    \"\"\"\n",
    "    try:\n",
    "        x0 = (a+b)/2\n",
    "        aprox = x0*y0\n",
    "    except:\n",
    "        print('Error: no fue posible calcular la función')\n",
    "    return aprox"
   ]
  },
  {
   "cell_type": "code",
   "execution_count": 28,
   "id": "decent-scott",
   "metadata": {
    "tags": []
   },
   "outputs": [
    {
     "data": {
      "text/plain": [
       "0.25"
      ]
     },
     "execution_count": 28,
     "metadata": {},
     "output_type": "execute_result"
    }
   ],
   "source": [
    "cuad_pmedio(0, 1, 0.5)"
   ]
  },
  {
   "cell_type": "code",
   "execution_count": 29,
   "id": "operational-scout",
   "metadata": {
    "tags": []
   },
   "outputs": [],
   "source": [
    "x = None"
   ]
  },
  {
   "cell_type": "code",
   "execution_count": 30,
   "id": "permanent-revelation",
   "metadata": {
    "tags": []
   },
   "outputs": [
    {
     "data": {
      "text/plain": [
       "False"
      ]
     },
     "execution_count": 30,
     "metadata": {},
     "output_type": "execute_result"
    }
   ],
   "source": [
    "x is not None"
   ]
  },
  {
   "cell_type": "markdown",
   "id": "employed-administration",
   "metadata": {},
   "source": [
    "¿Qué pasa si tenemos la posibilidad de tener la función o los datos?"
   ]
  },
  {
   "cell_type": "code",
   "execution_count": 31,
   "id": "unlimited-antarctica",
   "metadata": {
    "tags": []
   },
   "outputs": [],
   "source": [
    "def cuad_pmedio(a, b, G=None, y0=None):\n",
    "    \"\"\"Implementación de la regla del punto medio\n",
    "    \n",
    "    Parameters\n",
    "    ----------\n",
    "    a: float\n",
    "       Límite inferior del intervalo\n",
    "    b: float\n",
    "       Límite superior del intervalo\n",
    "    G: function (1 parameter)\n",
    "       La función a integrar\n",
    "    y0: float\n",
    "       El valor de y en el punto medio.\n",
    "    \n",
    "    Returns\n",
    "    -------\n",
    "    aprox: Aproximación de la integral por la regla del punto medio\n",
    "    \n",
    "    Notes\n",
    "    -----\n",
    "    Este código es parte del curso \"Computación\", Famaf\n",
    "    \"\"\"\n",
    "    if a > b:\n",
    "        raise ValueError(\"Oops!  Debe ser a<b\")\n",
    "\n",
    "    x0 = (a+b)/2\n",
    "    if (G is None) and (y0 is not None):\n",
    "            aprox = x0*y0\n",
    "    elif (G is not None) and (y0 is None):            \n",
    "        try:\n",
    "            h = G(x0)\n",
    "        except:\n",
    "            print(('Error: no fue posible calcular la función'\n",
    "                   ' Si desea ingresar un dato use y0='))\n",
    "        aprox = h*(b-a)\n",
    "\n",
    "    else:\n",
    "        raise ValueError(\"Debe ingresar la función o los datos!\")            \n",
    "            \n",
    "    return aprox"
   ]
  },
  {
   "cell_type": "code",
   "execution_count": 32,
   "id": "changing-directive",
   "metadata": {
    "tags": []
   },
   "outputs": [
    {
     "data": {
      "text/plain": [
       "0.25"
      ]
     },
     "execution_count": 32,
     "metadata": {},
     "output_type": "execute_result"
    }
   ],
   "source": [
    "cuad_pmedio(0, 1, y0=0.5)"
   ]
  },
  {
   "cell_type": "code",
   "execution_count": 33,
   "id": "accomplished-immune",
   "metadata": {
    "tags": []
   },
   "outputs": [
    {
     "data": {
      "text/plain": [
       "0.25"
      ]
     },
     "execution_count": 33,
     "metadata": {},
     "output_type": "execute_result"
    }
   ],
   "source": [
    "cuad_pmedio(0, 1, G=f)"
   ]
  },
  {
   "cell_type": "code",
   "execution_count": 34,
   "id": "excessive-strain",
   "metadata": {
    "tags": []
   },
   "outputs": [],
   "source": [
    "def cuad_trapecio(x0, x1, f=None, y0=None, y1=None):\n",
    "    \"\"\"Implementación de la regla del trapecio\n",
    "    \n",
    "    Parameters\n",
    "    ----------\n",
    "    x0: float\n",
    "       Límite inferior del intervalo\n",
    "    x1: float\n",
    "       Límite superior del intervalo\n",
    "    f: function (1 parameter)\n",
    "       La función a integrar\n",
    "    y0: float\n",
    "       El valor de y en el punto medio.\n",
    "    y1: float\n",
    "       El valor de y en el punto medio.\n",
    "\n",
    "    \n",
    "    Returns\n",
    "    -------\n",
    "    aprox: Aproximación de la integral por la regla del punto medio\n",
    "    \n",
    "    Notes\n",
    "    -----\n",
    "    Este código es parte del curso \"Computación\", Famaf\n",
    "    Uso:  \n",
    "        cuad_trapecio(x0, x1, f=f)\n",
    "        cuad_trapecio(x0, x1, y0=f(x0), y1=f(x1))\n",
    "    \"\"\"\n",
    "    if x0 > x1:\n",
    "        raise ValueError(\"Oops!  Debe ser a<b\")\n",
    "\n",
    "    if (f is None) and (y0 is not None) and (y1 is not None):\n",
    "            aprox = (x1-x0)*(y0+y1)/2\n",
    "    elif (f is not None) and (y0 is None):            \n",
    "        try:\n",
    "            y0 = f(x0)\n",
    "            y1 = f(x1)\n",
    "        except:\n",
    "            print(('Error: no fue posible calcular la función'\n",
    "                   ' Si desea ingresar un dato use y0='))\n",
    "        aprox = (x1-x0)*(y0+y1)/2\n",
    "\n",
    "    else:\n",
    "        raise ValueError(\"Debe ingresar la función o los datos!\")            \n",
    "            \n",
    "    return aprox"
   ]
  },
  {
   "cell_type": "code",
   "execution_count": 38,
   "id": "intended-nicholas",
   "metadata": {
    "tags": []
   },
   "outputs": [
    {
     "data": {
      "text/plain": [
       "0.5"
      ]
     },
     "execution_count": 38,
     "metadata": {},
     "output_type": "execute_result"
    }
   ],
   "source": [
    "cuad_trapecio(0, 1, f)"
   ]
  },
  {
   "cell_type": "code",
   "execution_count": 39,
   "id": "integrated-russian",
   "metadata": {
    "tags": []
   },
   "outputs": [
    {
     "data": {
      "text/plain": [
       "0.5"
      ]
     },
     "execution_count": 39,
     "metadata": {},
     "output_type": "execute_result"
    }
   ],
   "source": [
    "cuad_trapecio(0, 1, y0=f(0), y1=f(1))"
   ]
  },
  {
   "cell_type": "markdown",
   "id": "jewish-equivalent",
   "metadata": {},
   "source": [
    "#### Ahora veamos si podemos hacer que la funcion \"se de cuenta\" de si le pasamos la funcion o los datos"
   ]
  },
  {
   "cell_type": "code",
   "execution_count": 44,
   "id": "challenging-benefit",
   "metadata": {
    "tags": []
   },
   "outputs": [],
   "source": [
    "def funcion(a, b=None, c=None, d=None, e=None):\n",
    "    print(a)"
   ]
  },
  {
   "cell_type": "code",
   "execution_count": 45,
   "id": "3491ac76-ade2-48fd-bb09-1edc00f34a10",
   "metadata": {
    "tags": []
   },
   "outputs": [
    {
     "name": "stdout",
     "output_type": "stream",
     "text": [
      "2\n"
     ]
    }
   ],
   "source": [
    "funcion(2)"
   ]
  },
  {
   "cell_type": "code",
   "execution_count": 46,
   "id": "8a921a8c-49cb-451f-a802-7f5ae35409e1",
   "metadata": {
    "tags": []
   },
   "outputs": [
    {
     "name": "stdout",
     "output_type": "stream",
     "text": [
      "hola mundo\n"
     ]
    }
   ],
   "source": [
    "funcion('hola mundo')"
   ]
  },
  {
   "cell_type": "code",
   "execution_count": 47,
   "id": "a74c220f-6c54-4d49-9516-a54659fa9060",
   "metadata": {
    "tags": []
   },
   "outputs": [
    {
     "name": "stdout",
     "output_type": "stream",
     "text": [
      "hola mundo\n"
     ]
    }
   ],
   "source": [
    "funcion('hola mundo', 3, 4, 5)"
   ]
  },
  {
   "cell_type": "code",
   "execution_count": 54,
   "id": "a049f7a9-2b64-41ff-9863-550a2a97a855",
   "metadata": {
    "tags": []
   },
   "outputs": [],
   "source": [
    "def funcion(a, b=None, c=None, d=None, e=None):\n",
    "    print(a)\n",
    "    if b is not None:\n",
    "        print(b)\n",
    "    if c is not None:\n",
    "        print(c)\n",
    "    if d is not None:\n",
    "        print(d)\n",
    "    if e is not None:\n",
    "        print(e)        "
   ]
  },
  {
   "cell_type": "code",
   "execution_count": 55,
   "id": "94cd437b-fdea-4701-8f48-8a8123f45977",
   "metadata": {
    "tags": []
   },
   "outputs": [
    {
     "name": "stdout",
     "output_type": "stream",
     "text": [
      "hola mundo\n",
      "3\n",
      "4\n",
      "5\n"
     ]
    }
   ],
   "source": [
    "funcion('hola mundo', 3, 4, 5)"
   ]
  },
  {
   "cell_type": "code",
   "execution_count": 57,
   "id": "85567375-6941-4ffa-bc42-1803f6e3546d",
   "metadata": {
    "tags": []
   },
   "outputs": [],
   "source": [
    "def funcion(a, *args):\n",
    "    print(a)\n",
    "    for arg in args:\n",
    "        print(arg)"
   ]
  },
  {
   "cell_type": "code",
   "execution_count": 58,
   "id": "39a7e670-672d-48a3-8bd4-e92f482ab54e",
   "metadata": {
    "tags": []
   },
   "outputs": [
    {
     "name": "stdout",
     "output_type": "stream",
     "text": [
      "hola mundo\n",
      "3\n",
      "4\n",
      "5\n"
     ]
    }
   ],
   "source": [
    "funcion('hola mundo', 3, 4, 5)"
   ]
  },
  {
   "cell_type": "code",
   "execution_count": 59,
   "id": "1d087b1b-8a9c-4f68-9eb8-1433b9baa50a",
   "metadata": {
    "tags": []
   },
   "outputs": [
    {
     "name": "stdout",
     "output_type": "stream",
     "text": [
      "hola mundo\n",
      "3\n",
      "4\n",
      "5\n",
      "2\n",
      "12\n",
      "13\n",
      "14\n",
      "15\n",
      "16\n"
     ]
    }
   ],
   "source": [
    "funcion('hola mundo', 3, 4, 5, 2, 12, 13, 14, 15, 16)"
   ]
  },
  {
   "cell_type": "code",
   "execution_count": null,
   "id": "c18302f9-bb11-4e99-9c23-680018e6f2f1",
   "metadata": {},
   "outputs": [],
   "source": []
  },
  {
   "cell_type": "code",
   "execution_count": null,
   "id": "f3f930bc-0c44-4d2d-b1e1-bc3b1fcc76ce",
   "metadata": {},
   "outputs": [],
   "source": []
  },
  {
   "cell_type": "code",
   "execution_count": 60,
   "id": "hollow-cabinet",
   "metadata": {
    "tags": []
   },
   "outputs": [],
   "source": [
    "def contar_argumentos(func):\n",
    "    def inner(*args, **kwargs):\n",
    "        nargs_in = len(args) + len(kwargs)\n",
    "        return func(*args, **kwargs, nargs_in=nargs_in)\n",
    "    return inner"
   ]
  },
  {
   "cell_type": "code",
   "execution_count": 61,
   "id": "ee44e3d5-c75d-4ef2-bf17-dc639fa8fcca",
   "metadata": {
    "tags": []
   },
   "outputs": [
    {
     "name": "stdout",
     "output_type": "stream",
     "text": [
      "1\n"
     ]
    },
    {
     "data": {
      "text/plain": [
       "<function __main__.contar_argumentos.<locals>.inner(*args, **kwargs)>"
      ]
     },
     "execution_count": 61,
     "metadata": {},
     "output_type": "execute_result"
    }
   ],
   "source": [
    "contar_argumentos(funcion(1))"
   ]
  },
  {
   "cell_type": "code",
   "execution_count": 64,
   "id": "ced43a61-191e-4604-8755-f0141352e7ff",
   "metadata": {
    "tags": []
   },
   "outputs": [
    {
     "name": "stdout",
     "output_type": "stream",
     "text": [
      "1\n",
      "2\n",
      "3\n"
     ]
    },
    {
     "data": {
      "text/plain": [
       "<function __main__.contar_argumentos.<locals>.inner(*args, **kwargs)>"
      ]
     },
     "execution_count": 64,
     "metadata": {},
     "output_type": "execute_result"
    }
   ],
   "source": [
    "contar_argumentos(funcion(1, 2, 3))"
   ]
  },
  {
   "cell_type": "code",
   "execution_count": null,
   "id": "2310d316-2db3-4c84-af4f-e6ab76330286",
   "metadata": {},
   "outputs": [],
   "source": []
  },
  {
   "cell_type": "code",
   "execution_count": null,
   "id": "aabe2d7e-928f-44ca-9f45-6794cd95989c",
   "metadata": {},
   "outputs": [],
   "source": []
  },
  {
   "cell_type": "code",
   "execution_count": 65,
   "id": "polish-fitting",
   "metadata": {
    "tags": []
   },
   "outputs": [],
   "source": [
    "@contar_argumentos\n",
    "def cuad_trapecio(x0, x1, f=None, y0=None, y1=None, nargs_in=None):\n",
    "    \"\"\"Implementación de la regla del trapecio\n",
    "    \n",
    "    Parameters\n",
    "    ----------\n",
    "    x0: float\n",
    "       Límite inferior del intervalo\n",
    "    x1: float\n",
    "       Límite superior del intervalo\n",
    "    f: function (1 parameter)\n",
    "       La función a integrar\n",
    "    y0: float\n",
    "       El valor de y en el punto medio.\n",
    "    y1: float\n",
    "       El valor de y en el punto medio.\n",
    "\n",
    "    \n",
    "    Returns\n",
    "    -------\n",
    "    aprox: Aproximación de la integral por la regla del punto medio\n",
    "    \n",
    "    Notes\n",
    "    -----\n",
    "    Este código es parte del curso \"Computación\", Famaf\n",
    "    Uso:  \n",
    "        cuad_trapecio(x0, x1, f=f)\n",
    "        cuad_trapecio(x0, x1, y0=f(x0), y1=f(x1))\n",
    "    \"\"\"\n",
    "    if nargs_in==4:\n",
    "        y1=y0        \n",
    "        y0=f\n",
    "        f = None\n",
    "    elif nargs_in==3:\n",
    "        if type(f) is float:        \n",
    "            raise ValueError(\"Verificar los argumentos\")\n",
    "    else:\n",
    "        raise ValueError(\"Verificar el número de argumentos\")\n",
    "            \n",
    "    if x0 > x1:\n",
    "        raise ValueError(\"Oops!  Debe ser a<b\")\n",
    "\n",
    "    if (f is None) and (y0 is not None) and (y1 is not None):\n",
    "            aprox = (x1-x0)*(y0+y1)/2\n",
    "    elif (f is not None) and (y0 is None):            \n",
    "        try:\n",
    "            y0 = f(x0)\n",
    "            y1 = f(x1)\n",
    "        except:\n",
    "            print(('Error: no fue posible calcular la función'\n",
    "                   ' Si desea ingresar un dato use y0='))\n",
    "        aprox = (x1-x0)*(y0+y1)/2\n",
    "\n",
    "    else:\n",
    "        raise ValueError(\"Debe ingresar la función o los datos!\")            \n",
    "            \n",
    "    return aprox"
   ]
  },
  {
   "cell_type": "code",
   "execution_count": 66,
   "id": "urban-module",
   "metadata": {
    "tags": []
   },
   "outputs": [
    {
     "data": {
      "text/plain": [
       "0.5"
      ]
     },
     "execution_count": 66,
     "metadata": {},
     "output_type": "execute_result"
    }
   ],
   "source": [
    "cuad_trapecio(0, 1, f)"
   ]
  },
  {
   "cell_type": "code",
   "execution_count": 67,
   "id": "native-processing",
   "metadata": {
    "tags": []
   },
   "outputs": [
    {
     "data": {
      "text/plain": [
       "0.5"
      ]
     },
     "execution_count": 67,
     "metadata": {},
     "output_type": "execute_result"
    }
   ],
   "source": [
    "cuad_trapecio(0, 1, f(0), f(1))"
   ]
  },
  {
   "cell_type": "code",
   "execution_count": 55,
   "id": "northern-gates",
   "metadata": {},
   "outputs": [],
   "source": [
    "@contar_argumentos\n",
    "def cuad_simpson(x0, x2, f=None, y0=None, y1=None, y2=None, nargs_in=None):\n",
    "    \"\"\"Implementación de la regla de simpson\n",
    "    \n",
    "    Parameters\n",
    "    ----------\n",
    "    x0: float\n",
    "       Límite inferior del intervalo\n",
    "    x2: float\n",
    "       Límite superior del intervalo\n",
    "    f: function (1 parameter)\n",
    "       La función a integrar\n",
    "    y0: float\n",
    "       El valor de y en el punto medio.\n",
    "    y2: float\n",
    "       El valor de y en el punto medio.\n",
    "    \n",
    "    Returns\n",
    "    -------\n",
    "    aprox: Aproximación de la integral por la regla de Simpson\n",
    "    \n",
    "    Notes\n",
    "    -----\n",
    "    Este código es parte del curso \"Computación\", Famaf\n",
    "    Uso:  \n",
    "        cuad_simpson(x0, x2, f=f)\n",
    "        cuad_simpson(x0, x2, y0=f(x0), y2=f(x2))\n",
    "        cuad_simpson(x0, x2, f)\n",
    "        cuad_simpson(x0, x2, y0, y2)\n",
    "    \"\"\"\n",
    "    \n",
    "    if nargs_in==5:\n",
    "        y2=y1\n",
    "        y1=y0\n",
    "        y0=f\n",
    "        f = None\n",
    "    elif nargs_in==3:\n",
    "        if type(f) is float:        \n",
    "            raise ValueError(\"Verificar los argumentos\")\n",
    "    else:\n",
    "        raise ValueError(\"Verificar el número de argumentos\")\n",
    "            \n",
    "    if x0 > x2:\n",
    "        raise ValueError(\"Oops!  Debe ser a<b\")\n",
    "        \n",
    "    x1 = (x0+x2)/2\n",
    "\n",
    "    if (f is None) and (y0 is not None) and (y1 is not None):\n",
    "            aprox = (x2-x0)/6 * (y0 + 4*y1 + y2)\n",
    "    elif (f is not None) and (y0 is None):            \n",
    "        try:\n",
    "            y0 = f(x0)\n",
    "            y1 = f(x1)\n",
    "            y2 = f(x2)\n",
    "        except:\n",
    "            print(('Error: no fue posible calcular la función'\n",
    "                   ' Si desea ingresar un dato use y0='))\n",
    "        aprox = (x2-x0)/6 * (y0 + 4*y1 + y2)\n",
    "\n",
    "    else:\n",
    "        raise ValueError(\"Debe ingresar la función o los datos!\")            \n",
    "            \n",
    "    return aprox"
   ]
  },
  {
   "cell_type": "code",
   "execution_count": 56,
   "id": "elegant-mongolia",
   "metadata": {},
   "outputs": [
    {
     "data": {
      "text/plain": [
       "0.3333333333333333"
      ]
     },
     "execution_count": 56,
     "metadata": {},
     "output_type": "execute_result"
    }
   ],
   "source": [
    "cuad_simpson(0, 1, f)"
   ]
  },
  {
   "cell_type": "code",
   "execution_count": 57,
   "id": "provincial-checkout",
   "metadata": {},
   "outputs": [
    {
     "data": {
      "text/plain": [
       "0.3333333333333333"
      ]
     },
     "execution_count": 57,
     "metadata": {},
     "output_type": "execute_result"
    }
   ],
   "source": [
    "cuad_simpson(0, 1, f(0), f(0.5), f(1))"
   ]
  },
  {
   "cell_type": "code",
   "execution_count": null,
   "id": "incredible-transfer",
   "metadata": {},
   "outputs": [],
   "source": []
  },
  {
   "cell_type": "markdown",
   "id": "terminal-yesterday",
   "metadata": {},
   "source": [
    "______\n",
    "# Reglas compuestas"
   ]
  },
  {
   "cell_type": "code",
   "execution_count": 68,
   "id": "confirmed-liberia",
   "metadata": {
    "tags": []
   },
   "outputs": [],
   "source": [
    "import numpy as np\n",
    "x = np.linspace(0, 10, 11)"
   ]
  },
  {
   "cell_type": "code",
   "execution_count": 69,
   "id": "accepted-houston",
   "metadata": {
    "tags": []
   },
   "outputs": [
    {
     "data": {
      "text/plain": [
       "array([ 0.,  1.,  2.,  3.,  4.,  5.,  6.,  7.,  8.,  9., 10.])"
      ]
     },
     "execution_count": 69,
     "metadata": {},
     "output_type": "execute_result"
    }
   ],
   "source": [
    "x"
   ]
  },
  {
   "cell_type": "code",
   "execution_count": 70,
   "id": "immune-nebraska",
   "metadata": {
    "tags": []
   },
   "outputs": [
    {
     "data": {
      "text/plain": [
       "array([1., 1., 1., 1., 1., 1., 1., 1., 1., 1.])"
      ]
     },
     "execution_count": 70,
     "metadata": {},
     "output_type": "execute_result"
    }
   ],
   "source": [
    "np.diff(x)"
   ]
  },
  {
   "cell_type": "code",
   "execution_count": 71,
   "id": "political-radar",
   "metadata": {
    "tags": []
   },
   "outputs": [],
   "source": [
    "def cuad_simpson_compuesta(x, f=None, y=None):\n",
    "    \"\"\"Implementación de la regla de simpson\n",
    "    \n",
    "    Parameters\n",
    "    ----------\n",
    "    x: list or array\n",
    "       Lista de valores de x\n",
    "    f: function (1 parameter)\n",
    "       La función a integrar\n",
    "    y: list or array\n",
    "       La lista de valores de y\n",
    "    \n",
    "    Returns\n",
    "    -------\n",
    "    aprox: Aproximación de la integral por la regla de Simpson\n",
    "    \n",
    "    Notes\n",
    "    -----\n",
    "    Este código es parte del curso \"Computación\", Famaf\n",
    "    Uso:  \n",
    "        cuad_simpson(x, y=y)\n",
    "        cuad_simpson(x, f=f)\n",
    "    \"\"\"\n",
    "    import numpy as np\n",
    "\n",
    "    # Primero verificar si la particion es regular    \n",
    "    x = np.array(x)\n",
    "    x.sort()    \n",
    "    H = (max(x) - min(x))/(len(x)-1)\n",
    "    equiesp = np.std(np.diff(x)) < H*1.e-6\n",
    "    \n",
    "    # Calcular los valores de y (si se pasó una función)\n",
    "    if (y is None) and (f is not None):\n",
    "        y = f(x)\n",
    "        \n",
    "    n = len(x)\n",
    "    \n",
    "    if equiesp:        \n",
    "        impares = y[1:-1:2].sum()\n",
    "        pares = y[2:-1:2].sum()        \n",
    "        H = y[0] + 2*pares + 4*impares + y[-1] \n",
    "        H = H / (3*n)\n",
    "        aprox = (x[-1]-x[0])*H\n",
    "    else:\n",
    "        aprox = 0\n",
    "        for i in range(0, len(x)-2, 2):\n",
    "            aprox += cuad_simpson(x[i], x[i+2], y[i], y[i+1], y[i+2])\n",
    "            \n",
    "    return aprox"
   ]
  },
  {
   "cell_type": "code",
   "execution_count": 72,
   "id": "personalized-rugby",
   "metadata": {
    "tags": []
   },
   "outputs": [],
   "source": [
    "def f(x):\n",
    "    return x**2"
   ]
  },
  {
   "cell_type": "code",
   "execution_count": 73,
   "id": "national-hampton",
   "metadata": {
    "tags": []
   },
   "outputs": [],
   "source": [
    "x = np.linspace(0, 1, 999)\n",
    "xr = np.random.uniform(0, 1, 1000)\n",
    "y = f(x)\n",
    "yr = f(xr)"
   ]
  },
  {
   "cell_type": "code",
   "execution_count": 74,
   "id": "civil-fireplace",
   "metadata": {
    "tags": []
   },
   "outputs": [
    {
     "data": {
      "text/plain": [
       "0.3329996663329996"
      ]
     },
     "execution_count": 74,
     "metadata": {},
     "output_type": "execute_result"
    }
   ],
   "source": [
    "cuad_simpson_compuesta(x, y=y)"
   ]
  },
  {
   "cell_type": "code",
   "execution_count": 75,
   "id": "entitled-personality",
   "metadata": {
    "tags": []
   },
   "outputs": [
    {
     "ename": "TypeError",
     "evalue": "cuad_simpson() takes 3 positional arguments but 5 were given",
     "output_type": "error",
     "traceback": [
      "\u001b[1;31m---------------------------------------------------------------------------\u001b[0m",
      "\u001b[1;31mTypeError\u001b[0m                                 Traceback (most recent call last)",
      "Cell \u001b[1;32mIn[75], line 1\u001b[0m\n\u001b[1;32m----> 1\u001b[0m \u001b[43mcuad_simpson_compuesta\u001b[49m\u001b[43m(\u001b[49m\u001b[43mxr\u001b[49m\u001b[43m,\u001b[49m\u001b[43m \u001b[49m\u001b[43my\u001b[49m\u001b[38;5;241;43m=\u001b[39;49m\u001b[43myr\u001b[49m\u001b[43m)\u001b[49m\n",
      "Cell \u001b[1;32mIn[71], line 47\u001b[0m, in \u001b[0;36mcuad_simpson_compuesta\u001b[1;34m(x, f, y)\u001b[0m\n\u001b[0;32m     45\u001b[0m     aprox \u001b[38;5;241m=\u001b[39m \u001b[38;5;241m0\u001b[39m\n\u001b[0;32m     46\u001b[0m     \u001b[38;5;28;01mfor\u001b[39;00m i \u001b[38;5;129;01min\u001b[39;00m \u001b[38;5;28mrange\u001b[39m(\u001b[38;5;241m0\u001b[39m, \u001b[38;5;28mlen\u001b[39m(x)\u001b[38;5;241m-\u001b[39m\u001b[38;5;241m2\u001b[39m, \u001b[38;5;241m2\u001b[39m):\n\u001b[1;32m---> 47\u001b[0m         aprox \u001b[38;5;241m+\u001b[39m\u001b[38;5;241m=\u001b[39m \u001b[43mcuad_simpson\u001b[49m\u001b[43m(\u001b[49m\u001b[43mx\u001b[49m\u001b[43m[\u001b[49m\u001b[43mi\u001b[49m\u001b[43m]\u001b[49m\u001b[43m,\u001b[49m\u001b[43m \u001b[49m\u001b[43mx\u001b[49m\u001b[43m[\u001b[49m\u001b[43mi\u001b[49m\u001b[38;5;241;43m+\u001b[39;49m\u001b[38;5;241;43m2\u001b[39;49m\u001b[43m]\u001b[49m\u001b[43m,\u001b[49m\u001b[43m \u001b[49m\u001b[43my\u001b[49m\u001b[43m[\u001b[49m\u001b[43mi\u001b[49m\u001b[43m]\u001b[49m\u001b[43m,\u001b[49m\u001b[43m \u001b[49m\u001b[43my\u001b[49m\u001b[43m[\u001b[49m\u001b[43mi\u001b[49m\u001b[38;5;241;43m+\u001b[39;49m\u001b[38;5;241;43m1\u001b[39;49m\u001b[43m]\u001b[49m\u001b[43m,\u001b[49m\u001b[43m \u001b[49m\u001b[43my\u001b[49m\u001b[43m[\u001b[49m\u001b[43mi\u001b[49m\u001b[38;5;241;43m+\u001b[39;49m\u001b[38;5;241;43m2\u001b[39;49m\u001b[43m]\u001b[49m\u001b[43m)\u001b[49m\n\u001b[0;32m     49\u001b[0m \u001b[38;5;28;01mreturn\u001b[39;00m aprox\n",
      "\u001b[1;31mTypeError\u001b[0m: cuad_simpson() takes 3 positional arguments but 5 were given"
     ]
    }
   ],
   "source": [
    "cuad_simpson_compuesta(xr, y=yr)"
   ]
  },
  {
   "cell_type": "code",
   "execution_count": 76,
   "id": "objective-causing",
   "metadata": {
    "tags": []
   },
   "outputs": [
    {
     "data": {
      "text/plain": [
       "0.3329996663329996"
      ]
     },
     "execution_count": 76,
     "metadata": {},
     "output_type": "execute_result"
    }
   ],
   "source": [
    "cuad_simpson_compuesta(x, f=f)"
   ]
  },
  {
   "cell_type": "markdown",
   "id": "fc933f39-2b1c-4350-9abb-0c13cc2f5bb0",
   "metadata": {},
   "source": [
    "______\n",
    "# Integrar con otras herramientas"
   ]
  },
  {
   "cell_type": "code",
   "execution_count": 469,
   "id": "synthetic-terrace",
   "metadata": {},
   "outputs": [],
   "source": [
    "from scipy import integrate"
   ]
  },
  {
   "cell_type": "code",
   "execution_count": 495,
   "id": "administrative-proposition",
   "metadata": {},
   "outputs": [
    {
     "data": {
      "text/plain": [
       "(0.33333333333333337, 3.700743415417189e-15)"
      ]
     },
     "execution_count": 495,
     "metadata": {},
     "output_type": "execute_result"
    }
   ],
   "source": [
    "integrate.quad(f, 0, 1)"
   ]
  },
  {
   "cell_type": "markdown",
   "id": "convertible-validity",
   "metadata": {},
   "source": [
    "##### Otra opción sería dar el intervalo y la función, e ir achicando la norma de la partición hasta que el error sea menor que algún valor dado."
   ]
  },
  {
   "cell_type": "code",
   "execution_count": 77,
   "id": "stuck-liquid",
   "metadata": {
    "tags": []
   },
   "outputs": [],
   "source": [
    "def cuad_simpson_compuesta_II(f, I, eps):\n",
    "    \"\"\"Implementación de la regla de Simpson\n",
    "    \n",
    "    Parameters\n",
    "    ----------\n",
    "    I: list\n",
    "       Intervalo de integración, ingresado como lista de dos elementos\n",
    "    f: function (1 parameter)\n",
    "       La función a integrar\n",
    "    \n",
    "    Returns\n",
    "    -------\n",
    "    aprox: Aproximación de la integral por la regla de Simpson\n",
    "    \n",
    "    Notes\n",
    "    -----\n",
    "    Este código es parte del curso \"Computación\", Famaf\n",
    "    Uso:  \n",
    "        cuad_simpson_compuesta_II(f, I)\n",
    "        cuad_simpson_compuesta_II(f, I)\n",
    "    \"\"\"\n",
    "    import numpy as np\n",
    "\n",
    "    delta = 2*eps\n",
    "    n = 2\n",
    "    aprox_old = (I[1]-I[0])*f((I[1]+I[0])/2)\n",
    "\n",
    "    while delta > eps:\n",
    "        x = np.linspace(I[0], I[1], n)\n",
    "        aprox = cuad_simpson_compuesta(x, f=f)\n",
    "        delta = abs(aprox - aprox_old)\n",
    "        aprox_old = aprox\n",
    "        n += 10\n",
    "        if n>5000:\n",
    "            break\n",
    "\n",
    "    return aprox"
   ]
  },
  {
   "cell_type": "code",
   "execution_count": 78,
   "id": "changing-marriage",
   "metadata": {
    "tags": []
   },
   "outputs": [],
   "source": [
    "I = cuad_simpson_compuesta_II(f, [0, 1], 1.e-6)"
   ]
  },
  {
   "cell_type": "code",
   "execution_count": 79,
   "id": "functional-delay",
   "metadata": {
    "tags": []
   },
   "outputs": [
    {
     "data": {
      "text/plain": [
       "0.33307618132090666"
      ]
     },
     "execution_count": 79,
     "metadata": {},
     "output_type": "execute_result"
    }
   ],
   "source": [
    "I"
   ]
  },
  {
   "cell_type": "code",
   "execution_count": null,
   "id": "trying-digit",
   "metadata": {},
   "outputs": [],
   "source": []
  }
 ],
 "metadata": {
  "kernelspec": {
   "display_name": "Python 3 (ipykernel)",
   "language": "python",
   "name": "python3"
  },
  "language_info": {
   "codemirror_mode": {
    "name": "ipython",
    "version": 3
   },
   "file_extension": ".py",
   "mimetype": "text/x-python",
   "name": "python",
   "nbconvert_exporter": "python",
   "pygments_lexer": "ipython3",
   "version": "3.8.10"
  }
 },
 "nbformat": 4,
 "nbformat_minor": 5
}
