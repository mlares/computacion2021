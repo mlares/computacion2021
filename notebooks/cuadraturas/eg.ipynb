{
 "cells": [
  {
   "cell_type": "code",
   "execution_count": 4,
   "id": "expanded-genesis",
   "metadata": {},
   "outputs": [],
   "source": [
    "import cuadraturas as qu\n",
    "from scipy import integrate as si"
   ]
  },
  {
   "cell_type": "code",
   "execution_count": 5,
   "id": "clinical-picture",
   "metadata": {},
   "outputs": [],
   "source": [
    "def f_canaleta(x):    \n",
    "    from numpy import sin, pi, sqrt\n",
    "    z = sin(8*pi*x/55)\n",
    "    z = 1 + (16*pi/55 * z)**2\n",
    "    z = sqrt(z)\n",
    "    return z"
   ]
  },
  {
   "cell_type": "code",
   "execution_count": 2,
   "id": "exterior-teacher",
   "metadata": {},
   "outputs": [],
   "source": []
  },
  {
   "cell_type": "code",
   "execution_count": 6,
   "id": "crude-ranch",
   "metadata": {},
   "outputs": [
    {
     "data": {
      "text/plain": [
       "(130.2449464824829, 1.3825019248847603e-07)"
      ]
     },
     "execution_count": 6,
     "metadata": {},
     "output_type": "execute_result"
    }
   ],
   "source": [
    "si.quad(f_canaleta, 0, 110)"
   ]
  },
  {
   "cell_type": "code",
   "execution_count": 8,
   "id": "boring-packing",
   "metadata": {},
   "outputs": [
    {
     "data": {
      "text/plain": [
       "130.21151066254123"
      ]
     },
     "execution_count": 8,
     "metadata": {},
     "output_type": "execute_result"
    }
   ],
   "source": [
    "qu.cuad_simpson_compuesta_II(f_canaleta, [0, 110], 1.e-8)"
   ]
  },
  {
   "cell_type": "markdown",
   "id": "electrical-mercury",
   "metadata": {},
   "source": [
    "_______"
   ]
  },
  {
   "cell_type": "code",
   "execution_count": 9,
   "id": "deluxe-sucking",
   "metadata": {},
   "outputs": [],
   "source": [
    "N = 0"
   ]
  },
  {
   "cell_type": "code",
   "execution_count": 11,
   "id": "premier-vitamin",
   "metadata": {},
   "outputs": [],
   "source": [
    "from scipy import special, stats"
   ]
  },
  {
   "cell_type": "code",
   "execution_count": 15,
   "id": "controlling-willow",
   "metadata": {},
   "outputs": [],
   "source": [
    "N = stats.norm(loc=0, scale=1).pdf"
   ]
  },
  {
   "cell_type": "code",
   "execution_count": 23,
   "id": "governmental-lobby",
   "metadata": {},
   "outputs": [
    {
     "data": {
      "text/plain": [
       "(0.682689492137086, 7.579375928402476e-15)"
      ]
     },
     "execution_count": 23,
     "metadata": {},
     "output_type": "execute_result"
    }
   ],
   "source": [
    "si.quad(N, -1, 1)"
   ]
  },
  {
   "cell_type": "code",
   "execution_count": 24,
   "id": "crazy-reset",
   "metadata": {},
   "outputs": [
    {
     "data": {
      "text/plain": [
       "0.682520414486961"
      ]
     },
     "execution_count": 24,
     "metadata": {},
     "output_type": "execute_result"
    }
   ],
   "source": [
    "qu.cuad_simpson_compuesta_II(N, [-1, 1], 1.e-8)"
   ]
  },
  {
   "cell_type": "code",
   "execution_count": null,
   "id": "periodic-humanity",
   "metadata": {},
   "outputs": [],
   "source": []
  },
  {
   "cell_type": "code",
   "execution_count": null,
   "id": "operating-average",
   "metadata": {},
   "outputs": [],
   "source": []
  }
 ],
 "metadata": {
  "kernelspec": {
   "display_name": "Python 3 (ipykernel)",
   "language": "python",
   "name": "python3"
  },
  "language_info": {
   "codemirror_mode": {
    "name": "ipython",
    "version": 3
   },
   "file_extension": ".py",
   "mimetype": "text/x-python",
   "name": "python",
   "nbconvert_exporter": "python",
   "pygments_lexer": "ipython3",
   "version": "3.8.10"
  }
 },
 "nbformat": 4,
 "nbformat_minor": 5
}
