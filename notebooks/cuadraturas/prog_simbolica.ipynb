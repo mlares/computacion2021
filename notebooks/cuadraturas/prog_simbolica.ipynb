{
 "cells": [
  {
   "cell_type": "markdown",
   "id": "1aef2b13-8d34-4871-a626-933a06572ef9",
   "metadata": {},
   "source": [
    "_______\n",
    "# Programación simbólica"
   ]
  },
  {
   "cell_type": "code",
   "execution_count": 6,
   "id": "b540b55a-2d24-48c2-bfda-7be9557a0bab",
   "metadata": {
    "tags": []
   },
   "outputs": [],
   "source": [
    "import sympy"
   ]
  },
  {
   "cell_type": "code",
   "execution_count": 7,
   "id": "5fe58ff7-8942-4d68-8680-853a74fd6b88",
   "metadata": {
    "tags": []
   },
   "outputs": [],
   "source": [
    "x,y = sympy.symbols('x y')"
   ]
  },
  {
   "cell_type": "code",
   "execution_count": 8,
   "id": "b75f444f-170a-4c3f-a81c-04813f28e3a6",
   "metadata": {
    "tags": []
   },
   "outputs": [],
   "source": [
    "f = sympy.sin(x)*sympy.exp(x)"
   ]
  },
  {
   "cell_type": "code",
   "execution_count": 9,
   "id": "3795c288-62d8-43de-9356-724fa2cc5f6b",
   "metadata": {
    "tags": []
   },
   "outputs": [
    {
     "data": {
      "text/latex": [
       "$\\displaystyle e^{x} \\sin{\\left(x \\right)} + e^{x} \\cos{\\left(x \\right)}$"
      ],
      "text/plain": [
       "exp(x)*sin(x) + exp(x)*cos(x)"
      ]
     },
     "execution_count": 9,
     "metadata": {},
     "output_type": "execute_result"
    }
   ],
   "source": [
    "sympy.diff(f, x)"
   ]
  },
  {
   "cell_type": "code",
   "execution_count": 10,
   "id": "6ac4b838-108c-42d1-ad65-5f03d7ba84cc",
   "metadata": {
    "tags": []
   },
   "outputs": [
    {
     "data": {
      "text/latex": [
       "$\\displaystyle \\frac{e^{x} \\sin{\\left(x \\right)}}{2} - \\frac{e^{x} \\cos{\\left(x \\right)}}{2}$"
      ],
      "text/plain": [
       "exp(x)*sin(x)/2 - exp(x)*cos(x)/2"
      ]
     },
     "execution_count": 10,
     "metadata": {},
     "output_type": "execute_result"
    }
   ],
   "source": [
    "sympy.integrate(f)"
   ]
  },
  {
   "cell_type": "code",
   "execution_count": 11,
   "id": "dca49f5c-ca39-4e06-b542-fd0477db0df8",
   "metadata": {
    "tags": []
   },
   "outputs": [
    {
     "data": {
      "text/latex": [
       "$\\displaystyle 1$"
      ],
      "text/plain": [
       "1"
      ]
     },
     "execution_count": 11,
     "metadata": {},
     "output_type": "execute_result"
    }
   ],
   "source": [
    "sympy.limit(sympy.sin(x)/x, x, 0)"
   ]
  },
  {
   "cell_type": "code",
   "execution_count": 12,
   "id": "20b16b02-c9cb-462f-9e4a-09d3a0c5651c",
   "metadata": {
    "tags": []
   },
   "outputs": [
    {
     "data": {
      "text/latex": [
       "$\\displaystyle 0$"
      ],
      "text/plain": [
       "0"
      ]
     },
     "execution_count": 12,
     "metadata": {},
     "output_type": "execute_result"
    }
   ],
   "source": [
    "sympy.limit(sympy.atan(x)/(1+x**2), x, sympy.oo)"
   ]
  },
  {
   "cell_type": "code",
   "execution_count": 13,
   "id": "14d3d791-fd35-42b3-ada1-8aaaae2a6b26",
   "metadata": {
    "tags": []
   },
   "outputs": [
    {
     "data": {
      "text/latex": [
       "$\\displaystyle \\frac{\\sqrt{2} \\sqrt{\\pi}}{2}$"
      ],
      "text/plain": [
       "sqrt(2)*sqrt(pi)/2"
      ]
     },
     "execution_count": 13,
     "metadata": {},
     "output_type": "execute_result"
    }
   ],
   "source": [
    "sympy.integrate(sympy.sin(x**2), (x, -sympy.oo, sympy.oo))"
   ]
  },
  {
   "cell_type": "code",
   "execution_count": null,
   "id": "1fd1e93d-1041-48f5-a6ef-f96c129d15dd",
   "metadata": {},
   "outputs": [],
   "source": []
  }
 ],
 "metadata": {
  "kernelspec": {
   "display_name": "Python 3 (ipykernel)",
   "language": "python",
   "name": "python3"
  },
  "language_info": {
   "codemirror_mode": {
    "name": "ipython",
    "version": 3
   },
   "file_extension": ".py",
   "mimetype": "text/x-python",
   "name": "python",
   "nbconvert_exporter": "python",
   "pygments_lexer": "ipython3",
   "version": "3.8.10"
  }
 },
 "nbformat": 4,
 "nbformat_minor": 5
}
