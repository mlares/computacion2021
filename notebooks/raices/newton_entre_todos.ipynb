{
 "cells": [
  {
   "cell_type": "code",
   "execution_count": 19,
   "id": "devoted-rhythm",
   "metadata": {},
   "outputs": [],
   "source": [
    "import numpy as np\n",
    "from matplotlib import pyplot as plt"
   ]
  },
  {
   "cell_type": "code",
   "execution_count": 14,
   "id": "frank-congo",
   "metadata": {},
   "outputs": [],
   "source": [
    "def f(x):\n",
    "    return x**2 - 1\n",
    "    \n",
    "def df(x):\n",
    "    return 2*x"
   ]
  },
  {
   "cell_type": "code",
   "execution_count": 14,
   "id": "coastal-wales",
   "metadata": {},
   "outputs": [
    {
     "name": "stdout",
     "output_type": "stream",
     "text": [
      "42500.00000588235\n",
      "21250.00001470588\n",
      "10625.000030882353\n",
      "5312.500062499999\n",
      "2656.2501253676455\n",
      "1328.125250919108\n",
      "664.0630019300711\n",
      "332.0322539056429\n",
      "166.01763283062132\n",
      "83.01182814359203\n",
      "41.51193730982343\n",
      "20.768013383064687\n",
      "10.408082176788325\n",
      "5.252080678350041\n",
      "2.721240704634196\n",
      "1.5443600704348355\n",
      "1.0959387295607765\n",
      "1.0041992492743752\n",
      "1.0000087799779183\n",
      "1.0000000000385436\n"
     ]
    }
   ],
   "source": [
    "# defino un valor inicial\n",
    "x = 85000\n",
    "condicion = False\n",
    "\n",
    "tolerancia_x = 1.e-5\n",
    "tolerancia_f = 1.e-5\n",
    "tolerancia_N = 20\n",
    "contador = 0\n",
    "\n",
    "while not condicion:\n",
    "    \n",
    "    contador += 1\n",
    "    x_old = x\n",
    "    \n",
    "    x = x - f(x)/df(x)\n",
    "    print(x)\n",
    "    \n",
    "    delta_x = abs(x - x_old)\n",
    "    delta_f = abs(f(x))\n",
    "    \n",
    "    c1 = delta_x < tolerancia_x\n",
    "    c2 = delta_f < tolerancia_f\n",
    "    c3 = contador == tolerancia_N    \n",
    "    \n",
    "    condicion = (c1 and c2) or c3"
   ]
  },
  {
   "cell_type": "code",
   "execution_count": 13,
   "id": "voluntary-progress",
   "metadata": {},
   "outputs": [
    {
     "data": {
      "text/plain": [
       "1.0000000000000808"
      ]
     },
     "execution_count": 13,
     "metadata": {},
     "output_type": "execute_result"
    }
   ],
   "source": [
    "x"
   ]
  },
  {
   "cell_type": "code",
   "execution_count": 15,
   "id": "reliable-happiness",
   "metadata": {},
   "outputs": [
    {
     "name": "stdout",
     "output_type": "stream",
     "text": [
      "42500.00000588235\n",
      "21250.00001470588\n",
      "10625.000030882353\n",
      "5312.500062499999\n",
      "2656.2501253676455\n",
      "1328.125250919108\n",
      "664.0630019300711\n",
      "332.0322539056429\n",
      "166.01763283062132\n",
      "83.01182814359203\n",
      "41.51193730982343\n",
      "20.768013383064687\n",
      "10.408082176788325\n",
      "5.252080678350041\n",
      "2.721240704634196\n",
      "1.5443600704348355\n",
      "1.0959387295607765\n",
      "1.0041992492743752\n",
      "1.0000087799779183\n",
      "1.0000000000385436\n"
     ]
    }
   ],
   "source": [
    "# defino un valor inicial\n",
    "x = 85000\n",
    "condicion = True\n",
    "\n",
    "tolerancia_x = 1.e-5\n",
    "tolerancia_f = 1.e-5\n",
    "tolerancia_N = 20\n",
    "contador = 0\n",
    "\n",
    "while condicion:\n",
    "    \n",
    "    contador += 1\n",
    "    x_old = x\n",
    "    \n",
    "    x = x - f(x)/df(x)\n",
    "    print(x)\n",
    "    \n",
    "    delta_x = abs(x - x_old)\n",
    "    delta_f = abs(f(x))\n",
    "    \n",
    "    c1 = not (delta_x < tolerancia_x)\n",
    "    c2 = not (delta_f < tolerancia_f)\n",
    "    c3 = not (contador == tolerancia_N)\n",
    "    \n",
    "    condicion = (c1 or c2) and c3"
   ]
  },
  {
   "cell_type": "code",
   "execution_count": 17,
   "id": "planned-implementation",
   "metadata": {},
   "outputs": [],
   "source": [
    "def newton(f, df, x, tolerancia_x, tolerancia_f, tolerancia_N):\n",
    "\n",
    "    condicion = True\n",
    "    contador = 0\n",
    "\n",
    "    while condicion:\n",
    "    \n",
    "        contador += 1\n",
    "        x_old = x\n",
    "    \n",
    "        x = x - f(x)/df(x)\n",
    "        print(x)\n",
    "    \n",
    "        delta_x = abs(x - x_old)\n",
    "        delta_f = abs(f(x))\n",
    "    \n",
    "        c1 = not (delta_x < tolerancia_x)\n",
    "        c2 = not (delta_f < tolerancia_f)\n",
    "        c3 = not (contador == tolerancia_N)\n",
    "    \n",
    "        condicion = (c1 or c2) and c3\n",
    "\n",
    "    return x"
   ]
  },
  {
   "cell_type": "code",
   "execution_count": 20,
   "id": "objective-mission",
   "metadata": {},
   "outputs": [
    {
     "ename": "TypeError",
     "evalue": "f() missing 1 required positional argument: 'b'",
     "output_type": "error",
     "traceback": [
      "\u001b[1;31m---------------------------------------------------------------------------\u001b[0m",
      "\u001b[1;31mTypeError\u001b[0m                                 Traceback (most recent call last)",
      "\u001b[1;32m<ipython-input-20-e9c73c15f548>\u001b[0m in \u001b[0;36m<module>\u001b[1;34m\u001b[0m\n\u001b[0;32m     11\u001b[0m \u001b[1;32mfor\u001b[0m \u001b[0my\u001b[0m \u001b[1;32min\u001b[0m \u001b[0mb\u001b[0m\u001b[1;33m:\u001b[0m\u001b[1;33m\u001b[0m\u001b[1;33m\u001b[0m\u001b[0m\n\u001b[0;32m     12\u001b[0m \u001b[1;33m\u001b[0m\u001b[0m\n\u001b[1;32m---> 13\u001b[1;33m     \u001b[0mr\u001b[0m \u001b[1;33m=\u001b[0m \u001b[0mnewton\u001b[0m\u001b[1;33m(\u001b[0m\u001b[0mf\u001b[0m\u001b[1;33m,\u001b[0m \u001b[0mdf\u001b[0m\u001b[1;33m,\u001b[0m \u001b[0mx\u001b[0m\u001b[1;33m,\u001b[0m \u001b[0mtolerancia_x\u001b[0m\u001b[1;33m,\u001b[0m \u001b[0mtolerancia_f\u001b[0m\u001b[1;33m,\u001b[0m \u001b[0mtolerancia_N\u001b[0m\u001b[1;33m)\u001b[0m\u001b[1;33m\u001b[0m\u001b[1;33m\u001b[0m\u001b[0m\n\u001b[0m\u001b[0;32m     14\u001b[0m \u001b[1;33m\u001b[0m\u001b[0m\n",
      "\u001b[1;32m<ipython-input-17-b47cbdfcb2e9>\u001b[0m in \u001b[0;36mnewton\u001b[1;34m(f, df, x, tolerancia_x, tolerancia_f, tolerancia_N)\u001b[0m\n\u001b[0;32m      9\u001b[0m         \u001b[0mx_old\u001b[0m \u001b[1;33m=\u001b[0m \u001b[0mx\u001b[0m\u001b[1;33m\u001b[0m\u001b[1;33m\u001b[0m\u001b[0m\n\u001b[0;32m     10\u001b[0m \u001b[1;33m\u001b[0m\u001b[0m\n\u001b[1;32m---> 11\u001b[1;33m         \u001b[0mx\u001b[0m \u001b[1;33m=\u001b[0m \u001b[0mx\u001b[0m \u001b[1;33m-\u001b[0m \u001b[0mf\u001b[0m\u001b[1;33m(\u001b[0m\u001b[0mx\u001b[0m\u001b[1;33m)\u001b[0m\u001b[1;33m/\u001b[0m\u001b[0mdf\u001b[0m\u001b[1;33m(\u001b[0m\u001b[0mx\u001b[0m\u001b[1;33m)\u001b[0m\u001b[1;33m\u001b[0m\u001b[1;33m\u001b[0m\u001b[0m\n\u001b[0m\u001b[0;32m     12\u001b[0m         \u001b[0mprint\u001b[0m\u001b[1;33m(\u001b[0m\u001b[0mx\u001b[0m\u001b[1;33m)\u001b[0m\u001b[1;33m\u001b[0m\u001b[1;33m\u001b[0m\u001b[0m\n\u001b[0;32m     13\u001b[0m \u001b[1;33m\u001b[0m\u001b[0m\n",
      "\u001b[1;31mTypeError\u001b[0m: f() missing 1 required positional argument: 'b'"
     ]
    }
   ],
   "source": [
    "b = np.linspace(-1, 0, 10)\n",
    "\n",
    "tolerancia_x = 1.e-5\n",
    "tolerancia_f = 1.e-5\n",
    "tolerancia_N = 20\n",
    "x = 0.5\n",
    "\n",
    "def f(x, b):\n",
    "    return x**2 - b\n",
    "\n",
    "for y in b:\n",
    "    \n",
    "    r = newton(f, df, x, tolerancia_x, tolerancia_f, tolerancia_N)\n",
    "    "
   ]
  },
  {
   "cell_type": "code",
   "execution_count": 23,
   "id": "subtle-chosen",
   "metadata": {},
   "outputs": [
    {
     "data": {
      "text/plain": [
       "[<matplotlib.lines.Line2D at 0x7f524425eeb0>]"
      ]
     },
     "execution_count": 23,
     "metadata": {},
     "output_type": "execute_result"
    },
    {
     "data": {
      "image/png": "[encoded data removed]",
      "text/plain": [
       "<Figure size 432x288 with 1 Axes>"
      ]
     },
     "metadata": {
      "needs_background": "light"
     },
     "output_type": "display_data"
    }
   ],
   "source": [
    "t = np.linspace(-2, 2, 100)\n",
    "\n",
    "def f(x):\n",
    "    return x**2 - 1\n",
    "\n",
    "plt.plot(t, f(t))"
   ]
  },
  {
   "cell_type": "code",
   "execution_count": 94,
   "id": "tropical-purchase",
   "metadata": {},
   "outputs": [],
   "source": [
    "def f(x, z):\n",
    "    return x**2 + z\n",
    "\n",
    "def newtonb(f, df, x, b0, tolerancia_x, tolerancia_f, tolerancia_N):\n",
    "\n",
    "    condicion = True\n",
    "    contador = 0\n",
    "    r = []\n",
    "\n",
    "    while condicion:\n",
    "    \n",
    "        contador += 1\n",
    "        x_old = x\n",
    "    \n",
    "        x = x - f(x, b0)/df(x)\n",
    "    \n",
    "        delta_x = abs(x - x_old)\n",
    "        delta_f = abs(f(x, b0))\n",
    "    \n",
    "        c1 = not (delta_x < tolerancia_x)\n",
    "        c2 = not (delta_f < tolerancia_f)\n",
    "        c3 = not (contador == tolerancia_N)\n",
    "    \n",
    "        condicion = (c1 or c2) and c3\n",
    "        r.append(x)\n",
    "\n",
    "    return r"
   ]
  },
  {
   "cell_type": "code",
   "execution_count": 95,
   "id": "planned-nevada",
   "metadata": {},
   "outputs": [],
   "source": [
    "b = np.linspace(-0.1, 0, 1000)\n",
    "\n",
    "tolerancia_x = 1.e-4\n",
    "tolerancia_f = 1.e-4\n",
    "tolerancia_N = 40\n",
    "x = 0.5\n",
    "\n",
    "resultados = []\n",
    "for y in b:\n",
    "    r = newtonb(f, df, x, y, tolerancia_x, tolerancia_f, tolerancia_N)\n",
    "    resultados.append(r)"
   ]
  },
  {
   "cell_type": "code",
   "execution_count": 96,
   "id": "disturbed-jason",
   "metadata": {},
   "outputs": [
    {
     "data": {
      "text/plain": [
       "13"
      ]
     },
     "execution_count": 96,
     "metadata": {},
     "output_type": "execute_result"
    }
   ],
   "source": [
    "len(resultados[-1])"
   ]
  },
  {
   "cell_type": "code",
   "execution_count": 97,
   "id": "described-express",
   "metadata": {},
   "outputs": [
    {
     "data": {
      "text/plain": [
       "[0.25,\n",
       " 0.125,\n",
       " 0.0625,\n",
       " 0.03125,\n",
       " 0.015625,\n",
       " 0.0078125,\n",
       " 0.00390625,\n",
       " 0.001953125,\n",
       " 0.0009765625,\n",
       " 0.00048828125,\n",
       " 0.000244140625,\n",
       " 0.0001220703125,\n",
       " 6.103515625e-05]"
      ]
     },
     "execution_count": 97,
     "metadata": {},
     "output_type": "execute_result"
    }
   ],
   "source": [
    "resultados[-1]"
   ]
  },
  {
   "cell_type": "code",
   "execution_count": 98,
   "id": "magnetic-skiing",
   "metadata": {},
   "outputs": [],
   "source": [
    "L = []\n",
    "for r in resultados:\n",
    "    L.append(len(r))"
   ]
  },
  {
   "cell_type": "code",
   "execution_count": 99,
   "id": "enhanced-bouquet",
   "metadata": {},
   "outputs": [
    {
     "data": {
      "text/plain": [
       "Text(0.5, 0, 'b')"
      ]
     },
     "execution_count": 99,
     "metadata": {},
     "output_type": "execute_result"
    },
    {
     "data": {
      "image/png": "[encoded data removed]",
      "text/plain": [
       "<Figure size 432x288 with 1 Axes>"
      ]
     },
     "metadata": {
      "needs_background": "light"
     },
     "output_type": "display_data"
    }
   ],
   "source": [
    "plt.plot(b, L)\n",
    "plt.xlabel('b')"
   ]
  },
  {
   "cell_type": "code",
   "execution_count": 100,
   "id": "smart-examination",
   "metadata": {},
   "outputs": [],
   "source": [
    "x0 = np.linspace(0.1, 100, 10000)\n",
    "\n",
    "tolerancia_x = 1.e-4\n",
    "tolerancia_f = 1.e-4\n",
    "tolerancia_N = 40\n",
    "\n",
    "resultados = []\n",
    "for x in x0:\n",
    "    r = newtonb(f, df, x, -1, tolerancia_x, tolerancia_f, tolerancia_N)\n",
    "    resultados.append(r)"
   ]
  },
  {
   "cell_type": "code",
   "execution_count": 101,
   "id": "viral-overall",
   "metadata": {},
   "outputs": [],
   "source": [
    "L = []\n",
    "for r in resultados:\n",
    "    L.append(len(r))"
   ]
  },
  {
   "cell_type": "code",
   "execution_count": 102,
   "id": "wrapped-edgar",
   "metadata": {},
   "outputs": [
    {
     "data": {
      "text/plain": [
       "Text(0.5, 0, '$x_0$')"
      ]
     },
     "execution_count": 102,
     "metadata": {},
     "output_type": "execute_result"
    },
    {
     "data": {
      "image/png": "[encoded data removed]",
      "text/plain": [
       "<Figure size 432x288 with 1 Axes>"
      ]
     },
     "metadata": {
      "needs_background": "light"
     },
     "output_type": "display_data"
    }
   ],
   "source": [
    "plt.plot(x0, L)\n",
    "plt.xscale('log')\n",
    "plt.title('cool plot')\n",
    "plt.xlabel('$x_0$')"
   ]
  },
  {
   "cell_type": "code",
   "execution_count": 103,
   "id": "funded-oriental",
   "metadata": {},
   "outputs": [
    {
     "data": {
      "image/png": "[encoded data removed]",
      "text/plain": [
       "<Figure size 432x288 with 1 Axes>"
      ]
     },
     "metadata": {
      "needs_background": "light"
     },
     "output_type": "display_data"
    }
   ],
   "source": [
    "fig = plt.figure()\n",
    "ax = fig.add_subplot()\n",
    "ax.plot(x0, L)\n",
    "ax.set_title('cool plot')\n",
    "ax.set_xlabel('x')\n",
    "ax.set_xscale('log')"
   ]
  },
  {
   "cell_type": "code",
   "execution_count": 105,
   "id": "quarterly-animation",
   "metadata": {},
   "outputs": [
    {
     "data": {
      "text/plain": [
       "5"
      ]
     },
     "execution_count": 105,
     "metadata": {},
     "output_type": "execute_result"
    }
   ],
   "source": [
    "b = 1\n",
    "\n",
    "def f(x, q):\n",
    "    return x + q\n",
    "\n",
    "f(4, b)"
   ]
  },
  {
   "cell_type": "code",
   "execution_count": 108,
   "id": "sweet-protest",
   "metadata": {},
   "outputs": [
    {
     "data": {
      "text/plain": [
       "15"
      ]
     },
     "execution_count": 108,
     "metadata": {},
     "output_type": "execute_result"
    }
   ],
   "source": [
    "b = 1\n",
    "\n",
    "def f(x, q):\n",
    "    b = 10\n",
    "    return x + b + q\n",
    "\n",
    "f(4, b)"
   ]
  },
  {
   "cell_type": "code",
   "execution_count": null,
   "id": "running-lindsay",
   "metadata": {},
   "outputs": [],
   "source": []
  }
 ],
 "metadata": {
  "kernelspec": {
   "display_name": "Python 3",
   "language": "python",
   "name": "python3"
  },
  "language_info": {
   "codemirror_mode": {
    "name": "ipython",
    "version": 3
   },
   "file_extension": ".py",
   "mimetype": "text/x-python",
   "name": "python",
   "nbconvert_exporter": "python",
   "pygments_lexer": "ipython3",
   "version": "3.8.5"
  }
 },
 "nbformat": 4,
 "nbformat_minor": 5
}
