{
 "cells": [
  {
   "cell_type": "code",
   "execution_count": 2,
   "id": "apparent-separate",
   "metadata": {},
   "outputs": [],
   "source": [
    "from bits_tools import float_to_bin, bin_to_float"
   ]
  },
  {
   "cell_type": "code",
   "execution_count": 13,
   "id": "junior-carroll",
   "metadata": {},
   "outputs": [
    {
     "name": "stdout",
     "output_type": "stream",
     "text": [
      "+ ( 1 + 1 * (1/2)**1 ) * 2**3 \n",
      "Número ingresado: 12.25, número recuperado: 12.0\n",
      "12.0\n"
     ]
    }
   ],
   "source": [
    "b, s, e, m, r, = float_to_bin(12.25, 8, False, True)"
   ]
  },
  {
   "cell_type": "code",
   "execution_count": 10,
   "id": "indonesian-activity",
   "metadata": {},
   "outputs": [
    {
     "data": {
      "text/plain": [
       "0.10000000149011612"
      ]
     },
     "execution_count": 10,
     "metadata": {},
     "output_type": "execute_result"
    }
   ],
   "source": [
    "+ ( 1 + 1 * (1/2)**1 + 1 * (1/2)**4 + 1 * (1/2)**5 + 1 * (1/2)**8 + 1 * (1/2)**9 + 1 * (1/2)**12 + 1 * (1/2)**13 + 1 * (1/2)**16 + 1 * (1/2)**17 + 1 * (1/2)**20 + 1 * (1/2)**21 + 1 * (1/2)**23 ) * 2**-4"
   ]
  },
  {
   "cell_type": "code",
   "execution_count": 5,
   "id": "strong-friend",
   "metadata": {},
   "outputs": [
    {
     "name": "stdout",
     "output_type": "stream",
     "text": [
      "\u001b[1;34m 0 \u001b[0;32m 01111011 \u001b[1;36m 10011001100110011001101 \u001b[0;0m\n"
     ]
    }
   ],
   "source": [
    "print(b)"
   ]
  },
  {
   "cell_type": "code",
   "execution_count": 6,
   "id": "premier-syndicate",
   "metadata": {},
   "outputs": [
    {
     "name": "stdout",
     "output_type": "stream",
     "text": [
      "0.10000000149011612\n"
     ]
    }
   ],
   "source": [
    "print(r)"
   ]
  },
  {
   "cell_type": "code",
   "execution_count": 6,
   "id": "necessary-store",
   "metadata": {},
   "outputs": [
    {
     "name": "stdout",
     "output_type": "stream",
     "text": [
      "  -4   0.062500 ······· \u001b[1;34m 0 \u001b[0;32m 01111011 \u001b[1;36m 00000000000000000000000 \u001b[0;0m\n",
      "  -3   0.125000 ······· \u001b[1;34m 0 \u001b[0;32m 01111100 \u001b[1;36m 00000000000000000000000 \u001b[0;0m\n",
      "  -2   0.250000 ······· \u001b[1;34m 0 \u001b[0;32m 01111101 \u001b[1;36m 00000000000000000000000 \u001b[0;0m\n",
      "  -1   0.500000 ······· \u001b[1;34m 0 \u001b[0;32m 01111110 \u001b[1;36m 00000000000000000000000 \u001b[0;0m\n",
      "   0   1.000000 ······· \u001b[1;34m 0 \u001b[0;32m 01111111 \u001b[1;36m 00000000000000000000000 \u001b[0;0m\n",
      "   1   2.000000 ······· \u001b[1;34m 0 \u001b[0;32m 10000000 \u001b[1;36m 00000000000000000000000 \u001b[0;0m\n",
      "   2   4.000000 ······· \u001b[1;34m 0 \u001b[0;32m 10000001 \u001b[1;36m 00000000000000000000000 \u001b[0;0m\n",
      "   3   8.000000 ······· \u001b[1;34m 0 \u001b[0;32m 10000010 \u001b[1;36m 00000000000000000000000 \u001b[0;0m\n"
     ]
    }
   ],
   "source": [
    "for i in range(-4, 4):\n",
    "    x = 2**i\n",
    "    b, s, e, m, r, = float_to_bin(x, 32, False, False)\n",
    "    print(f'{i: 4d}   {x:.6f} ······· {b}')"
   ]
  },
  {
   "cell_type": "code",
   "execution_count": 7,
   "id": "appreciated-court",
   "metadata": {},
   "outputs": [
    {
     "name": "stdout",
     "output_type": "stream",
     "text": [
      "+ [1 +0·½^1+0·½^2+0·½^3+0·½^4+0·½^5+0·½^6+0·½^7+0·½^8+0·½^9+0·½^10+0·½^11+0·½^12+0·½^13+0·½^14+0·½^15+0·½^16+0·½^17+0·½^18+0·½^19+0·½^20+0·½^21+0·½^22+0·½^23] · 2^-4 \n",
      "  -4 ······· \u001b[1;34m 0 \u001b[0;32m 01111011 \u001b[1;36m 00000000000000000000000 \u001b[0;0m\n",
      "\n",
      "+ [1 +0·½^1+0·½^2+0·½^3+0·½^4+0·½^5+0·½^6+0·½^7+0·½^8+0·½^9+0·½^10+0·½^11+0·½^12+0·½^13+0·½^14+0·½^15+0·½^16+0·½^17+0·½^18+0·½^19+0·½^20+0·½^21+0·½^22+0·½^23] · 2^-3 \n",
      "  -3 ······· \u001b[1;34m 0 \u001b[0;32m 01111100 \u001b[1;36m 00000000000000000000000 \u001b[0;0m\n",
      "\n",
      "+ [1 +0·½^1+0·½^2+0·½^3+0·½^4+0·½^5+0·½^6+0·½^7+0·½^8+0·½^9+0·½^10+0·½^11+0·½^12+0·½^13+0·½^14+0·½^15+0·½^16+0·½^17+0·½^18+0·½^19+0·½^20+0·½^21+0·½^22+0·½^23] · 2^-2 \n",
      "  -2 ······· \u001b[1;34m 0 \u001b[0;32m 01111101 \u001b[1;36m 00000000000000000000000 \u001b[0;0m\n",
      "\n",
      "+ [1 +0·½^1+0·½^2+0·½^3+0·½^4+0·½^5+0·½^6+0·½^7+0·½^8+0·½^9+0·½^10+0·½^11+0·½^12+0·½^13+0·½^14+0·½^15+0·½^16+0·½^17+0·½^18+0·½^19+0·½^20+0·½^21+0·½^22+0·½^23] · 2^-1 \n",
      "  -1 ······· \u001b[1;34m 0 \u001b[0;32m 01111110 \u001b[1;36m 00000000000000000000000 \u001b[0;0m\n",
      "\n",
      "+ [1 +0·½^1+0·½^2+0·½^3+0·½^4+0·½^5+0·½^6+0·½^7+0·½^8+0·½^9+0·½^10+0·½^11+0·½^12+0·½^13+0·½^14+0·½^15+0·½^16+0·½^17+0·½^18+0·½^19+0·½^20+0·½^21+0·½^22+0·½^23] · 2^0 \n",
      "   0 ······· \u001b[1;34m 0 \u001b[0;32m 01111111 \u001b[1;36m 00000000000000000000000 \u001b[0;0m\n",
      "\n",
      "+ [1 +0·½^1+0·½^2+0·½^3+0·½^4+0·½^5+0·½^6+0·½^7+0·½^8+0·½^9+0·½^10+0·½^11+0·½^12+0·½^13+0·½^14+0·½^15+0·½^16+0·½^17+0·½^18+0·½^19+0·½^20+0·½^21+0·½^22+0·½^23] · 2^1 \n",
      "   1 ······· \u001b[1;34m 0 \u001b[0;32m 10000000 \u001b[1;36m 00000000000000000000000 \u001b[0;0m\n",
      "\n",
      "+ [1 +0·½^1+0·½^2+0·½^3+0·½^4+0·½^5+0·½^6+0·½^7+0·½^8+0·½^9+0·½^10+0·½^11+0·½^12+0·½^13+0·½^14+0·½^15+0·½^16+0·½^17+0·½^18+0·½^19+0·½^20+0·½^21+0·½^22+0·½^23] · 2^2 \n",
      "   2 ······· \u001b[1;34m 0 \u001b[0;32m 10000001 \u001b[1;36m 00000000000000000000000 \u001b[0;0m\n",
      "\n",
      "+ [1 +0·½^1+0·½^2+0·½^3+0·½^4+0·½^5+0·½^6+0·½^7+0·½^8+0·½^9+0·½^10+0·½^11+0·½^12+0·½^13+0·½^14+0·½^15+0·½^16+0·½^17+0·½^18+0·½^19+0·½^20+0·½^21+0·½^22+0·½^23] · 2^3 \n",
      "   3 ······· \u001b[1;34m 0 \u001b[0;32m 10000010 \u001b[1;36m 00000000000000000000000 \u001b[0;0m\n",
      "\n"
     ]
    }
   ],
   "source": [
    "for i in range(-4, 4):\n",
    "    x = 2**i\n",
    "    b, s, e, m, r, = float_to_bin(x, 32, True, False)\n",
    "    print(f'{i: 4d} ······· {b}\\n')"
   ]
  },
  {
   "cell_type": "code",
   "execution_count": 8,
   "id": "prime-benchmark",
   "metadata": {},
   "outputs": [
    {
     "name": "stdout",
     "output_type": "stream",
     "text": [
      "+ ( 1 ) * 2**-4 \n",
      "Número ingresado: 0.0625, número recuperado: 0.0625\n",
      "0.0625\n",
      "  -4    0.062500 ······· \u001b[1;34m 0 \u001b[0;32m 01111011 \u001b[1;36m 00000000000000000000000 \u001b[0;0m\n",
      "\n",
      "+ ( 1 ) * 2**-3 \n",
      "Número ingresado: 0.125, número recuperado: 0.125\n",
      "0.125\n",
      "  -3    0.125000 ······· \u001b[1;34m 0 \u001b[0;32m 01111100 \u001b[1;36m 00000000000000000000000 \u001b[0;0m\n",
      "\n",
      "+ ( 1 ) * 2**-2 \n",
      "Número ingresado: 0.25, número recuperado: 0.25\n",
      "0.25\n",
      "  -2    0.250000 ······· \u001b[1;34m 0 \u001b[0;32m 01111101 \u001b[1;36m 00000000000000000000000 \u001b[0;0m\n",
      "\n",
      "+ ( 1 ) * 2**-1 \n",
      "Número ingresado: 0.5, número recuperado: 0.5\n",
      "0.5\n",
      "  -1    0.500000 ······· \u001b[1;34m 0 \u001b[0;32m 01111110 \u001b[1;36m 00000000000000000000000 \u001b[0;0m\n",
      "\n",
      "+ ( 1 ) * 2**0 \n",
      "Número ingresado: 1, número recuperado: 1.0\n",
      "1\n",
      "   0    1.000000 ······· \u001b[1;34m 0 \u001b[0;32m 01111111 \u001b[1;36m 00000000000000000000000 \u001b[0;0m\n",
      "\n",
      "+ ( 1 ) * 2**1 \n",
      "Número ingresado: 2, número recuperado: 2.0\n",
      "2\n",
      "   1    2.000000 ······· \u001b[1;34m 0 \u001b[0;32m 10000000 \u001b[1;36m 00000000000000000000000 \u001b[0;0m\n",
      "\n",
      "+ ( 1 ) * 2**2 \n",
      "Número ingresado: 4, número recuperado: 4.0\n",
      "4\n",
      "   2    4.000000 ······· \u001b[1;34m 0 \u001b[0;32m 10000001 \u001b[1;36m 00000000000000000000000 \u001b[0;0m\n",
      "\n",
      "+ ( 1 ) * 2**3 \n",
      "Número ingresado: 8, número recuperado: 8.0\n",
      "8\n",
      "   3    8.000000 ······· \u001b[1;34m 0 \u001b[0;32m 10000010 \u001b[1;36m 00000000000000000000000 \u001b[0;0m\n",
      "\n"
     ]
    }
   ],
   "source": [
    "for i in range(-4, 4):\n",
    "    x = 2**i\n",
    "    b, s, e, m, r, = float_to_bin(x, 32, False, True)\n",
    "    print(f'{i: 4d}   {x: .6f} ······· {b}\\n')"
   ]
  },
  {
   "cell_type": "code",
   "execution_count": 7,
   "id": "hairy-blame",
   "metadata": {},
   "outputs": [
    {
     "name": "stdout",
     "output_type": "stream",
     "text": [
      "+ ( 1 ) * 2**-4 \n",
      "Número ingresado: 0.0625, número recuperado: 0.0625\n",
      "0.0625\n",
      "  -4    0.062500 ······· \u001b[1;34m 0 \u001b[0;32m 01111011 \u001b[1;36m 00000000000000000000000 \u001b[0;0m\n",
      "\n",
      "+ ( 1 ) * 2**-3 \n",
      "Número ingresado: 0.125, número recuperado: 0.125\n",
      "0.125\n",
      "  -3    0.125000 ······· \u001b[1;34m 0 \u001b[0;32m 01111100 \u001b[1;36m 00000000000000000000000 \u001b[0;0m\n",
      "\n",
      "+ ( 1 ) * 2**-2 \n",
      "Número ingresado: 0.25, número recuperado: 0.25\n",
      "0.25\n",
      "  -2    0.250000 ······· \u001b[1;34m 0 \u001b[0;32m 01111101 \u001b[1;36m 00000000000000000000000 \u001b[0;0m\n",
      "\n",
      "+ ( 1 ) * 2**-1 \n",
      "Número ingresado: 0.5, número recuperado: 0.5\n",
      "0.5\n",
      "  -1    0.500000 ······· \u001b[1;34m 0 \u001b[0;32m 01111110 \u001b[1;36m 00000000000000000000000 \u001b[0;0m\n",
      "\n",
      "+ ( 1 ) * 2**0 \n",
      "Número ingresado: 1, número recuperado: 1.0\n",
      "1\n",
      "   0    1.000000 ······· \u001b[1;34m 0 \u001b[0;32m 01111111 \u001b[1;36m 00000000000000000000000 \u001b[0;0m\n",
      "\n",
      "+ ( 1 ) * 2**1 \n",
      "Número ingresado: 2, número recuperado: 2.0\n",
      "2\n",
      "   1    2.000000 ······· \u001b[1;34m 0 \u001b[0;32m 10000000 \u001b[1;36m 00000000000000000000000 \u001b[0;0m\n",
      "\n",
      "+ ( 1 ) * 2**2 \n",
      "Número ingresado: 4, número recuperado: 4.0\n",
      "4\n",
      "   2    4.000000 ······· \u001b[1;34m 0 \u001b[0;32m 10000001 \u001b[1;36m 00000000000000000000000 \u001b[0;0m\n",
      "\n",
      "+ ( 1 ) * 2**3 \n",
      "Número ingresado: 8, número recuperado: 8.0\n",
      "8\n",
      "   3    8.000000 ······· \u001b[1;34m 0 \u001b[0;32m 10000010 \u001b[1;36m 00000000000000000000000 \u001b[0;0m\n",
      "\n"
     ]
    }
   ],
   "source": [
    "for i in range(-4, 4):\n",
    "    x = 2**i\n",
    "    b, s, e, m, r, = float2bin(x, 32, False, True)\n",
    "    print(f'{i: 4d}   {x: .6f} ······· {b}\\n')"
   ]
  },
  {
   "cell_type": "code",
   "execution_count": 9,
   "id": "welcome-junior",
   "metadata": {},
   "outputs": [
    {
     "name": "stdout",
     "output_type": "stream",
     "text": [
      "+ ( 1 + 1 * (1/2)**1 + 1 * (1/2)**2 + 1 * (1/2)**4 + 1 * (1/2)**5 + 1 * (1/2)**6 + 1 * (1/2)**9 + 1 * (1/2)**10 + 1 * (1/2)**12 + 1 * (1/2)**14 + 1 * (1/2)**15 + 1 * (1/2)**18 + 1 * (1/2)**20 ) * 2**29 \n",
      "Número ingresado: 1000000000.0, número recuperado: 1000000000.0\n",
      "1000000000.0\n",
      "+ ( 1 + 1 * (1/2)**2 + 1 * (1/2)**4 + 1 * (1/2)**6 + 1 * (1/2)**7 + 1 * (1/2)**8 + 1 * (1/2)**9 + 1 * (1/2)**12 + 1 * (1/2)**13 + 1 * (1/2)**17 + 1 * (1/2)**18 + 1 * (1/2)**19 + 1 * (1/2)**21 + 1 * (1/2)**22 + 1 * (1/2)**23 ) * 2**-27 \n",
      "Número ingresado: 1e-08, número recuperado: 9.99999993922529e-09\n",
      "9.99999993922529e-09\n"
     ]
    }
   ],
   "source": [
    "x = 1.e9\n",
    "b, s, e, m, r, = float_to_bin(x, 32, False, True)\n",
    "\n",
    "y = 1.e-8\n",
    "b, s, e, m, r, = float_to_bin(y, 32, False, True)"
   ]
  },
  {
   "cell_type": "code",
   "execution_count": 10,
   "id": "ordinary-elder",
   "metadata": {},
   "outputs": [
    {
     "data": {
      "text/plain": [
       "True"
      ]
     },
     "execution_count": 10,
     "metadata": {},
     "output_type": "execute_result"
    }
   ],
   "source": [
    "(x-y) == x"
   ]
  },
  {
   "cell_type": "code",
   "execution_count": 11,
   "id": "subjective-estonia",
   "metadata": {},
   "outputs": [
    {
     "data": {
      "text/plain": [
       "'0b100'"
      ]
     },
     "execution_count": 11,
     "metadata": {},
     "output_type": "execute_result"
    }
   ],
   "source": [
    "bin(4)"
   ]
  },
  {
   "cell_type": "code",
   "execution_count": 12,
   "id": "based-christopher",
   "metadata": {},
   "outputs": [
    {
     "data": {
      "text/plain": [
       "'0b1010101000011001'"
      ]
     },
     "execution_count": 12,
     "metadata": {},
     "output_type": "execute_result"
    }
   ],
   "source": [
    "bin(43545)"
   ]
  },
  {
   "cell_type": "markdown",
   "id": "chinese-joint",
   "metadata": {},
   "source": [
    "La representación de 1 y de 1. son muy diferentes!"
   ]
  },
  {
   "cell_type": "code",
   "execution_count": 13,
   "id": "square-pizza",
   "metadata": {},
   "outputs": [
    {
     "name": "stdout",
     "output_type": "stream",
     "text": [
      "0b1\n",
      "\u001b[1;34m 0 \u001b[0;32m 10011100 \u001b[1;36m 11011100110101100101000 \u001b[0;0m\n"
     ]
    }
   ],
   "source": [
    "print(bin(1))\n",
    "b, s, e, m, r, = float_to_bin(x, 32, False, False)\n",
    "print(b)"
   ]
  },
  {
   "cell_type": "code",
   "execution_count": 14,
   "id": "framed-lawyer",
   "metadata": {},
   "outputs": [
    {
     "data": {
      "text/plain": [
       "-1.7976931348623157e+308"
      ]
     },
     "execution_count": 14,
     "metadata": {},
     "output_type": "execute_result"
    }
   ],
   "source": [
    "import math\n",
    "math.nextafter(-math.inf, 0.)"
   ]
  },
  {
   "cell_type": "markdown",
   "id": "alive-island",
   "metadata": {},
   "source": [
    "¿Cuáles son los números más grande y más chico que se pueden representar?"
   ]
  },
  {
   "cell_type": "code",
   "execution_count": 15,
   "id": "norman-improvement",
   "metadata": {},
   "outputs": [
    {
     "name": "stdout",
     "output_type": "stream",
     "text": [
      "1.7976931348623157e+308\n",
      "\u001b[1;34m 0 \u001b[0;32m 11111111110 \u001b[1;36m 1111111111111111111111111111111111111111111111111111 \u001b[0;0m\n",
      "-1.7976931348623157e+308\n",
      "\u001b[1;34m 1 \u001b[0;32m 11111111110 \u001b[1;36m 1111111111111111111111111111111111111111111111111111 \u001b[0;0m\n"
     ]
    }
   ],
   "source": [
    "x = math.nextafter(math.inf, 0.)\n",
    "print(x)\n",
    "b, s, e, m, r, = float_to_bin(x, 64, False, False)\n",
    "print(b)\n",
    "\n",
    "x = math.nextafter(-math.inf, 0.)\n",
    "print(x)\n",
    "b, s, e, m, r, = float_to_bin(x, 64, False, False)\n",
    "print(b)"
   ]
  },
  {
   "cell_type": "markdown",
   "id": "strategic-promotion",
   "metadata": {},
   "source": [
    "¿Cuáles son los números más parecidos a cero que se pueden representar?"
   ]
  },
  {
   "cell_type": "code",
   "execution_count": 16,
   "id": "promotional-ranking",
   "metadata": {},
   "outputs": [
    {
     "name": "stdout",
     "output_type": "stream",
     "text": [
      "5e-324\n",
      "\u001b[1;34m 0 \u001b[0;32m 00000000000 \u001b[1;36m 0000000000000000000000000000000000000000000000000001 \u001b[0;0m\n",
      "-5e-324\n",
      "\u001b[1;34m 1 \u001b[0;32m 00000000000 \u001b[1;36m 0000000000000000000000000000000000000000000000000001 \u001b[0;0m\n"
     ]
    }
   ],
   "source": [
    "x = math.nextafter(0., 1.)\n",
    "print(x)\n",
    "b, s, e, m, r, = float_to_bin(x, 64, False, False)\n",
    "print(b)\n",
    "\n",
    "x = math.nextafter(0., -1.)\n",
    "print(x)\n",
    "b, s, e, m, r, = float_to_bin(x, 64, False, False)\n",
    "print(b)"
   ]
  },
  {
   "cell_type": "markdown",
   "id": "normal-doubt",
   "metadata": {},
   "source": [
    "Sumando de a un bit"
   ]
  },
  {
   "cell_type": "code",
   "execution_count": 18,
   "id": "first-primary",
   "metadata": {},
   "outputs": [
    {
     "name": "stdout",
     "output_type": "stream",
     "text": [
      "\u001b[1;34m 0 \u001b[0;32m 00000000000 \u001b[1;36m 0000000000000000000000000000000000000000000000000001 \u001b[0;0m 5e-324\n",
      "\u001b[1;34m 0 \u001b[0;32m 00000000000 \u001b[1;36m 0000000000000000000000000000000000000000000000000010 \u001b[0;0m 1e-323\n",
      "\u001b[1;34m 0 \u001b[0;32m 00000000000 \u001b[1;36m 0000000000000000000000000000000000000000000000000011 \u001b[0;0m 1.5e-323\n",
      "\u001b[1;34m 0 \u001b[0;32m 00000000000 \u001b[1;36m 0000000000000000000000000000000000000000000000000100 \u001b[0;0m 2e-323\n",
      "\u001b[1;34m 0 \u001b[0;32m 00000000000 \u001b[1;36m 0000000000000000000000000000000000000000000000000101 \u001b[0;0m 2.5e-323\n",
      "\u001b[1;34m 0 \u001b[0;32m 00000000000 \u001b[1;36m 0000000000000000000000000000000000000000000000000110 \u001b[0;0m 3e-323\n",
      "\u001b[1;34m 0 \u001b[0;32m 00000000000 \u001b[1;36m 0000000000000000000000000000000000000000000000000111 \u001b[0;0m 3.5e-323\n",
      "\u001b[1;34m 0 \u001b[0;32m 00000000000 \u001b[1;36m 0000000000000000000000000000000000000000000000001000 \u001b[0;0m 4e-323\n",
      "\u001b[1;34m 0 \u001b[0;32m 00000000000 \u001b[1;36m 0000000000000000000000000000000000000000000000001001 \u001b[0;0m 4.4e-323\n",
      "\u001b[1;34m 0 \u001b[0;32m 00000000000 \u001b[1;36m 0000000000000000000000000000000000000000000000001010 \u001b[0;0m 5e-323\n",
      "\u001b[1;34m 0 \u001b[0;32m 00000000000 \u001b[1;36m 0000000000000000000000000000000000000000000000001011 \u001b[0;0m 5.4e-323\n",
      "\u001b[1;34m 0 \u001b[0;32m 00000000000 \u001b[1;36m 0000000000000000000000000000000000000000000000001100 \u001b[0;0m 6e-323\n",
      "\u001b[1;34m 0 \u001b[0;32m 00000000000 \u001b[1;36m 0000000000000000000000000000000000000000000000001101 \u001b[0;0m 6.4e-323\n",
      "\u001b[1;34m 0 \u001b[0;32m 00000000000 \u001b[1;36m 0000000000000000000000000000000000000000000000001110 \u001b[0;0m 7e-323\n",
      "\u001b[1;34m 0 \u001b[0;32m 00000000000 \u001b[1;36m 0000000000000000000000000000000000000000000000001111 \u001b[0;0m 7.4e-323\n",
      "\u001b[1;34m 0 \u001b[0;32m 00000000000 \u001b[1;36m 0000000000000000000000000000000000000000000000010000 \u001b[0;0m 8e-323\n",
      "\u001b[1;34m 0 \u001b[0;32m 00000000000 \u001b[1;36m 0000000000000000000000000000000000000000000000010001 \u001b[0;0m 8.4e-323\n",
      "\u001b[1;34m 0 \u001b[0;32m 00000000000 \u001b[1;36m 0000000000000000000000000000000000000000000000010010 \u001b[0;0m 9e-323\n",
      "\u001b[1;34m 0 \u001b[0;32m 00000000000 \u001b[1;36m 0000000000000000000000000000000000000000000000010011 \u001b[0;0m 9.4e-323\n",
      "\u001b[1;34m 0 \u001b[0;32m 00000000000 \u001b[1;36m 0000000000000000000000000000000000000000000000010100 \u001b[0;0m 1e-322\n"
     ]
    }
   ],
   "source": [
    "x = 0.\n",
    "for i in range(20):\n",
    "    x = math.nextafter(x, 1.)\n",
    "    b, s, e, m, r, = float_to_bin(x, 64, False, False)\n",
    "    print(b, x)"
   ]
  },
  {
   "cell_type": "code",
   "execution_count": null,
   "id": "frequent-framing",
   "metadata": {},
   "outputs": [],
   "source": []
  },
  {
   "cell_type": "code",
   "execution_count": 19,
   "id": "finnish-attention",
   "metadata": {},
   "outputs": [],
   "source": [
    "b, s, e, m, r, = float_to_bin(3.3, 64, False, False)\n"
   ]
  },
  {
   "cell_type": "code",
   "execution_count": 25,
   "id": "technological-storm",
   "metadata": {},
   "outputs": [
    {
     "data": {
      "text/plain": [
       "'0100000000001010011001100110011001100110011001100110011001100110'"
      ]
     },
     "execution_count": 25,
     "metadata": {},
     "output_type": "execute_result"
    }
   ],
   "source": [
    "bitstring = s + e + m\n",
    "bitstring"
   ]
  },
  {
   "cell_type": "code",
   "execution_count": 26,
   "id": "excited-haven",
   "metadata": {},
   "outputs": [
    {
     "data": {
      "text/plain": [
       "3.3"
      ]
     },
     "execution_count": 26,
     "metadata": {},
     "output_type": "execute_result"
    }
   ],
   "source": [
    "bin_to_float(bitstring)"
   ]
  },
  {
   "cell_type": "code",
   "execution_count": null,
   "id": "advance-literacy",
   "metadata": {},
   "outputs": [],
   "source": []
  },
  {
   "cell_type": "markdown",
   "id": "modular-ordinance",
   "metadata": {},
   "source": [
    "Graficar todos los numeros que se pueden representar con una aritmética finita de 32 bits"
   ]
  },
  {
   "cell_type": "code",
   "execution_count": null,
   "id": "visible-sport",
   "metadata": {},
   "outputs": [],
   "source": []
  },
  {
   "cell_type": "code",
   "execution_count": null,
   "id": "listed-norman",
   "metadata": {},
   "outputs": [],
   "source": []
  },
  {
   "cell_type": "code",
   "execution_count": 61,
   "id": "thorough-network",
   "metadata": {},
   "outputs": [
    {
     "data": {
      "text/plain": [
       "101011.0"
      ]
     },
     "execution_count": 61,
     "metadata": {},
     "output_type": "execute_result"
    }
   ],
   "source": [
    "float('00101011')"
   ]
  },
  {
   "cell_type": "code",
   "execution_count": null,
   "id": "duplicate-pasta",
   "metadata": {},
   "outputs": [],
   "source": []
  },
  {
   "cell_type": "code",
   "execution_count": null,
   "id": "accepted-recipient",
   "metadata": {},
   "outputs": [],
   "source": []
  },
  {
   "cell_type": "markdown",
   "id": "monetary-salem",
   "metadata": {},
   "source": [
    "## Problemas de la aritmética finita"
   ]
  },
  {
   "cell_type": "code",
   "execution_count": 66,
   "id": "small-alarm",
   "metadata": {},
   "outputs": [
    {
     "data": {
      "text/plain": [
       "1.0000000000000002"
      ]
     },
     "execution_count": 66,
     "metadata": {},
     "output_type": "execute_result"
    }
   ],
   "source": [
    "1+ 2**-52"
   ]
  },
  {
   "cell_type": "code",
   "execution_count": 67,
   "id": "executed-arnold",
   "metadata": {},
   "outputs": [
    {
     "data": {
      "text/plain": [
       "1.0"
      ]
     },
     "execution_count": 67,
     "metadata": {},
     "output_type": "execute_result"
    }
   ],
   "source": [
    "1 + 2**-53 "
   ]
  },
  {
   "cell_type": "code",
   "execution_count": 39,
   "id": "occupational-donor",
   "metadata": {},
   "outputs": [
    {
     "name": "stdout",
     "output_type": "stream",
     "text": [
      "\u001b[1;34m 0 \u001b[0;32m 10011100 \u001b[1;36m 11011100110101100101000 \u001b[0;0m\n",
      "\u001b[1;34m 0 \u001b[0;32m 01100100 \u001b[1;36m 01010111100110001110111 \u001b[0;0m\n"
     ]
    }
   ],
   "source": [
    "x = 1.e9\n",
    "b, s, e, m, r, = float_to_bin(x, 32, False, False, True)\n",
    "\n",
    "y = 1.e-8\n",
    "b, s, e, m, r, = float_to_bin(y, 32, False, False, True)"
   ]
  },
  {
   "cell_type": "code",
   "execution_count": 22,
   "id": "piano-kitchen",
   "metadata": {},
   "outputs": [
    {
     "data": {
      "text/plain": [
       "True"
      ]
     },
     "execution_count": 22,
     "metadata": {},
     "output_type": "execute_result"
    }
   ],
   "source": [
    "(x+y) == x"
   ]
  },
  {
   "cell_type": "code",
   "execution_count": 25,
   "id": "changing-metro",
   "metadata": {},
   "outputs": [],
   "source": [
    "def bin_to_float(bitstring, precision=64):\n",
    "    \"\"\"Transform from binary to float\n",
    "    \"\"\"\n",
    "    \n",
    "    b = bitstring\n",
    "    if precision==64:\n",
    "        s = b[0]\n",
    "        e = b[1:12]\n",
    "        m = b[12:]\n",
    "    elif precision==32:\n",
    "        s = b[0]\n",
    "        e = b[1:9]\n",
    "        m = b[9:]\n",
    "    elif precision==16:\n",
    "        s = b[0]\n",
    "        e = b[1] + b[1:9][-4:]\n",
    "        m = b[9:][:10]\n",
    "    elif precision==8:\n",
    "        s = b[0]\n",
    "        e = b[1] + b[1:9][-2:]\n",
    "        m = b[9:][:4]\n",
    "\n",
    "    n = int(e, 2)\n",
    "    n = n - 2**(len(e)-1) + 1\n",
    "    r = 0\n",
    "    for k, b in enumerate(m):\n",
    "        f = 0 if b=='0' else 1\n",
    "        r = r + int(f)*(1/2)**(k+1)\n",
    "    r = (1 + r) * 2**n\n",
    "    if s==1:\n",
    "        r = -r\n",
    "    return r"
   ]
  },
  {
   "cell_type": "code",
   "execution_count": 26,
   "id": "wanted-teacher",
   "metadata": {},
   "outputs": [
    {
     "data": {
      "text/plain": [
       "1.7859177988785547e-102"
      ]
     },
     "execution_count": 26,
     "metadata": {},
     "output_type": "execute_result"
    }
   ],
   "source": [
    "bin_to_float('1010101011010')"
   ]
  },
  {
   "cell_type": "code",
   "execution_count": 27,
   "id": "electric-botswana",
   "metadata": {},
   "outputs": [],
   "source": [
    "a = 2**(-53)"
   ]
  },
  {
   "cell_type": "code",
   "execution_count": 28,
   "id": "happy-uganda",
   "metadata": {},
   "outputs": [
    {
     "data": {
      "text/plain": [
       "1.1102230246251565e-16"
      ]
     },
     "execution_count": 28,
     "metadata": {},
     "output_type": "execute_result"
    }
   ],
   "source": [
    "a"
   ]
  },
  {
   "cell_type": "code",
   "execution_count": 35,
   "id": "small-router",
   "metadata": {},
   "outputs": [
    {
     "data": {
      "text/plain": [
       "1.0"
      ]
     },
     "execution_count": 35,
     "metadata": {},
     "output_type": "execute_result"
    }
   ],
   "source": [
    "1.+a+a"
   ]
  },
  {
   "cell_type": "code",
   "execution_count": 34,
   "id": "chronic-panama",
   "metadata": {},
   "outputs": [
    {
     "data": {
      "text/plain": [
       "1.0000000000000002"
      ]
     },
     "execution_count": 34,
     "metadata": {},
     "output_type": "execute_result"
    }
   ],
   "source": [
    "a+a+1."
   ]
  },
  {
   "cell_type": "code",
   "execution_count": 36,
   "id": "electric-crystal",
   "metadata": {},
   "outputs": [
    {
     "data": {
      "text/plain": [
       "True"
      ]
     },
     "execution_count": 36,
     "metadata": {},
     "output_type": "execute_result"
    }
   ],
   "source": [
    "(1.+a+a) == 1."
   ]
  },
  {
   "cell_type": "code",
   "execution_count": 40,
   "id": "inclusive-sandwich",
   "metadata": {},
   "outputs": [
    {
     "name": "stdout",
     "output_type": "stream",
     "text": [
      "\u001b[1;34m 0 \u001b[0;32m 01111001010 \u001b[1;36m 0000000000000000000000000000000000000000000000000000 \u001b[0;0m\n",
      "\u001b[1;34m 0 \u001b[0;32m 01111111111 \u001b[1;36m 0000000000000000000000000000000000000000000000000000 \u001b[0;0m\n"
     ]
    }
   ],
   "source": [
    "b, s, e, m, r, = float_to_bin(a, 64, False, False, True)\n",
    "b, s, e, m, r, = float_to_bin(1., 64, False, False, True)"
   ]
  },
  {
   "cell_type": "code",
   "execution_count": 41,
   "id": "gross-reminder",
   "metadata": {},
   "outputs": [
    {
     "name": "stdout",
     "output_type": "stream",
     "text": [
      "\u001b[1;34m 0 \u001b[0;32m 01111001011 \u001b[1;36m 0000000000000000000000000000000000000000000000000000 \u001b[0;0m\n"
     ]
    }
   ],
   "source": [
    "b, s, e, m, r, = float_to_bin(a+a, 64, False, False, True)"
   ]
  },
  {
   "cell_type": "code",
   "execution_count": null,
   "id": "square-intro",
   "metadata": {},
   "outputs": [],
   "source": []
  },
  {
   "cell_type": "code",
   "execution_count": null,
   "id": "independent-blind",
   "metadata": {},
   "outputs": [],
   "source": []
  },
  {
   "cell_type": "code",
   "execution_count": null,
   "id": "standard-jumping",
   "metadata": {},
   "outputs": [],
   "source": []
  }
 ],
 "metadata": {
  "kernelspec": {
   "display_name": "Python 3",
   "language": "python",
   "name": "python3"
  },
  "language_info": {
   "codemirror_mode": {
    "name": "ipython",
    "version": 3
   },
   "file_extension": ".py",
   "mimetype": "text/x-python",
   "name": "python",
   "nbconvert_exporter": "python",
   "pygments_lexer": "ipython3",
   "version": "3.8.5"
  }
 },
 "nbformat": 4,
 "nbformat_minor": 5
}
