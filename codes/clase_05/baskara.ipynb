{
 "cells": [
  {
   "cell_type": "code",
   "execution_count": 2,
   "id": "neutral-maryland",
   "metadata": {},
   "outputs": [],
   "source": [
    "import math as m\n",
    "import numpy as np\n",
    "from matplotlib import pyplot as plt"
   ]
  },
  {
   "cell_type": "code",
   "execution_count": 3,
   "id": "outdoor-services",
   "metadata": {},
   "outputs": [],
   "source": [
    "a=1; b=-62.1; c=1"
   ]
  },
  {
   "cell_type": "code",
   "execution_count": 4,
   "id": "tight-belly",
   "metadata": {},
   "outputs": [],
   "source": [
    "x1=(-b+m.sqrt(b**2-4*a*c))/(2*a)\n",
    "x2=(-b-m.sqrt(b**2-4*a*c))/(2*a)"
   ]
  },
  {
   "cell_type": "code",
   "execution_count": 5,
   "id": "civic-venice",
   "metadata": {},
   "outputs": [
    {
     "name": "stdout",
     "output_type": "stream",
     "text": [
      "x1= 62.083892762591034 , x2= 0.016107237408967023\n",
      "p(x1)= 0.0\n",
      "p(x2)= 9.670042544485113e-14\n"
     ]
    }
   ],
   "source": [
    "print('x1=',x1,', x2=',x2)\n",
    "print('p(x1)=',a*x1**2+b*x1+c)\n",
    "print('p(x2)=',a*x2**2+b*x2+c)"
   ]
  },
  {
   "cell_type": "code",
   "execution_count": 3,
   "id": "secret-indicator",
   "metadata": {},
   "outputs": [
    {
     "data": {
      "text/plain": [
       "[<matplotlib.lines.Line2D at 0x7f673f004ac0>]"
      ]
     },
     "execution_count": 3,
     "metadata": {},
     "output_type": "execute_result"
    },
    {
     "data": {
      "image/png": "[encoded data removed]",
      "text/plain": [
       "<Figure size 432x288 with 1 Axes>"
      ]
     },
     "metadata": {
      "needs_background": "light"
     },
     "output_type": "display_data"
    }
   ],
   "source": [
    "x = np.linspace(-2, 2, 1000)\n",
    "y = a*x**2+b*x+c\n",
    "\n",
    "plt.plot(x, y)"
   ]
  },
  {
   "cell_type": "code",
   "execution_count": 6,
   "id": "fallen-momentum",
   "metadata": {},
   "outputs": [],
   "source": [
    "def raizCuad(a,b,c):\n",
    "  D=b**2-4*a*c\n",
    "  if D>0:\n",
    "    if b>=0:\n",
    "      x1=-2*c/(b+m.sqrt(D))\n",
    "      x2=(-b-m.sqrt(D))/(2*a)\n",
    "    else:\n",
    "      x1=(-b-m.sqrt(D))/(2*a)\n",
    "      x2=-2*c/(b-m.sqrt(D))\n",
    "    return [x1,x2]\n",
    "  elif D==0:\n",
    "    x=-b/(2*a)\n",
    "    return x\n",
    "  else:\n",
    "    return \"no existen raíces reales\""
   ]
  },
  {
   "cell_type": "code",
   "execution_count": 7,
   "id": "coral-nutrition",
   "metadata": {},
   "outputs": [
    {
     "name": "stdout",
     "output_type": "stream",
     "text": [
      "[-0.01610723740896858, -62.083892762591034]\n",
      "p(x1)= 0.0\n",
      "p(x2)= 0.0\n"
     ]
    }
   ],
   "source": [
    "a=1; b=62.1; c=1\n",
    "xnuevo=raizCuad(a,b,c)\n",
    "print(xnuevo)\n",
    "print('p(x1)=',a*xnuevo[0]**2+b*xnuevo[0]+c)\n",
    "print('p(x2)=',a*xnuevo[1]**2+b*xnuevo[1]+c)\n",
    "                                              "
   ]
  },
  {
   "cell_type": "code",
   "execution_count": null,
   "id": "exempt-patient",
   "metadata": {},
   "outputs": [],
   "source": []
  }
 ],
 "metadata": {
  "kernelspec": {
   "display_name": "Python 3",
   "language": "python",
   "name": "python3"
  },
  "language_info": {
   "codemirror_mode": {
    "name": "ipython",
    "version": 3
   },
   "file_extension": ".py",
   "mimetype": "text/x-python",
   "name": "python",
   "nbconvert_exporter": "python",
   "pygments_lexer": "ipython3",
   "version": "3.8.5"
  }
 },
 "nbformat": 4,
 "nbformat_minor": 5
}
