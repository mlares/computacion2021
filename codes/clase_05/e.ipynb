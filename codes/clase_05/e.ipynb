{
 "cells": [
  {
   "cell_type": "markdown",
   "id": "imposed-advocacy",
   "metadata": {},
   "source": [
    "### Cálculo de e"
   ]
  },
  {
   "cell_type": "code",
   "execution_count": 1,
   "id": "spectacular-stream",
   "metadata": {},
   "outputs": [],
   "source": [
    "import math"
   ]
  },
  {
   "cell_type": "code",
   "execution_count": 2,
   "id": "solar-swing",
   "metadata": {},
   "outputs": [
    {
     "name": "stdout",
     "output_type": "stream",
     "text": [
      "2.718281828459045\n"
     ]
    }
   ],
   "source": [
    "print(math.e)"
   ]
  },
  {
   "cell_type": "code",
   "execution_count": 3,
   "id": "twelve-pipeline",
   "metadata": {},
   "outputs": [
    {
     "name": "stdout",
     "output_type": "stream",
     "text": [
      "CPU times: user 8 µs, sys: 1 µs, total: 9 µs\n",
      "Wall time: 16.7 µs\n"
     ]
    }
   ],
   "source": [
    "%time\n",
    "e_aprox = 0.\n",
    "N = 100\n",
    "\n",
    "for i in range(N):\n",
    "    e_aprox = e_aprox + 1/math.factorial(i)"
   ]
  },
  {
   "cell_type": "code",
   "execution_count": 4,
   "id": "liquid-rapid",
   "metadata": {},
   "outputs": [
    {
     "name": "stdout",
     "output_type": "stream",
     "text": [
      "2.7182818284590455\n",
      "4.440892098500626e-16\n"
     ]
    }
   ],
   "source": [
    "print(e_aprox)\n",
    "print(e_aprox-math.e)"
   ]
  },
  {
   "cell_type": "code",
   "execution_count": 5,
   "id": "resident-transcript",
   "metadata": {},
   "outputs": [
    {
     "name": "stdout",
     "output_type": "stream",
     "text": [
      "CPU times: user 6 µs, sys: 1 µs, total: 7 µs\n",
      "Wall time: 13.1 µs\n"
     ]
    }
   ],
   "source": [
    "%time\n",
    "e_aprox = 0.\n",
    "N = 100\n",
    "\n",
    "for i in range(N):\n",
    "    j = N-i-1\n",
    "    e_aprox = e_aprox + 1/math.factorial(j)"
   ]
  },
  {
   "cell_type": "code",
   "execution_count": 6,
   "id": "assigned-pencil",
   "metadata": {},
   "outputs": [
    {
     "name": "stdout",
     "output_type": "stream",
     "text": [
      "2.718281828459045\n",
      "0.0\n"
     ]
    }
   ],
   "source": [
    "print(e_aprox)\n",
    "print(e_aprox-math.e)"
   ]
  },
  {
   "cell_type": "code",
   "execution_count": null,
   "id": "saving-american",
   "metadata": {},
   "outputs": [],
   "source": []
  },
  {
   "cell_type": "code",
   "execution_count": 7,
   "id": "useful-handy",
   "metadata": {},
   "outputs": [
    {
     "name": "stdout",
     "output_type": "stream",
     "text": [
      "CPU times: user 5 µs, sys: 1 µs, total: 6 µs\n",
      "Wall time: 10.3 µs\n"
     ]
    }
   ],
   "source": [
    "%time\n",
    "e_aprox = 1.\n",
    "N = 100\n",
    "\n",
    "f = 1\n",
    "for i in range(1,N):\n",
    "    f = f*i\n",
    "    e_aprox = e_aprox + 1/f    "
   ]
  },
  {
   "cell_type": "code",
   "execution_count": 8,
   "id": "southwest-century",
   "metadata": {},
   "outputs": [
    {
     "name": "stdout",
     "output_type": "stream",
     "text": [
      "2.7182818284590455\n",
      "4.440892098500626e-16\n"
     ]
    }
   ],
   "source": [
    "print(e_aprox)\n",
    "print(e_aprox-math.e)"
   ]
  },
  {
   "cell_type": "code",
   "execution_count": 9,
   "id": "protective-iceland",
   "metadata": {},
   "outputs": [
    {
     "name": "stdout",
     "output_type": "stream",
     "text": [
      "CPU times: user 1 µs, sys: 0 ns, total: 1 µs\n",
      "Wall time: 2.38 µs\n"
     ]
    }
   ],
   "source": [
    "%time\n",
    "e_aprox = 1.\n",
    "N = 100\n",
    "\n",
    "for i in range(1,N-1):\n",
    "    j = N-i-1\n",
    "    e_aprox = e_aprox + 1/math.factorial(j)"
   ]
  },
  {
   "cell_type": "code",
   "execution_count": 10,
   "id": "broken-royalty",
   "metadata": {},
   "outputs": [
    {
     "name": "stdout",
     "output_type": "stream",
     "text": [
      "2.7182818284590455\n"
     ]
    }
   ],
   "source": [
    "print(e_aprox)"
   ]
  },
  {
   "cell_type": "code",
   "execution_count": null,
   "id": "ambient-theta",
   "metadata": {},
   "outputs": [],
   "source": []
  },
  {
   "cell_type": "code",
   "execution_count": 26,
   "id": "incredible-chosen",
   "metadata": {},
   "outputs": [],
   "source": [
    "def e_aprox_1(N):\n",
    "    e_aprox = 0.\n",
    "\n",
    "    for i in range(N):\n",
    "        e_aprox = e_aprox + 1/math.factorial(i)\n",
    "    return e_aprox"
   ]
  },
  {
   "cell_type": "code",
   "execution_count": 27,
   "id": "tender-relaxation",
   "metadata": {},
   "outputs": [],
   "source": [
    "def e_aprox_2(N):\n",
    "    e_aprox = 0.\n",
    "\n",
    "    for i in range(N):\n",
    "        j = N-i-1\n",
    "        e_aprox = e_aprox + 1/math.factorial(j)\n",
    "    return e_aprox"
   ]
  },
  {
   "cell_type": "code",
   "execution_count": 28,
   "id": "concrete-invite",
   "metadata": {},
   "outputs": [],
   "source": [
    "def e_aprox_3(N):\n",
    "    e_aprox = 1.\n",
    "\n",
    "    f = 1\n",
    "    for i in range(1,N):\n",
    "        f = f*i\n",
    "        e_aprox = e_aprox + 1/f  \n",
    "    return e_aprox"
   ]
  },
  {
   "cell_type": "code",
   "execution_count": 32,
   "id": "tutorial-permission",
   "metadata": {},
   "outputs": [
    {
     "name": "stdout",
     "output_type": "stream",
     "text": [
      "CPU times: user 2 µs, sys: 0 ns, total: 2 µs\n",
      "Wall time: 3.1 µs\n"
     ]
    }
   ],
   "source": [
    "%time\n",
    "for _ in range(100):\n",
    "    e_aprox_1(1000)"
   ]
  },
  {
   "cell_type": "code",
   "execution_count": 33,
   "id": "restricted-polls",
   "metadata": {},
   "outputs": [
    {
     "name": "stdout",
     "output_type": "stream",
     "text": [
      "CPU times: user 1e+03 ns, sys: 0 ns, total: 1e+03 ns\n",
      "Wall time: 2.86 µs\n"
     ]
    }
   ],
   "source": [
    "%time\n",
    "for _ in range(100):\n",
    "    e_aprox_2(1000)"
   ]
  },
  {
   "cell_type": "code",
   "execution_count": 34,
   "id": "passive-dance",
   "metadata": {},
   "outputs": [
    {
     "name": "stdout",
     "output_type": "stream",
     "text": [
      "CPU times: user 1 µs, sys: 0 ns, total: 1 µs\n",
      "Wall time: 2.86 µs\n"
     ]
    }
   ],
   "source": [
    "%time\n",
    "for _ in range(100):\n",
    "    e_aprox_3(1000)"
   ]
  },
  {
   "cell_type": "code",
   "execution_count": null,
   "id": "incorrect-spare",
   "metadata": {},
   "outputs": [],
   "source": []
  }
 ],
 "metadata": {
  "kernelspec": {
   "display_name": "Python 3",
   "language": "python",
   "name": "python3"
  },
  "language_info": {
   "codemirror_mode": {
    "name": "ipython",
    "version": 3
   },
   "file_extension": ".py",
   "mimetype": "text/x-python",
   "name": "python",
   "nbconvert_exporter": "python",
   "pygments_lexer": "ipython3",
   "version": "3.8.5"
  }
 },
 "nbformat": 4,
 "nbformat_minor": 5
}
