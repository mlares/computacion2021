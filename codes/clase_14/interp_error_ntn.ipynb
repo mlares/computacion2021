{
 "cells": [
  {
   "cell_type": "markdown",
   "id": "spare-kennedy",
   "metadata": {},
   "source": [
    "# Ejemplo: error del polinomio interpolante de Lagrange"
   ]
  },
  {
   "cell_type": "code",
   "execution_count": 201,
   "id": "protected-terror",
   "metadata": {},
   "outputs": [],
   "source": [
    "import numpy as np\n",
    "from matplotlib import pyplot as plt\n",
    "import interp_tools as it\n",
    "\n",
    "from numpy.polynomial import polynomial as P\n",
    "from functools import partial\n",
    "import math"
   ]
  },
  {
   "cell_type": "markdown",
   "id": "related-times",
   "metadata": {},
   "source": [
    "Sea $f(x)=\\frac{1}{x}$ \n",
    "   "
   ]
  },
  {
   "cell_type": "code",
   "execution_count": 202,
   "id": "increasing-smooth",
   "metadata": {},
   "outputs": [],
   "source": [
    "f = lambda x: 1/x"
   ]
  },
  {
   "cell_type": "markdown",
   "id": "comprehensive-junction",
   "metadata": {},
   "source": [
    "   y $P(x)$ el polinomio interpolante de Lagrange en los\n",
    "   puntos $x_0=2, x_1=2.75, x_2=4$ (notar que $n=2$).\n",
    "   "
   ]
  },
  {
   "cell_type": "markdown",
   "id": "compliant-prior",
   "metadata": {},
   "source": [
    "________"
   ]
  },
  {
   "cell_type": "markdown",
   "id": "metallic-monthly",
   "metadata": {},
   "source": [
    "#### Datos:"
   ]
  },
  {
   "cell_type": "code",
   "execution_count": 244,
   "id": "veterinary-madonna",
   "metadata": {},
   "outputs": [],
   "source": [
    "xd = np.array([2, 2.75, 4])"
   ]
  },
  {
   "cell_type": "code",
   "execution_count": 245,
   "id": "surrounded-blind",
   "metadata": {},
   "outputs": [],
   "source": [
    "# xd = np.array([2, 2.34, 2.87, 3.02, 3.45, 3.48, 4])"
   ]
  },
  {
   "cell_type": "code",
   "execution_count": 246,
   "id": "valued-bookmark",
   "metadata": {},
   "outputs": [],
   "source": [
    "# xd = np.linspace(2, 10, 18)"
   ]
  },
  {
   "cell_type": "code",
   "execution_count": 247,
   "id": "sudden-scientist",
   "metadata": {},
   "outputs": [],
   "source": [
    "yd = f(xd)"
   ]
  },
  {
   "cell_type": "code",
   "execution_count": 248,
   "id": "speaking-bundle",
   "metadata": {},
   "outputs": [],
   "source": [
    "xi = np.linspace(min(xd), max(xd), 200)\n",
    "ym = f(xi)"
   ]
  },
  {
   "cell_type": "markdown",
   "id": "lucky-replication",
   "metadata": {},
   "source": [
    "_______"
   ]
  },
  {
   "cell_type": "markdown",
   "id": "invisible-repository",
   "metadata": {},
   "source": [
    "#### Interpolación de Newton:"
   ]
  },
  {
   "cell_type": "code",
   "execution_count": 264,
   "id": "increased-boring",
   "metadata": {},
   "outputs": [],
   "source": [
    "yl = it.interp_newton(xi, xd, yd)"
   ]
  },
  {
   "cell_type": "code",
   "execution_count": 265,
   "id": "established-drink",
   "metadata": {},
   "outputs": [
    {
     "data": {
      "text/plain": [
       "<matplotlib.legend.Legend at 0x7fae0df8adf0>"
      ]
     },
     "execution_count": 265,
     "metadata": {},
     "output_type": "execute_result"
    },
    {
     "data": {
      "image/png": "[encoded data removed]",
      "text/plain": [
       "<Figure size 864x432 with 1 Axes>"
      ]
     },
     "metadata": {
      "needs_background": "light"
     },
     "output_type": "display_data"
    }
   ],
   "source": [
    "fig = plt.figure(figsize=(12, 6))\n",
    "ax = fig.add_subplot()\n",
    "ax.plot(xi, yl, linewidth=1.4, linestyle='-', color='orchid', \n",
    "        label='lagrange')\n",
    "ax.plot(xd, yd, marker='o', linestyle='None', color='navy', markersize=5)\n",
    "ax.grid()\n",
    "ax.legend()"
   ]
  },
  {
   "cell_type": "markdown",
   "id": "alternative-jonathan",
   "metadata": {},
   "source": [
    "_____"
   ]
  },
  {
   "cell_type": "markdown",
   "id": "heard-mixture",
   "metadata": {},
   "source": [
    "#### Análisis del error"
   ]
  },
  {
   "cell_type": "markdown",
   "id": "regional-sheriff",
   "metadata": {},
   "source": [
    "   La función cumple con las hipótesis del teorema, sus derivadas son:\n",
    "\n",
    "   $$f^{(1)}(x) = -\\frac{1}{x^2}, \n",
    "   \\qquad f^{(2)}(x)=2\\frac{1}{x^3}, \n",
    "   \\qquad f^{(3)}(x)=-6\\frac{1}{x^4}$$"
   ]
  },
  {
   "cell_type": "markdown",
   "id": "handled-steps",
   "metadata": {},
   "source": [
    "En general, $$f^{(k)}(x)= (-1)^k k! \\frac{1}{x^{(k+1)}} $$"
   ]
  },
  {
   "cell_type": "markdown",
   "id": "thick-bargain",
   "metadata": {},
   "source": [
    "Por el teorema podemos decir que su error $E(x)=f(x)-P(x)$ está dado por:\n",
    "\n",
    "   \\begin{eqnarray*}\n",
    "      E(x)&=\\frac{f^{(n+1)}(\\xi)}{(n+1)!}(x-x_0)(x-x_1)...(x-x_n) \\\\\n",
    "      &=\\frac{f^{(n+1)}(\\xi)}{(n+1)!}(x-2)(x-2.75)(x-4) \\\\\n",
    "      &=\\frac{6}{(\\xi(x))^4 3!}(x-2)(x-2.75)(x-4) \\\\\n",
    "      &=\\frac{1}{\\xi(x)^4}(x-2)(x-2.75)(x-4)\n",
    "   \\end{eqnarray*}\n",
    "\n",
    "para **algún valor de $\\xi(x)$**.\n",
    "Ahora queremos hallar el máximo de $E(x)$ para acotar el error.                   "
   ]
  },
  {
   "cell_type": "markdown",
   "id": "little-symposium",
   "metadata": {},
   "source": [
    "Para eso vamos a considerar **dos factores**:\n",
    "    \n",
    "- $\\frac{1}{\\xi(x)^4}$\n",
    "- $(x-2)(x-2.75)(x-4)$"
   ]
  },
  {
   "cell_type": "markdown",
   "id": "caroline-coast",
   "metadata": {},
   "source": [
    "En general, \n",
    "\n",
    "- $f^{(n+1)}(x) / (n+1)! = \\left[(-1)^{(n+1)} (n+1)! \\frac{1}{x^{(n+2)}}\\right] \\frac{1}{(n+1)!} = (-1)^{(n+1)} \\frac{1}{x^{(n+2)}}$\n",
    "\n",
    "- $(x-x_0)(x-x_1)...(x-x_n)$"
   ]
  },
  {
   "cell_type": "code",
   "execution_count": 266,
   "id": "passing-conclusion",
   "metadata": {},
   "outputs": [],
   "source": [
    "def f_xi(x, n):\n",
    "    # (n+1) es el numero de puntos\n",
    "    z = pow(-1, n+1) / pow(x, n+2)\n",
    "    z = abs(z)\n",
    "    return z"
   ]
  },
  {
   "cell_type": "markdown",
   "id": "banner-community",
   "metadata": {},
   "source": [
    "Como \n",
    "      $$2 < \\xi(x) < 4$$\n",
    "\n",
    "entonces  $$\\xi(x)^4 \\ge 1/2^4 = 1/16 = 0.0625$$ para todos los $x \\in [2, 4]$"
   ]
  },
  {
   "cell_type": "markdown",
   "id": "pediatric-wound",
   "metadata": {},
   "source": [
    "Ahora consideremos \n",
    "\n",
    "   $$g(x) = 1/16 (x-2)(x-2.75)(x-4)$$\n",
    "\n",
    "Esta función tiene puntos críticos en $7/3$ y $7/2$, y el máximo de su valor\n",
    "   absoluto es $|g(7/2)|=9/16$.\n",
    "\n",
    "   Por lo tanto, \n",
    "\n",
    "   $$E(x)=\\frac{f^{(n+1)}(\\xi)}{(n+1)!}(x-2)(x-2.75)(x-4) \\le \\frac{1}{16}\n",
    "   \\frac{9}{16} = 9/256$$\n",
    "                         "
   ]
  },
  {
   "cell_type": "code",
   "execution_count": 267,
   "id": "german-repeat",
   "metadata": {},
   "outputs": [
    {
     "name": "stdout",
     "output_type": "stream",
     "text": [
      "0.0625\n"
     ]
    }
   ],
   "source": [
    "n = len(xd)-1\n",
    "xi_factor = f_xi(2, n)\n",
    "print(xi_factor)"
   ]
  },
  {
   "cell_type": "code",
   "execution_count": 268,
   "id": "pleasant-electronics",
   "metadata": {},
   "outputs": [
    {
     "data": {
      "text/plain": [
       "[<matplotlib.lines.Line2D at 0x7fae0e1864c0>]"
      ]
     },
     "execution_count": 268,
     "metadata": {},
     "output_type": "execute_result"
    },
    {
     "data": {
      "image/png": "[encoded data removed]",
      "text/plain": [
       "<Figure size 864x432 with 1 Axes>"
      ]
     },
     "metadata": {
      "needs_background": "light"
     },
     "output_type": "display_data"
    }
   ],
   "source": [
    "fig = plt.figure(figsize=(12, 6))\n",
    "ax = fig.add_subplot()\n",
    "\n",
    "yxi = f_xi(xi, 2)\n",
    "ax.plot(xi, yxi)\n",
    "ax.plot(xi[0], yxi[0], 'o')"
   ]
  },
  {
   "cell_type": "code",
   "execution_count": 269,
   "id": "grand-oasis",
   "metadata": {},
   "outputs": [
    {
     "data": {
      "text/plain": [
       "<matplotlib.legend.Legend at 0x7fae0e21ab50>"
      ]
     },
     "execution_count": 269,
     "metadata": {},
     "output_type": "execute_result"
    },
    {
     "data": {
      "image/png": "[encoded data removed]",
      "text/plain": [
       "<Figure size 864x432 with 1 Axes>"
      ]
     },
     "metadata": {
      "needs_background": "light"
     },
     "output_type": "display_data"
    }
   ],
   "source": [
    "fig = plt.figure(figsize=(12, 6))\n",
    "ax = fig.add_subplot()\n",
    "\n",
    "# el polinomio g\n",
    "coefs = P.polyfromroots(xd)\n",
    "g = partial(P.polyval, c=coefs)\n",
    "\n",
    "ax.plot(xi, np.absolute(g(xi)), label='función g(x)')\n",
    "ax.grid()\n",
    "ax.legend()"
   ]
  },
  {
   "cell_type": "code",
   "execution_count": 270,
   "id": "close-franklin",
   "metadata": {},
   "outputs": [],
   "source": [
    "# puntos críticos\n",
    "\n",
    "coefs_prima = P.polyder(coefs)\n",
    "gprima = partial(P.polyval, c=coefs_prima)\n",
    "rs = P.polyroots(coefs_prima)"
   ]
  },
  {
   "cell_type": "code",
   "execution_count": 271,
   "id": "amber-middle",
   "metadata": {},
   "outputs": [
    {
     "data": {
      "text/plain": [
       "<matplotlib.legend.Legend at 0x7fae0de98a30>"
      ]
     },
     "execution_count": 271,
     "metadata": {},
     "output_type": "execute_result"
    },
    {
     "data": {
      "image/png": "[encoded data removed]",
      "text/plain": [
       "<Figure size 864x432 with 1 Axes>"
      ]
     },
     "metadata": {
      "needs_background": "light"
     },
     "output_type": "display_data"
    }
   ],
   "source": [
    "fig = plt.figure(figsize=(12, 6))\n",
    "ax = fig.add_subplot()\n",
    "ax.plot(xi, gprima(xi), label=r'función g$_x$(x)')\n",
    "for r in rs:\n",
    "    ax.plot(r, gprima(r), 'o', color='k')\n",
    "ax.grid()\n",
    "ax.legend()"
   ]
  },
  {
   "cell_type": "code",
   "execution_count": 272,
   "id": "herbal-bryan",
   "metadata": {},
   "outputs": [
    {
     "name": "stdout",
     "output_type": "stream",
     "text": [
      "2.333333333333334\n",
      "3.499999999999999\n",
      "0.23148148148148096\n",
      "-0.5625000000000071\n"
     ]
    }
   ],
   "source": [
    "print(rs[0])\n",
    "print(rs[1])\n",
    "for r in rs:\n",
    "    print(g(r))"
   ]
  },
  {
   "cell_type": "code",
   "execution_count": 273,
   "id": "colored-honey",
   "metadata": {},
   "outputs": [
    {
     "data": {
      "text/plain": [
       "array([0.23148148, 0.5625    ])"
      ]
     },
     "execution_count": 273,
     "metadata": {},
     "output_type": "execute_result"
    }
   ],
   "source": [
    "np.absolute(g(rs))"
   ]
  },
  {
   "cell_type": "code",
   "execution_count": 274,
   "id": "helpful-hardwood",
   "metadata": {},
   "outputs": [
    {
     "data": {
      "text/plain": [
       "0.5625000000000071"
      ]
     },
     "execution_count": 274,
     "metadata": {},
     "output_type": "execute_result"
    }
   ],
   "source": [
    "rmax = max(np.absolute(g(rs)))\n",
    "rmax"
   ]
  },
  {
   "cell_type": "code",
   "execution_count": 275,
   "id": "conscious-handling",
   "metadata": {},
   "outputs": [
    {
     "name": "stdout",
     "output_type": "stream",
     "text": [
      "0.035156250000000444\n"
     ]
    }
   ],
   "source": [
    "Em = xi_factor*rmax\n",
    "print(Em)"
   ]
  },
  {
   "cell_type": "code",
   "execution_count": 276,
   "id": "infinite-lottery",
   "metadata": {},
   "outputs": [
    {
     "data": {
      "image/png": "[encoded data removed]",
      "text/plain": [
       "<Figure size 864x432 with 1 Axes>"
      ]
     },
     "metadata": {
      "needs_background": "light"
     },
     "output_type": "display_data"
    }
   ],
   "source": [
    "fig = plt.figure(figsize=(12, 6))\n",
    "ax = fig.add_subplot()\n",
    "\n",
    "ax.plot(xi, yl-ym, linewidth=3, color='indigo')\n",
    "\n",
    "ax.plot(xd, [0]*len(xd), marker='o', linestyle='None', color='navy',\n",
    "        markersize=8, mfc='white', mec='indigo', mew=2)\n",
    "ax.axhline(Em, color='rebeccapurple', linestyle='--')\n",
    "ax.axhline(-Em, color='rebeccapurple', linestyle='--')\n",
    "ax.set_ylabel('ERROR')\n",
    "ax.set_xlabel('x')\n",
    "ax.grid()"
   ]
  },
  {
   "cell_type": "code",
   "execution_count": null,
   "id": "chief-shield",
   "metadata": {},
   "outputs": [],
   "source": []
  },
  {
   "cell_type": "code",
   "execution_count": null,
   "id": "marine-complement",
   "metadata": {},
   "outputs": [],
   "source": []
  },
  {
   "cell_type": "code",
   "execution_count": null,
   "id": "younger-update",
   "metadata": {},
   "outputs": [],
   "source": []
  },
  {
   "cell_type": "code",
   "execution_count": null,
   "id": "filled-exclusive",
   "metadata": {},
   "outputs": [],
   "source": []
  },
  {
   "cell_type": "code",
   "execution_count": null,
   "id": "diverse-notebook",
   "metadata": {},
   "outputs": [],
   "source": []
  },
  {
   "cell_type": "code",
   "execution_count": null,
   "id": "sound-brake",
   "metadata": {},
   "outputs": [],
   "source": []
  },
  {
   "cell_type": "code",
   "execution_count": null,
   "id": "certified-feedback",
   "metadata": {},
   "outputs": [],
   "source": []
  },
  {
   "cell_type": "code",
   "execution_count": null,
   "id": "dried-cycling",
   "metadata": {},
   "outputs": [],
   "source": []
  },
  {
   "cell_type": "code",
   "execution_count": null,
   "id": "executive-trigger",
   "metadata": {},
   "outputs": [],
   "source": []
  },
  {
   "cell_type": "code",
   "execution_count": null,
   "id": "comparable-dominican",
   "metadata": {},
   "outputs": [],
   "source": []
  },
  {
   "cell_type": "code",
   "execution_count": null,
   "id": "overhead-snake",
   "metadata": {},
   "outputs": [],
   "source": []
  }
 ],
 "metadata": {
  "kernelspec": {
   "display_name": "Python 3 (ipykernel)",
   "language": "python",
   "name": "python3"
  },
  "language_info": {
   "codemirror_mode": {
    "name": "ipython",
    "version": 3
   },
   "file_extension": ".py",
   "mimetype": "text/x-python",
   "name": "python",
   "nbconvert_exporter": "python",
   "pygments_lexer": "ipython3",
   "version": "3.8.10"
  }
 },
 "nbformat": 4,
 "nbformat_minor": 5
}
