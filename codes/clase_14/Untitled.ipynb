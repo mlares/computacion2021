{
 "cells": [
  {
   "cell_type": "code",
   "execution_count": 1,
   "id": "greek-vancouver",
   "metadata": {},
   "outputs": [],
   "source": [
    "import interp_tools as it"
   ]
  },
  {
   "cell_type": "code",
   "execution_count": 2,
   "id": "configured-cigarette",
   "metadata": {},
   "outputs": [],
   "source": [
    "import numpy as np\n",
    "from matplotlib import pyplot as plt"
   ]
  },
  {
   "cell_type": "code",
   "execution_count": 3,
   "id": "interracial-sandwich",
   "metadata": {},
   "outputs": [],
   "source": [
    "def f(x):\n",
    "    return 1/x"
   ]
  },
  {
   "cell_type": "code",
   "execution_count": 4,
   "id": "communist-alignment",
   "metadata": {},
   "outputs": [],
   "source": [
    "xd = np.linspace(1, 10, 12)"
   ]
  },
  {
   "cell_type": "code",
   "execution_count": 5,
   "id": "nonprofit-senator",
   "metadata": {},
   "outputs": [],
   "source": [
    "yd = f(xd)"
   ]
  },
  {
   "cell_type": "code",
   "execution_count": 6,
   "id": "thirty-sweden",
   "metadata": {},
   "outputs": [],
   "source": [
    "xi = np.linspace(1, 10, 35)"
   ]
  },
  {
   "cell_type": "code",
   "execution_count": 7,
   "id": "offensive-thunder",
   "metadata": {},
   "outputs": [],
   "source": [
    "yl = it.interp_lagrange(xi, xd, yd)"
   ]
  },
  {
   "cell_type": "code",
   "execution_count": 8,
   "id": "victorian-sheriff",
   "metadata": {},
   "outputs": [
    {
     "name": "stdout",
     "output_type": "stream",
     "text": [
      "M[0, 1]= (M[1,0]-M[0, 0])/(x[1] - x[0])\n",
      "\n",
      "M[1, 1]= (M[2,0]-M[1, 0])/(x[2] - x[1])\n",
      "\n",
      "M[2, 1]= (M[3,0]-M[2, 0])/(x[3] - x[2])\n",
      "\n",
      "M[3, 1]= (M[4,0]-M[3, 0])/(x[4] - x[3])\n",
      "\n",
      "M[4, 1]= (M[5,0]-M[4, 0])/(x[5] - x[4])\n",
      "\n",
      "M[5, 1]= (M[6,0]-M[5, 0])/(x[6] - x[5])\n",
      "\n",
      "M[6, 1]= (M[7,0]-M[6, 0])/(x[7] - x[6])\n",
      "\n",
      "M[7, 1]= (M[8,0]-M[7, 0])/(x[8] - x[7])\n",
      "\n",
      "M[8, 1]= (M[9,0]-M[8, 0])/(x[9] - x[8])\n",
      "\n",
      "M[9, 1]= (M[10,0]-M[9, 0])/(x[10] - x[9])\n",
      "\n",
      "M[10, 1]= (M[11,0]-M[10, 0])/(x[11] - x[10])\n",
      "\n",
      "M[0, 2]= (M[1,1]-M[0, 1])/(x[2] - x[0])\n",
      "\n",
      "M[1, 2]= (M[2,1]-M[1, 1])/(x[3] - x[1])\n",
      "\n",
      "M[2, 2]= (M[3,1]-M[2, 1])/(x[4] - x[2])\n",
      "\n",
      "M[3, 2]= (M[4,1]-M[3, 1])/(x[5] - x[3])\n",
      "\n",
      "M[4, 2]= (M[5,1]-M[4, 1])/(x[6] - x[4])\n",
      "\n",
      "M[5, 2]= (M[6,1]-M[5, 1])/(x[7] - x[5])\n",
      "\n",
      "M[6, 2]= (M[7,1]-M[6, 1])/(x[8] - x[6])\n",
      "\n",
      "M[7, 2]= (M[8,1]-M[7, 1])/(x[9] - x[7])\n",
      "\n",
      "M[8, 2]= (M[9,1]-M[8, 1])/(x[10] - x[8])\n",
      "\n",
      "M[9, 2]= (M[10,1]-M[9, 1])/(x[11] - x[9])\n",
      "\n",
      "M[0, 3]= (M[1,2]-M[0, 2])/(x[3] - x[0])\n",
      "\n",
      "M[1, 3]= (M[2,2]-M[1, 2])/(x[4] - x[1])\n",
      "\n",
      "M[2, 3]= (M[3,2]-M[2, 2])/(x[5] - x[2])\n",
      "\n",
      "M[3, 3]= (M[4,2]-M[3, 2])/(x[6] - x[3])\n",
      "\n",
      "M[4, 3]= (M[5,2]-M[4, 2])/(x[7] - x[4])\n",
      "\n",
      "M[5, 3]= (M[6,2]-M[5, 2])/(x[8] - x[5])\n",
      "\n",
      "M[6, 3]= (M[7,2]-M[6, 2])/(x[9] - x[6])\n",
      "\n",
      "M[7, 3]= (M[8,2]-M[7, 2])/(x[10] - x[7])\n",
      "\n",
      "M[8, 3]= (M[9,2]-M[8, 2])/(x[11] - x[8])\n",
      "\n",
      "M[0, 4]= (M[1,3]-M[0, 3])/(x[4] - x[0])\n",
      "\n",
      "M[1, 4]= (M[2,3]-M[1, 3])/(x[5] - x[1])\n",
      "\n",
      "M[2, 4]= (M[3,3]-M[2, 3])/(x[6] - x[2])\n",
      "\n",
      "M[3, 4]= (M[4,3]-M[3, 3])/(x[7] - x[3])\n",
      "\n",
      "M[4, 4]= (M[5,3]-M[4, 3])/(x[8] - x[4])\n",
      "\n",
      "M[5, 4]= (M[6,3]-M[5, 3])/(x[9] - x[5])\n",
      "\n",
      "M[6, 4]= (M[7,3]-M[6, 3])/(x[10] - x[6])\n",
      "\n",
      "M[7, 4]= (M[8,3]-M[7, 3])/(x[11] - x[7])\n",
      "\n",
      "M[0, 5]= (M[1,4]-M[0, 4])/(x[5] - x[0])\n",
      "\n",
      "M[1, 5]= (M[2,4]-M[1, 4])/(x[6] - x[1])\n",
      "\n",
      "M[2, 5]= (M[3,4]-M[2, 4])/(x[7] - x[2])\n",
      "\n",
      "M[3, 5]= (M[4,4]-M[3, 4])/(x[8] - x[3])\n",
      "\n",
      "M[4, 5]= (M[5,4]-M[4, 4])/(x[9] - x[4])\n",
      "\n",
      "M[5, 5]= (M[6,4]-M[5, 4])/(x[10] - x[5])\n",
      "\n",
      "M[6, 5]= (M[7,4]-M[6, 4])/(x[11] - x[6])\n",
      "\n",
      "M[0, 6]= (M[1,5]-M[0, 5])/(x[6] - x[0])\n",
      "\n",
      "M[1, 6]= (M[2,5]-M[1, 5])/(x[7] - x[1])\n",
      "\n",
      "M[2, 6]= (M[3,5]-M[2, 5])/(x[8] - x[2])\n",
      "\n",
      "M[3, 6]= (M[4,5]-M[3, 5])/(x[9] - x[3])\n",
      "\n",
      "M[4, 6]= (M[5,5]-M[4, 5])/(x[10] - x[4])\n",
      "\n",
      "M[5, 6]= (M[6,5]-M[5, 5])/(x[11] - x[5])\n",
      "\n",
      "M[0, 7]= (M[1,6]-M[0, 6])/(x[7] - x[0])\n",
      "\n",
      "M[1, 7]= (M[2,6]-M[1, 6])/(x[8] - x[1])\n",
      "\n",
      "M[2, 7]= (M[3,6]-M[2, 6])/(x[9] - x[2])\n",
      "\n",
      "M[3, 7]= (M[4,6]-M[3, 6])/(x[10] - x[3])\n",
      "\n",
      "M[4, 7]= (M[5,6]-M[4, 6])/(x[11] - x[4])\n",
      "\n",
      "M[0, 8]= (M[1,7]-M[0, 7])/(x[8] - x[0])\n",
      "\n",
      "M[1, 8]= (M[2,7]-M[1, 7])/(x[9] - x[1])\n",
      "\n",
      "M[2, 8]= (M[3,7]-M[2, 7])/(x[10] - x[2])\n",
      "\n",
      "M[3, 8]= (M[4,7]-M[3, 7])/(x[11] - x[3])\n",
      "\n",
      "M[0, 9]= (M[1,8]-M[0, 8])/(x[9] - x[0])\n",
      "\n",
      "M[1, 9]= (M[2,8]-M[1, 8])/(x[10] - x[1])\n",
      "\n",
      "M[2, 9]= (M[3,8]-M[2, 8])/(x[11] - x[2])\n",
      "\n",
      "M[0, 10]= (M[1,9]-M[0, 9])/(x[10] - x[0])\n",
      "\n",
      "M[1, 10]= (M[2,9]-M[1, 9])/(x[11] - x[1])\n",
      "\n",
      "M[0, 11]= (M[1,10]-M[0, 10])/(x[11] - x[0])\n",
      "\n"
     ]
    },
    {
     "ename": "NameError",
     "evalue": "name 'dd' is not defined",
     "output_type": "error",
     "traceback": [
      "\u001b[0;31m---------------------------------------------------------------------------\u001b[0m",
      "\u001b[0;31mNameError\u001b[0m                                 Traceback (most recent call last)",
      "\u001b[0;32m<ipython-input-8-aa9172db7c8e>\u001b[0m in \u001b[0;36m<module>\u001b[0;34m\u001b[0m\n\u001b[0;32m----> 1\u001b[0;31m \u001b[0myn\u001b[0m \u001b[0;34m=\u001b[0m \u001b[0mit\u001b[0m\u001b[0;34m.\u001b[0m\u001b[0minterp_newton\u001b[0m\u001b[0;34m(\u001b[0m\u001b[0mxi\u001b[0m\u001b[0;34m,\u001b[0m \u001b[0mxd\u001b[0m\u001b[0;34m,\u001b[0m \u001b[0myd\u001b[0m\u001b[0;34m)\u001b[0m\u001b[0;34m\u001b[0m\u001b[0;34m\u001b[0m\u001b[0m\n\u001b[0m",
      "\u001b[0;32m/store2/marce/TeachJob/ComputacionProf/computacion_Famaf/codes/clase_14/interp_tools.py\u001b[0m in \u001b[0;36minterp_newton\u001b[0;34m(x, xd, yd)\u001b[0m\n\u001b[1;32m     78\u001b[0m \u001b[0;32mdef\u001b[0m \u001b[0minterp_newton\u001b[0m\u001b[0;34m(\u001b[0m\u001b[0mx\u001b[0m\u001b[0;34m,\u001b[0m \u001b[0mxd\u001b[0m\u001b[0;34m,\u001b[0m \u001b[0myd\u001b[0m\u001b[0;34m)\u001b[0m\u001b[0;34m:\u001b[0m\u001b[0;34m\u001b[0m\u001b[0;34m\u001b[0m\u001b[0m\n\u001b[1;32m     79\u001b[0m     \u001b[0mdd\u001b[0m \u001b[0;34m=\u001b[0m \u001b[0mNDD\u001b[0m\u001b[0;34m(\u001b[0m\u001b[0mxd\u001b[0m\u001b[0;34m,\u001b[0m \u001b[0myd\u001b[0m\u001b[0;34m)\u001b[0m\u001b[0;34m\u001b[0m\u001b[0;34m\u001b[0m\u001b[0m\n\u001b[0;32m---> 80\u001b[0;31m     \u001b[0my\u001b[0m \u001b[0;34m=\u001b[0m \u001b[0mNDD_eval\u001b[0m\u001b[0;34m(\u001b[0m\u001b[0mx\u001b[0m\u001b[0;34m,\u001b[0m \u001b[0mdd\u001b[0m\u001b[0;34m,\u001b[0m \u001b[0mxd\u001b[0m\u001b[0;34m)\u001b[0m\u001b[0;34m\u001b[0m\u001b[0;34m\u001b[0m\u001b[0m\n\u001b[0m\u001b[1;32m     81\u001b[0m     \u001b[0;32mreturn\u001b[0m \u001b[0my\u001b[0m\u001b[0;34m\u001b[0m\u001b[0;34m\u001b[0m\u001b[0m\n\u001b[1;32m     82\u001b[0m \u001b[0;34m\u001b[0m\u001b[0m\n",
      "\u001b[0;32m/store2/marce/TeachJob/ComputacionProf/computacion_Famaf/codes/clase_14/interp_tools.py\u001b[0m in \u001b[0;36mNDD_eval\u001b[0;34m(x_sample, a, x)\u001b[0m\n\u001b[1;32m     61\u001b[0m         \u001b[0mValores\u001b[0m \u001b[0;32mdel\u001b[0m \u001b[0mpolinomio\u001b[0m \u001b[0men\u001b[0m \u001b[0mx\u001b[0m\u001b[0;34m\u001b[0m\u001b[0;34m\u001b[0m\u001b[0m\n\u001b[1;32m     62\u001b[0m     \"\"\"\n\u001b[0;32m---> 63\u001b[0;31m     \u001b[0mN\u001b[0m \u001b[0;34m=\u001b[0m \u001b[0mlen\u001b[0m\u001b[0;34m(\u001b[0m\u001b[0mdd\u001b[0m\u001b[0;34m)\u001b[0m\u001b[0;34m\u001b[0m\u001b[0;34m\u001b[0m\u001b[0m\n\u001b[0m\u001b[1;32m     64\u001b[0m     \u001b[0mprint\u001b[0m\u001b[0;34m(\u001b[0m\u001b[0;34mf\"P = a[{N-1}]\"\u001b[0m\u001b[0;34m)\u001b[0m\u001b[0;34m\u001b[0m\u001b[0;34m\u001b[0m\u001b[0m\n\u001b[1;32m     65\u001b[0m     \u001b[0;32mfor\u001b[0m \u001b[0mi\u001b[0m \u001b[0;32min\u001b[0m \u001b[0mrange\u001b[0m\u001b[0;34m(\u001b[0m\u001b[0mN\u001b[0m\u001b[0;34m-\u001b[0m\u001b[0;36m2\u001b[0m\u001b[0;34m,\u001b[0m \u001b[0;34m-\u001b[0m\u001b[0;36m1\u001b[0m\u001b[0;34m,\u001b[0m \u001b[0;34m-\u001b[0m\u001b[0;36m1\u001b[0m\u001b[0;34m)\u001b[0m\u001b[0;34m:\u001b[0m\u001b[0;34m\u001b[0m\u001b[0;34m\u001b[0m\u001b[0m\n",
      "\u001b[0;31mNameError\u001b[0m: name 'dd' is not defined"
     ]
    }
   ],
   "source": [
    "yn = it.interp_newton(xi, xd, yd)"
   ]
  },
  {
   "cell_type": "code",
   "execution_count": null,
   "id": "varied-shell",
   "metadata": {},
   "outputs": [],
   "source": []
  }
 ],
 "metadata": {
  "kernelspec": {
   "display_name": "Python 3",
   "language": "python",
   "name": "python3"
  },
  "language_info": {
   "codemirror_mode": {
    "name": "ipython",
    "version": 3
   },
   "file_extension": ".py",
   "mimetype": "text/x-python",
   "name": "python",
   "nbconvert_exporter": "python",
   "pygments_lexer": "ipython3",
   "version": "3.9.0"
  }
 },
 "nbformat": 4,
 "nbformat_minor": 5
}
