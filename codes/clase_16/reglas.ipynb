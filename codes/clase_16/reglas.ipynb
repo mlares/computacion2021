{
 "cells": [
  {
   "cell_type": "markdown",
   "id": "varied-concentrate",
   "metadata": {},
   "source": [
    "# Implementemos las reglas de cuadratura"
   ]
  },
  {
   "cell_type": "code",
   "execution_count": 59,
   "id": "employed-hobby",
   "metadata": {},
   "outputs": [],
   "source": [
    "def cuad_pmedio(a, b, f):\n",
    "    \"\"\"Implementación de la regla del punto medio\n",
    "    \n",
    "    Parameters\n",
    "    ----------\n",
    "    f: La función a integrar\n",
    "    a: Límite inferior del intervalo\n",
    "    b: Límite superior del intervalo\n",
    "    \n",
    "    Returns\n",
    "    -------\n",
    "    aprox: Aproximación de la integral por la regla del punto medio\n",
    "    \n",
    "    Notes\n",
    "    -----\n",
    "    Este código es parte del curso \"Computación\", Famaf\n",
    "    \"\"\"\n",
    "    if a > b:\n",
    "        raise ValueError(\"Oops!  Debe ser a<b\")\n",
    "        return None\n",
    "    try:\n",
    "        x0 = (a+b)/2\n",
    "        h = f(x0)\n",
    "        aprox = h*(b-a)\n",
    "    except:\n",
    "        print('Error: no fue posible calcular la función')\n",
    "    return aprox"
   ]
  },
  {
   "cell_type": "code",
   "execution_count": 60,
   "id": "adapted-radius",
   "metadata": {},
   "outputs": [],
   "source": [
    "def cuad_trapecio(a, b, f):\n",
    "    \"\"\"Implementación de la regla del trapecio\n",
    "    \n",
    "    Parameters\n",
    "    ----------\n",
    "    f: La función a integrar\n",
    "    a: Límite inferior del intervalo\n",
    "    b: Límite superior del intervalo\n",
    "    \n",
    "    Returns\n",
    "    -------\n",
    "    aprox: Aproximación de la integral por la regla del trapecio\n",
    "    \n",
    "    Notes\n",
    "    -----\n",
    "    Este código es parte del curso \"Computación\", Famaf\n",
    "    \"\"\"\n",
    "    if a > b:\n",
    "        raise ValueError(\"Oops!  Debe ser a<b\")\n",
    "        return None\n",
    "    try:\n",
    "        h = f(a) + f(b)\n",
    "        aprox = (b-a)/2*h\n",
    "    except:\n",
    "        print('Error: no fue posible calcular la función')\n",
    "    return aprox"
   ]
  },
  {
   "cell_type": "code",
   "execution_count": 61,
   "id": "postal-faculty",
   "metadata": {},
   "outputs": [],
   "source": [
    "def cuad_simpson(a, b, f):\n",
    "    \"\"\"Implementación de la regla de Simpson\n",
    "    \n",
    "    Parameters\n",
    "    ----------\n",
    "    f: La función a integrar\n",
    "    a: Límite inferior del intervalo\n",
    "    b: Límite superior del intervalo\n",
    "    \n",
    "    Returns\n",
    "    -------\n",
    "    aprox: Aproximación de la integral por la regla de Simpson\n",
    "    \n",
    "    Notes\n",
    "    -----\n",
    "    Este código es parte del curso \"Computación\", Famaf\n",
    "    \"\"\"\n",
    "    if a > b:\n",
    "        raise ValueError(\"Oops!  Debe ser a<b\")\n",
    "        return None\n",
    "    try:\n",
    "        x0 = (a+b)/2\n",
    "        h = f(a) + f(b) + 4*f(x0)\n",
    "        aprox = (b-a)/6*h\n",
    "    except:\n",
    "        print('Error: no fue posible calcular la función')\n",
    "    return aprox"
   ]
  },
  {
   "cell_type": "markdown",
   "id": "focal-candy",
   "metadata": {},
   "source": [
    "_____\n",
    "TESTING"
   ]
  },
  {
   "cell_type": "code",
   "execution_count": 62,
   "id": "unusual-footwear",
   "metadata": {},
   "outputs": [
    {
     "name": "stdout",
     "output_type": "stream",
     "text": [
      "La regla del punto medio da como resultado: 2.25\n",
      "La regla del trapecio da como resultado: 2.5\n",
      "La regla de simpson da como resultado: 2.333333333333333\n"
     ]
    }
   ],
   "source": [
    "def f(x):\n",
    "    return x**2\n",
    "\n",
    "I = cuad_pmedio(1, 2, f)\n",
    "print(f'La regla del punto medio da como resultado: {I}')\n",
    "\n",
    "I = cuad_trapecio(1, 2, f)\n",
    "print(f'La regla del trapecio da como resultado: {I}')\n",
    "\n",
    "I = cuad_simpson(1, 2, f)\n",
    "print(f'La regla de simpson da como resultado: {I}')"
   ]
  },
  {
   "cell_type": "code",
   "execution_count": null,
   "id": "incident-terrorist",
   "metadata": {},
   "outputs": [],
   "source": []
  },
  {
   "cell_type": "markdown",
   "id": "middle-miracle",
   "metadata": {},
   "source": [
    "Ahora vamos a preparar las funciones para que acepten la función o los valores"
   ]
  },
  {
   "cell_type": "code",
   "execution_count": 68,
   "id": "laughing-muslim",
   "metadata": {},
   "outputs": [],
   "source": [
    "def cuad_pmedio(a, b, y0):\n",
    "    \"\"\"Implementación de la regla del punto medio\n",
    "    \n",
    "    Parameters\n",
    "    ----------\n",
    "    f: La función a integrar\n",
    "    a: Límite inferior del intervalo\n",
    "    b: Límite superior del intervalo\n",
    "    \n",
    "    Returns\n",
    "    -------\n",
    "    aprox: Aproximación de la integral por la regla del punto medio\n",
    "    \n",
    "    Notes\n",
    "    -----\n",
    "    Este código es parte del curso \"Computación\", Famaf\n",
    "    \"\"\"\n",
    "    try:\n",
    "        x0 = (a+b)/2\n",
    "        aprox = x0*y0\n",
    "    except:\n",
    "        print('Error: no fue posible calcular la función')\n",
    "    return aprox"
   ]
  },
  {
   "cell_type": "code",
   "execution_count": 70,
   "id": "enabling-venture",
   "metadata": {},
   "outputs": [
    {
     "data": {
      "text/plain": [
       "0.25"
      ]
     },
     "execution_count": 70,
     "metadata": {},
     "output_type": "execute_result"
    }
   ],
   "source": [
    "cuad_pmedio(0, 1, 0.5)"
   ]
  },
  {
   "cell_type": "markdown",
   "id": "southwest-sharing",
   "metadata": {},
   "source": [
    "¿Qué pasa si tenemos la posibilidad de tener la función o los datos?"
   ]
  },
  {
   "cell_type": "code",
   "execution_count": 95,
   "id": "pregnant-owner",
   "metadata": {},
   "outputs": [],
   "source": [
    "def cuad_pmedio(a, b, f=None, y0=None):\n",
    "    \"\"\"Implementación de la regla del punto medio\n",
    "    \n",
    "    Parameters\n",
    "    ----------\n",
    "    a: float\n",
    "       Límite inferior del intervalo\n",
    "    b: float\n",
    "       Límite superior del intervalo\n",
    "    f: function (1 parameter)\n",
    "       La función a integrar\n",
    "    y0: float\n",
    "       El valor de y en el punto medio.\n",
    "    \n",
    "    Returns\n",
    "    -------\n",
    "    aprox: Aproximación de la integral por la regla del punto medio\n",
    "    \n",
    "    Notes\n",
    "    -----\n",
    "    Este código es parte del curso \"Computación\", Famaf\n",
    "    \"\"\"\n",
    "    if a > b:\n",
    "        raise ValueError(\"Oops!  Debe ser a<b\")\n",
    "\n",
    "    x0 = (a+b)/2\n",
    "    if (f is None) and (y0 is not None):\n",
    "            aprox = x0*y0\n",
    "    elif (f is not None) and (y0 is None):            \n",
    "        try:\n",
    "            h = f(x0)\n",
    "        except:\n",
    "            print(('Error: no fue posible calcular la función'\n",
    "                   ' Si desea ingresar un dato use y0='))\n",
    "        aprox = h*(b-a)\n",
    "\n",
    "    else:\n",
    "        raise ValueError(\"Debe ingresar la función o los datos!\")            \n",
    "            \n",
    "    return aprox"
   ]
  },
  {
   "cell_type": "code",
   "execution_count": 97,
   "id": "seeing-generator",
   "metadata": {},
   "outputs": [
    {
     "data": {
      "text/plain": [
       "0.25"
      ]
     },
     "execution_count": 97,
     "metadata": {},
     "output_type": "execute_result"
    }
   ],
   "source": [
    "cuad_pmedio(0, 1, y0=0.5)"
   ]
  },
  {
   "cell_type": "code",
   "execution_count": 103,
   "id": "covered-power",
   "metadata": {},
   "outputs": [],
   "source": [
    "def cuad_trapecio(x0, x1, f=None, y0=None, y1=None):\n",
    "    \"\"\"Implementación de la regla del trapecio\n",
    "    \n",
    "    Parameters\n",
    "    ----------\n",
    "    x0: float\n",
    "       Límite inferior del intervalo\n",
    "    x1: float\n",
    "       Límite superior del intervalo\n",
    "    f: function (1 parameter)\n",
    "       La función a integrar\n",
    "    y0: float\n",
    "       El valor de y en el punto medio.\n",
    "    y1: float\n",
    "       El valor de y en el punto medio.\n",
    "\n",
    "    \n",
    "    Returns\n",
    "    -------\n",
    "    aprox: Aproximación de la integral por la regla del punto medio\n",
    "    \n",
    "    Notes\n",
    "    -----\n",
    "    Este código es parte del curso \"Computación\", Famaf\n",
    "    Uso:  \n",
    "        cuad_trapecio(x0, x1, f=f)\n",
    "        cuad_trapecio(x0, x1, y0=f(x0), y1=f(x1))\n",
    "    \"\"\"\n",
    "    if x0 > x1:\n",
    "        raise ValueError(\"Oops!  Debe ser a<b\")\n",
    "\n",
    "    if (f is None) and (y0 is not None) and (y1 is not None):\n",
    "            aprox = (x1-x0)*(y0+y1)/2\n",
    "    elif (f is not None) and (y0 is None):            \n",
    "        try:\n",
    "            y0 = f(x0)\n",
    "            y1 = f(x1)\n",
    "        except:\n",
    "            print(('Error: no fue posible calcular la función'\n",
    "                   ' Si desea ingresar un dato use y0='))\n",
    "        aprox = (x1-x0)*(y0+y1)/2\n",
    "\n",
    "    else:\n",
    "        raise ValueError(\"Debe ingresar la función o los datos!\")            \n",
    "            \n",
    "    return aprox"
   ]
  },
  {
   "cell_type": "code",
   "execution_count": 104,
   "id": "modern-confidentiality",
   "metadata": {},
   "outputs": [
    {
     "data": {
      "text/plain": [
       "0.5"
      ]
     },
     "execution_count": 104,
     "metadata": {},
     "output_type": "execute_result"
    }
   ],
   "source": [
    "cuad_trapecio(0, 1, f)"
   ]
  },
  {
   "cell_type": "code",
   "execution_count": 105,
   "id": "finished-mortgage",
   "metadata": {},
   "outputs": [
    {
     "data": {
      "text/plain": [
       "0.5"
      ]
     },
     "execution_count": 105,
     "metadata": {},
     "output_type": "execute_result"
    }
   ],
   "source": [
    "cuad_trapecio(0, 1, y0=f(0), y1=f(1))"
   ]
  },
  {
   "cell_type": "markdown",
   "id": "pleased-retailer",
   "metadata": {},
   "source": [
    "#### Ahora veamos si podemos hacer que la funcion \"se de cuenta\" de si le pasamos la funcion o los datos"
   ]
  },
  {
   "cell_type": "code",
   "execution_count": 123,
   "id": "enhanced-saturn",
   "metadata": {},
   "outputs": [],
   "source": [
    "def contar_argumentos(func):\n",
    "    def inner(*args, **kwargs):\n",
    "        nargs_in = len(args) + len(kwargs)\n",
    "        return func(*args, **kwargs, nargs_in=nargs_in)\n",
    "    return inner"
   ]
  },
  {
   "cell_type": "code",
   "execution_count": 122,
   "id": "freelance-composer",
   "metadata": {},
   "outputs": [
    {
     "name": "stdout",
     "output_type": "stream",
     "text": [
      "5\n",
      "{'x0': 0, 'x1': 1, 'f': <function f at 0x7f22ee697a60>, 'y0': None, 'y1': None, 'N': 5}\n",
      "El argumento x0 es 0\n",
      "El argumento x1 es 1\n",
      "El argumento f es <function f at 0x7f22ee697a60>\n",
      "El argumento y0 es None\n",
      "El argumento y1 es None\n",
      "n::::::: <function contar_argumentos.<locals>.inner at 0x7f22ee625d30>\n"
     ]
    }
   ],
   "source": []
  },
  {
   "cell_type": "code",
   "execution_count": 143,
   "id": "overall-table",
   "metadata": {},
   "outputs": [],
   "source": [
    "@contar_argumentos\n",
    "def cuad_trapecio(x0, x1, f=None, y0=None, y1=None, nargs_in=None):\n",
    "    \"\"\"Implementación de la regla del trapecio\n",
    "    \n",
    "    Parameters\n",
    "    ----------\n",
    "    x0: float\n",
    "       Límite inferior del intervalo\n",
    "    x1: float\n",
    "       Límite superior del intervalo\n",
    "    f: function (1 parameter)\n",
    "       La función a integrar\n",
    "    y0: float\n",
    "       El valor de y en el punto medio.\n",
    "    y1: float\n",
    "       El valor de y en el punto medio.\n",
    "\n",
    "    \n",
    "    Returns\n",
    "    -------\n",
    "    aprox: Aproximación de la integral por la regla del punto medio\n",
    "    \n",
    "    Notes\n",
    "    -----\n",
    "    Este código es parte del curso \"Computación\", Famaf\n",
    "    Uso:  \n",
    "        cuad_trapecio(x0, x1, f=f)\n",
    "        cuad_trapecio(x0, x1, y0=f(x0), y1=f(x1))\n",
    "    \"\"\"\n",
    "    if nargs_in==4:\n",
    "        y1=y0        \n",
    "        y0=f\n",
    "        f = None\n",
    "    elif nargs_in==3:\n",
    "        if type(f) is float:        \n",
    "            raise ValueError(\"Verificar los argumentos\")\n",
    "    else:\n",
    "        raise ValueError(\"Verificar el número de argumentos\")\n",
    "            \n",
    "    if x0 > x1:\n",
    "        raise ValueError(\"Oops!  Debe ser a<b\")\n",
    "\n",
    "    if (f is None) and (y0 is not None) and (y1 is not None):\n",
    "            aprox = (x1-x0)*(y0+y1)/2\n",
    "    elif (f is not None) and (y0 is None):            \n",
    "        try:\n",
    "            y0 = f(x0)\n",
    "            y1 = f(x1)\n",
    "        except:\n",
    "            print(('Error: no fue posible calcular la función'\n",
    "                   ' Si desea ingresar un dato use y0='))\n",
    "        aprox = (x1-x0)*(y0+y1)/2\n",
    "\n",
    "    else:\n",
    "        raise ValueError(\"Debe ingresar la función o los datos!\")            \n",
    "            \n",
    "    return aprox"
   ]
  },
  {
   "cell_type": "code",
   "execution_count": 145,
   "id": "numeric-trading",
   "metadata": {},
   "outputs": [
    {
     "data": {
      "text/plain": [
       "0.5"
      ]
     },
     "execution_count": 145,
     "metadata": {},
     "output_type": "execute_result"
    }
   ],
   "source": [
    "cuad_trapecio(0, 1, f)"
   ]
  },
  {
   "cell_type": "code",
   "execution_count": 146,
   "id": "corrected-universe",
   "metadata": {},
   "outputs": [
    {
     "data": {
      "text/plain": [
       "0.5"
      ]
     },
     "execution_count": 146,
     "metadata": {},
     "output_type": "execute_result"
    }
   ],
   "source": [
    "cuad_trapecio(0, 1, f(0), f(1))"
   ]
  },
  {
   "cell_type": "code",
   "execution_count": 150,
   "id": "dying-montana",
   "metadata": {},
   "outputs": [],
   "source": [
    "@contar_argumentos\n",
    "def cuad_simpson(x0, x2, f=None, y0=None, y1=None, y2=None, nargs_in=None):\n",
    "    \"\"\"Implementación de la regla de simpson\n",
    "    \n",
    "    Parameters\n",
    "    ----------\n",
    "    x0: float\n",
    "       Límite inferior del intervalo\n",
    "    x2: float\n",
    "       Límite superior del intervalo\n",
    "    f: function (1 parameter)\n",
    "       La función a integrar\n",
    "    y0: float\n",
    "       El valor de y en el punto medio.\n",
    "    y2: float\n",
    "       El valor de y en el punto medio.\n",
    "    \n",
    "    Returns\n",
    "    -------\n",
    "    aprox: Aproximación de la integral por la regla de Simpson\n",
    "    \n",
    "    Notes\n",
    "    -----\n",
    "    Este código es parte del curso \"Computación\", Famaf\n",
    "    Uso:  \n",
    "        cuad_simpson(x0, x2, f=f)\n",
    "        cuad_simpson(x0, x2, y0=f(x0), y2=f(x2))\n",
    "        cuad_simpson(x0, x2, f)\n",
    "        cuad_simpson(x0, x2, y0, y2)\n",
    "    \"\"\"\n",
    "    \n",
    "    if nargs_in==5:\n",
    "        y2=y1\n",
    "        y1=y0\n",
    "        y0=f\n",
    "        f = None\n",
    "    elif nargs_in==3:\n",
    "        if type(f) is float:        \n",
    "            raise ValueError(\"Verificar los argumentos\")\n",
    "    else:\n",
    "        raise ValueError(\"Verificar el número de argumentos\")\n",
    "            \n",
    "    if x0 > x2:\n",
    "        raise ValueError(\"Oops!  Debe ser a<b\")\n",
    "        \n",
    "    x1 = (x0+x2)/2\n",
    "\n",
    "    if (f is None) and (y0 is not None) and (y1 is not None):\n",
    "            aprox = (x2-x0)/6 * (y0 + 4*y1 + y2)\n",
    "    elif (f is not None) and (y0 is None):            \n",
    "        try:\n",
    "            y0 = f(x0)\n",
    "            y1 = f(x1)\n",
    "            y2 = f(x2)\n",
    "        except:\n",
    "            print(('Error: no fue posible calcular la función'\n",
    "                   ' Si desea ingresar un dato use y0='))\n",
    "        aprox = (x2-x0)/6 * (y0 + 4*y1 + y2)\n",
    "\n",
    "    else:\n",
    "        raise ValueError(\"Debe ingresar la función o los datos!\")            \n",
    "            \n",
    "    return aprox"
   ]
  },
  {
   "cell_type": "code",
   "execution_count": 151,
   "id": "virtual-capture",
   "metadata": {},
   "outputs": [
    {
     "data": {
      "text/plain": [
       "0.3333333333333333"
      ]
     },
     "execution_count": 151,
     "metadata": {},
     "output_type": "execute_result"
    }
   ],
   "source": [
    "cuad_simpson(0, 1, f)"
   ]
  },
  {
   "cell_type": "code",
   "execution_count": 153,
   "id": "opened-acquisition",
   "metadata": {},
   "outputs": [
    {
     "data": {
      "text/plain": [
       "0.3333333333333333"
      ]
     },
     "execution_count": 153,
     "metadata": {},
     "output_type": "execute_result"
    }
   ],
   "source": [
    "cuad_simpson(0, 1, f(0), f(0.5), f(1))"
   ]
  },
  {
   "cell_type": "code",
   "execution_count": null,
   "id": "lovely-poetry",
   "metadata": {},
   "outputs": [],
   "source": []
  },
  {
   "cell_type": "markdown",
   "id": "raising-reward",
   "metadata": {},
   "source": [
    "______\n",
    "# Reglas compuestas"
   ]
  },
  {
   "cell_type": "code",
   "execution_count": 156,
   "id": "trained-battlefield",
   "metadata": {},
   "outputs": [],
   "source": [
    "import numpy as np\n",
    "x = np.linspace(0, 10, 11)"
   ]
  },
  {
   "cell_type": "code",
   "execution_count": 158,
   "id": "global-peninsula",
   "metadata": {},
   "outputs": [
    {
     "data": {
      "text/plain": [
       "array([ 0.,  1.,  2.,  3.,  4.,  5.,  6.,  7.,  8.,  9., 10.])"
      ]
     },
     "execution_count": 158,
     "metadata": {},
     "output_type": "execute_result"
    }
   ],
   "source": [
    "x"
   ]
  },
  {
   "cell_type": "code",
   "execution_count": 160,
   "id": "caroline-emperor",
   "metadata": {},
   "outputs": [
    {
     "data": {
      "text/plain": [
       "array([1., 1., 1., 1., 1., 1., 1., 1., 1., 1.])"
      ]
     },
     "execution_count": 160,
     "metadata": {},
     "output_type": "execute_result"
    }
   ],
   "source": [
    "np.diff(x)"
   ]
  },
  {
   "cell_type": "code",
   "execution_count": 463,
   "id": "exposed-order",
   "metadata": {},
   "outputs": [],
   "source": [
    "def cuad_simpson_compuesta(x, f=None, y=None):\n",
    "    \"\"\"Implementación de la regla de simpson\n",
    "    \n",
    "    Parameters\n",
    "    ----------\n",
    "    x: list or array\n",
    "       Lista de valores de x\n",
    "    f: function (1 parameter)\n",
    "       La función a integrar\n",
    "    y: list or array\n",
    "       La lista de valores de y\n",
    "    \n",
    "    Returns\n",
    "    -------\n",
    "    aprox: Aproximación de la integral por la regla de Simpson\n",
    "    \n",
    "    Notes\n",
    "    -----\n",
    "    Este código es parte del curso \"Computación\", Famaf\n",
    "    Uso:  \n",
    "        cuad_simpson(x, y=y)\n",
    "        cuad_simpson(x, f=f)\n",
    "    \"\"\"\n",
    "    import numpy as np\n",
    "\n",
    "    # Primero verificar si la particion es regular    \n",
    "    x = np.array(x)\n",
    "    x.sort()    \n",
    "    H = (max(x) - min(x))/len(x-1)\n",
    "    equiesp = np.std(np.diff(x)) < H*1.e-6\n",
    "    \n",
    "    # Calcular los valores de y (si se pasó una función)\n",
    "    if (y is None) and (f is not None):\n",
    "        y = f(x)\n",
    "        \n",
    "    n = len(x)\n",
    "    \n",
    "    if equiesp:        \n",
    "        impares = y[1:-1:2].sum()\n",
    "        pares = y[2:-1:2].sum()        \n",
    "        H = y[0] + 2*pares + 4*impares + y[-1] \n",
    "        H = H / (3*n)\n",
    "        aprox = (x[-1]-x[0])*H\n",
    "    else:\n",
    "        aprox = 0\n",
    "        for i in range(0, len(x)-2, 2):\n",
    "            aprox += cuad_simpson(x[i], x[i+2], y[i], y[i+1], y[i+2])\n",
    "            \n",
    "    return aprox"
   ]
  },
  {
   "cell_type": "code",
   "execution_count": 464,
   "id": "overall-affair",
   "metadata": {},
   "outputs": [],
   "source": [
    "def f(x):\n",
    "    return x**2"
   ]
  },
  {
   "cell_type": "code",
   "execution_count": 465,
   "id": "plastic-clearing",
   "metadata": {},
   "outputs": [],
   "source": [
    "x = np.linspace(0, 1, 999)\n",
    "xr = np.random.uniform(0, 1, 1000)\n",
    "y = f(x)\n",
    "yr = f(xr)"
   ]
  },
  {
   "cell_type": "code",
   "execution_count": 466,
   "id": "outer-criticism",
   "metadata": {},
   "outputs": [
    {
     "data": {
      "text/plain": [
       "0.3329996663329996"
      ]
     },
     "execution_count": 466,
     "metadata": {},
     "output_type": "execute_result"
    }
   ],
   "source": [
    "cuad_simpson_compuesta(x, y=y)"
   ]
  },
  {
   "cell_type": "code",
   "execution_count": 467,
   "id": "listed-edwards",
   "metadata": {},
   "outputs": [
    {
     "data": {
      "text/plain": [
       "0.34178714534148646"
      ]
     },
     "execution_count": 467,
     "metadata": {},
     "output_type": "execute_result"
    }
   ],
   "source": [
    "cuad_simpson_compuesta(xr, y=yr)"
   ]
  },
  {
   "cell_type": "code",
   "execution_count": 468,
   "id": "talented-france",
   "metadata": {},
   "outputs": [
    {
     "data": {
      "text/plain": [
       "0.3329996663329996"
      ]
     },
     "execution_count": 468,
     "metadata": {},
     "output_type": "execute_result"
    }
   ],
   "source": [
    "cuad_simpson_compuesta(x, f=f)"
   ]
  },
  {
   "cell_type": "code",
   "execution_count": 469,
   "id": "sonic-lucas",
   "metadata": {},
   "outputs": [],
   "source": [
    "from scipy import integrate"
   ]
  },
  {
   "cell_type": "code",
   "execution_count": 495,
   "id": "developing-adams",
   "metadata": {},
   "outputs": [
    {
     "data": {
      "text/plain": [
       "(0.33333333333333337, 3.700743415417189e-15)"
      ]
     },
     "execution_count": 495,
     "metadata": {},
     "output_type": "execute_result"
    }
   ],
   "source": [
    "integrate.quad(f, 0, 1)"
   ]
  },
  {
   "cell_type": "markdown",
   "id": "searching-anchor",
   "metadata": {},
   "source": [
    "##### Otra opción sería dar el intervalo y la función, e ir achicando la norma de la partición hasta que el error sea menor que algún valor dado."
   ]
  },
  {
   "cell_type": "code",
   "execution_count": 492,
   "id": "corrected-milan",
   "metadata": {},
   "outputs": [],
   "source": [
    "def cuad_simpson_compuesta_II(f, I, eps):\n",
    "    \"\"\"Implementación de la regla de Simpson\n",
    "    \n",
    "    Parameters\n",
    "    ----------\n",
    "    I: list\n",
    "       Intervalo de integración, ingresado como lista de dos elementos\n",
    "    f: function (1 parameter)\n",
    "       La función a integrar\n",
    "    \n",
    "    Returns\n",
    "    -------\n",
    "    aprox: Aproximación de la integral por la regla de Simpson\n",
    "    \n",
    "    Notes\n",
    "    -----\n",
    "    Este código es parte del curso \"Computación\", Famaf\n",
    "    Uso:  \n",
    "        cuad_simpson_compuesta_II(f, I)\n",
    "        cuad_simpson_compuesta_II(f, I)\n",
    "    \"\"\"\n",
    "    import numpy as np\n",
    "\n",
    "    delta = 2*eps\n",
    "    n = 2\n",
    "    aprox_old = (I[1]-I[0])*f((I[1]+I[0])/2)\n",
    "\n",
    "    while delta > eps:\n",
    "        x = np.linspace(I[0], I[1], n)\n",
    "        aprox = cuad_simpson_compuesta(x, f=f)\n",
    "        delta = abs(aprox - aprox_old)\n",
    "        aprox_old = aprox\n",
    "        n += 10\n",
    "        if n>5000:\n",
    "            break\n",
    "\n",
    "    return aprox"
   ]
  },
  {
   "cell_type": "code",
   "execution_count": 500,
   "id": "innovative-politics",
   "metadata": {},
   "outputs": [],
   "source": [
    "I = cuad_simpson_compuesta_II(f, [0, 1], 1.e-6)"
   ]
  },
  {
   "cell_type": "code",
   "execution_count": 501,
   "id": "physical-spare",
   "metadata": {},
   "outputs": [
    {
     "data": {
      "text/plain": [
       "0.33307618132090666"
      ]
     },
     "execution_count": 501,
     "metadata": {},
     "output_type": "execute_result"
    }
   ],
   "source": [
    "I"
   ]
  },
  {
   "cell_type": "code",
   "execution_count": null,
   "id": "animal-discretion",
   "metadata": {},
   "outputs": [],
   "source": []
  },
  {
   "cell_type": "code",
   "execution_count": null,
   "id": "rocky-territory",
   "metadata": {},
   "outputs": [],
   "source": []
  },
  {
   "cell_type": "code",
   "execution_count": null,
   "id": "exceptional-starter",
   "metadata": {},
   "outputs": [],
   "source": []
  },
  {
   "cell_type": "code",
   "execution_count": null,
   "id": "considerable-bulgaria",
   "metadata": {},
   "outputs": [],
   "source": []
  },
  {
   "cell_type": "markdown",
   "id": "hungry-tribe",
   "metadata": {},
   "source": [
    "_______\n",
    "# Programación simbólica"
   ]
  },
  {
   "cell_type": "code",
   "execution_count": 36,
   "id": "elegant-charger",
   "metadata": {},
   "outputs": [],
   "source": [
    "import sympy"
   ]
  },
  {
   "cell_type": "code",
   "execution_count": 37,
   "id": "great-translator",
   "metadata": {},
   "outputs": [],
   "source": [
    "x,y = sympy.symbols('x y>')"
   ]
  },
  {
   "cell_type": "code",
   "execution_count": 40,
   "id": "african-wright",
   "metadata": {},
   "outputs": [],
   "source": [
    "f = sympy.sin(x)*sympy.exp(x)"
   ]
  },
  {
   "cell_type": "code",
   "execution_count": 42,
   "id": "cultural-rebate",
   "metadata": {},
   "outputs": [
    {
     "data": {
      "text/latex": [
       "$\\displaystyle e^{x} \\sin{\\left(x \\right)} + e^{x} \\cos{\\left(x \\right)}$"
      ],
      "text/plain": [
       "exp(x)*sin(x) + exp(x)*cos(x)"
      ]
     },
     "execution_count": 42,
     "metadata": {},
     "output_type": "execute_result"
    }
   ],
   "source": [
    "sympy.diff(f, x)"
   ]
  },
  {
   "cell_type": "code",
   "execution_count": 43,
   "id": "authentic-setting",
   "metadata": {},
   "outputs": [
    {
     "data": {
      "text/latex": [
       "$\\displaystyle \\frac{e^{x} \\sin{\\left(x \\right)}}{2} - \\frac{e^{x} \\cos{\\left(x \\right)}}{2}$"
      ],
      "text/plain": [
       "exp(x)*sin(x)/2 - exp(x)*cos(x)/2"
      ]
     },
     "execution_count": 43,
     "metadata": {},
     "output_type": "execute_result"
    }
   ],
   "source": [
    "sympy.integrate(f)"
   ]
  },
  {
   "cell_type": "code",
   "execution_count": 48,
   "id": "jewish-chinese",
   "metadata": {},
   "outputs": [
    {
     "data": {
      "text/latex": [
       "$\\displaystyle 1$"
      ],
      "text/plain": [
       "1"
      ]
     },
     "execution_count": 48,
     "metadata": {},
     "output_type": "execute_result"
    }
   ],
   "source": [
    "sympy.limit(sympy.sin(x)/x, x, 0)"
   ]
  },
  {
   "cell_type": "code",
   "execution_count": 54,
   "id": "major-mouth",
   "metadata": {},
   "outputs": [
    {
     "data": {
      "text/latex": [
       "$\\displaystyle 0$"
      ],
      "text/plain": [
       "0"
      ]
     },
     "execution_count": 54,
     "metadata": {},
     "output_type": "execute_result"
    }
   ],
   "source": [
    "sympy.limit(sympy.atan(x)/(1+x**2), x, sympy.oo)"
   ]
  },
  {
   "cell_type": "code",
   "execution_count": 53,
   "id": "employed-portuguese",
   "metadata": {},
   "outputs": [
    {
     "data": {
      "text/latex": [
       "$\\displaystyle \\frac{\\sqrt{2} \\sqrt{\\pi}}{2}$"
      ],
      "text/plain": [
       "sqrt(2)*sqrt(pi)/2"
      ]
     },
     "execution_count": 53,
     "metadata": {},
     "output_type": "execute_result"
    }
   ],
   "source": [
    "sympy.integrate(sympy.sin(x**2), (x, -sympy.oo, sympy.oo))"
   ]
  },
  {
   "cell_type": "code",
   "execution_count": null,
   "id": "harmful-kitchen",
   "metadata": {},
   "outputs": [],
   "source": []
  }
 ],
 "metadata": {
  "kernelspec": {
   "display_name": "Python 3",
   "language": "python",
   "name": "python3"
  },
  "language_info": {
   "codemirror_mode": {
    "name": "ipython",
    "version": 3
   },
   "file_extension": ".py",
   "mimetype": "text/x-python",
   "name": "python",
   "nbconvert_exporter": "python",
   "pygments_lexer": "ipython3",
   "version": "3.8.5"
  }
 },
 "nbformat": 4,
 "nbformat_minor": 5
}
