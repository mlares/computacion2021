{
 "cells": [
  {
   "cell_type": "code",
   "execution_count": 13,
   "id": "opponent-curtis",
   "metadata": {},
   "outputs": [],
   "source": [
    "def f(x):\n",
    "    from numpy import cos\n",
    "    y = cos(x) - x\n",
    "    return y"
   ]
  },
  {
   "cell_type": "code",
   "execution_count": 14,
   "id": "flexible-organ",
   "metadata": {},
   "outputs": [
    {
     "data": {
      "text/plain": [
       "-3.989992496600445"
      ]
     },
     "execution_count": 14,
     "metadata": {},
     "output_type": "execute_result"
    }
   ],
   "source": [
    "f(3)"
   ]
  },
  {
   "cell_type": "code",
   "execution_count": 17,
   "id": "meaningful-korea",
   "metadata": {},
   "outputs": [],
   "source": [
    "from matplotlib import pyplot as plt\n",
    "import numpy as np\n",
    "\n",
    "x = np.linspace(-5, 5, 100)\n",
    "y = f(x)"
   ]
  },
  {
   "cell_type": "code",
   "execution_count": 21,
   "id": "square-framework",
   "metadata": {},
   "outputs": [
    {
     "data": {
      "image/png": "[encoded data removed]",
      "text/plain": [
       "<Figure size 432x288 with 1 Axes>"
      ]
     },
     "metadata": {
      "needs_background": "light"
     },
     "output_type": "display_data"
    }
   ],
   "source": [
    "plt.plot(x, y)\n",
    "plt.grid()"
   ]
  },
  {
   "cell_type": "code",
   "execution_count": 25,
   "id": "arranged-carter",
   "metadata": {},
   "outputs": [],
   "source": [
    "a = -5\n",
    "b = 5\n",
    "\n",
    "for i in range(30):\n",
    "    c = (a+b)/2\n",
    "    if f(a)*f(c) > 0:\n",
    "        a = c\n",
    "    else:\n",
    "        b = c"
   ]
  },
  {
   "cell_type": "code",
   "execution_count": 26,
   "id": "impressed-barcelona",
   "metadata": {},
   "outputs": [
    {
     "data": {
      "text/plain": [
       "0.7390851248055696"
      ]
     },
     "execution_count": 26,
     "metadata": {},
     "output_type": "execute_result"
    }
   ],
   "source": [
    "c"
   ]
  },
  {
   "cell_type": "code",
   "execution_count": 27,
   "id": "searching-therapy",
   "metadata": {},
   "outputs": [
    {
     "data": {
      "text/plain": [
       "1.4074392651330925e-08"
      ]
     },
     "execution_count": 27,
     "metadata": {},
     "output_type": "execute_result"
    }
   ],
   "source": [
    "f(c)"
   ]
  },
  {
   "cell_type": "code",
   "execution_count": 37,
   "id": "intimate-uncle",
   "metadata": {},
   "outputs": [
    {
     "name": "stdout",
     "output_type": "stream",
     "text": [
      "El valor estimado en la iteracion 1 es 0.0, y f(0.0)=1.0\n",
      "El valor estimado en la iteracion 2 es 2.5, y f(2.5)=-3.3011436155469336\n",
      "El valor estimado en la iteracion 3 es 1.25, y f(1.25)=-0.9346776376047313\n",
      "El valor estimado en la iteracion 4 es 0.625, y f(0.625)=0.18596311950521793\n",
      "El valor estimado en la iteracion 5 es 0.9375, y f(0.9375)=-0.3456949249075225\n",
      "El valor estimado en la iteracion 6 es 0.78125, y f(0.78125)=-0.07121611643392034\n",
      "El valor estimado en la iteracion 7 es 0.703125, y f(0.703125)=0.059700275710576234\n",
      "El valor estimado en la iteracion 8 es 0.7421875, y f(0.7421875)=-0.005195711743759213\n",
      "El valor estimado en la iteracion 9 es 0.72265625, y f(0.72265625)=0.02739533842285169\n",
      "El valor estimado en la iteracion 10 es 0.732421875, y f(0.732421875)=0.01113526862530434\n",
      "El valor estimado en la iteracion 11 es 0.7373046875, y f(0.7373046875)=0.0029786032877552326\n",
      "El valor estimado en la iteracion 12 es 0.73974609375, y f(0.73974609375)=-0.0011063529111269288\n",
      "El valor estimado en la iteracion 13 es 0.738525390625, y f(0.738525390625)=0.000936676130418479\n",
      "El valor estimado en la iteracion 14 es 0.7391357421875, y f(0.7391357421875)=-8.470073137478717e-05\n"
     ]
    }
   ],
   "source": [
    "a = -5\n",
    "b = 5\n",
    "\n",
    "c_anterior = a\n",
    "tolerancia_f = 1.e-4\n",
    "tolerancia_x = 1.e-4\n",
    "tolerancia_N = 10\n",
    "condicion = True\n",
    "contador = 0\n",
    "\n",
    "while condicion:    \n",
    "    c = (a+b)/2\n",
    "    if f(a)*f(c) > 0:\n",
    "        a = c\n",
    "    else:\n",
    "        b = c\n",
    "        \n",
    "    contador += 1\n",
    "    print(f'El valor estimado en la iteracion {contador} es {c}, y f({c})={f(c)}')\n",
    "    delta_f = abs(f(c))\n",
    "    delta_x = abs(c - c_anterior)\n",
    "    \n",
    "    condicion1 = delta_f > tolerancia_f \n",
    "    condicion2 = delta_x > tolerancia_x\n",
    "    condicion3 = contador < tolerancia_N\n",
    "    \n",
    "    condicion = (condicion1 and condicion2) or condicion3\n",
    "    c_anterior = c"
   ]
  },
  {
   "cell_type": "code",
   "execution_count": 31,
   "id": "wicked-gabriel",
   "metadata": {},
   "outputs": [
    {
     "data": {
      "text/plain": [
       "0.0"
      ]
     },
     "execution_count": 31,
     "metadata": {},
     "output_type": "execute_result"
    }
   ],
   "source": [
    "c"
   ]
  },
  {
   "cell_type": "code",
   "execution_count": 38,
   "id": "incorrect-marshall",
   "metadata": {},
   "outputs": [
    {
     "data": {
      "text/plain": [
       "0.7391357421875"
      ]
     },
     "execution_count": 38,
     "metadata": {},
     "output_type": "execute_result"
    }
   ],
   "source": [
    "c"
   ]
  },
  {
   "cell_type": "code",
   "execution_count": 39,
   "id": "middle-bobby",
   "metadata": {},
   "outputs": [
    {
     "data": {
      "text/plain": [
       "-8.470073137478717e-05"
      ]
     },
     "execution_count": 39,
     "metadata": {},
     "output_type": "execute_result"
    }
   ],
   "source": [
    "f(c)"
   ]
  },
  {
   "cell_type": "code",
   "execution_count": 43,
   "id": "answering-school",
   "metadata": {},
   "outputs": [],
   "source": [
    "\n",
    "def biseccion(f, a, b, tolerancia_f, tolerancia_x, tolerancia_N):\n",
    "\n",
    "    c_anterior = a\n",
    "    condicion = True\n",
    "    contador = 0\n",
    "\n",
    "    while condicion:    \n",
    "        c = (a+b)/2\n",
    "        if f(a)*f(c) > 0:\n",
    "            a = c\n",
    "        else:\n",
    "            b = c\n",
    "        \n",
    "        contador += 1\n",
    "        delta_f = abs(f(c))\n",
    "        delta_x = abs(c - c_anterior)\n",
    "    \n",
    "        condicion1 = delta_f > tolerancia_f \n",
    "        condicion2 = delta_x > tolerancia_x\n",
    "        condicion3 = contador < tolerancia_N\n",
    "    \n",
    "        condicion = (condicion1 and condicion2) or condicion3\n",
    "        c_anterior = c\n",
    "        \n",
    "    return c"
   ]
  },
  {
   "cell_type": "code",
   "execution_count": 44,
   "id": "committed-treatment",
   "metadata": {},
   "outputs": [
    {
     "data": {
      "text/plain": [
       "0.7391357421875"
      ]
     },
     "execution_count": 44,
     "metadata": {},
     "output_type": "execute_result"
    }
   ],
   "source": [
    "biseccion(f, -5, 5, 1.e-4, 1.e-4, 10)"
   ]
  },
  {
   "cell_type": "code",
   "execution_count": 47,
   "id": "likely-merchandise",
   "metadata": {},
   "outputs": [
    {
     "data": {
      "text/plain": [
       "1.1435297153639112e-14"
      ]
     },
     "execution_count": 47,
     "metadata": {},
     "output_type": "execute_result"
    }
   ],
   "source": [
    "f(biseccion(f, -5, 5, 1.e-4, 1.e-4, 50))"
   ]
  },
  {
   "cell_type": "code",
   "execution_count": 62,
   "id": "fresh-geneva",
   "metadata": {},
   "outputs": [],
   "source": [
    "def biseccion(f, a, b, tolerancia_f, tolerancia_x, tolerancia_N):\n",
    "\n",
    "    c_anterior = a\n",
    "    condicion = True\n",
    "    contador = 0\n",
    "    c_lista = [(a+b)/2]\n",
    "    a_lista = [a]\n",
    "    b_lista = [b]\n",
    "\n",
    "    while condicion:    \n",
    "        c = (a+b)/2\n",
    "        if f(a)*f(c) > 0:\n",
    "            a = c\n",
    "        else:\n",
    "            b = c\n",
    "        \n",
    "        contador += 1\n",
    "        delta_f = abs(f(c))\n",
    "        delta_x = abs(c - c_anterior)\n",
    "    \n",
    "        condicion1 = delta_f > tolerancia_f \n",
    "        condicion2 = delta_x > tolerancia_x\n",
    "        condicion3 = contador < tolerancia_N\n",
    "    \n",
    "        condicion = (condicion1 and condicion2) or condicion3\n",
    "        c_anterior = c\n",
    "        \n",
    "        c_lista.append(c)\n",
    "        a_lista.append(a)\n",
    "        b_lista.append(b)\n",
    "        \n",
    "    return c_lista, a_lista, b_lista"
   ]
  },
  {
   "cell_type": "code",
   "execution_count": 70,
   "id": "productive-columbia",
   "metadata": {},
   "outputs": [],
   "source": [
    "Ec, La, Lb = biseccion(f, -5, 5, 1.e-4, 1.e-4, 20)"
   ]
  },
  {
   "cell_type": "code",
   "execution_count": 71,
   "id": "adult-ecology",
   "metadata": {},
   "outputs": [
    {
     "data": {
      "text/plain": [
       "[0.0,\n",
       " 0.0,\n",
       " 2.5,\n",
       " 1.25,\n",
       " 0.625,\n",
       " 0.9375,\n",
       " 0.78125,\n",
       " 0.703125,\n",
       " 0.7421875,\n",
       " 0.72265625,\n",
       " 0.732421875,\n",
       " 0.7373046875,\n",
       " 0.73974609375,\n",
       " 0.738525390625,\n",
       " 0.7391357421875,\n",
       " 0.73883056640625,\n",
       " 0.738983154296875,\n",
       " 0.7390594482421875,\n",
       " 0.7390975952148438,\n",
       " 0.7390785217285156,\n",
       " 0.7390880584716797]"
      ]
     },
     "execution_count": 71,
     "metadata": {},
     "output_type": "execute_result"
    }
   ],
   "source": [
    "Ec"
   ]
  },
  {
   "cell_type": "code",
   "execution_count": 72,
   "id": "quiet-marathon",
   "metadata": {},
   "outputs": [
    {
     "data": {
      "text/plain": [
       "21"
      ]
     },
     "execution_count": 72,
     "metadata": {},
     "output_type": "execute_result"
    }
   ],
   "source": [
    "len(Ec)"
   ]
  },
  {
   "cell_type": "code",
   "execution_count": 76,
   "id": "compliant-repeat",
   "metadata": {},
   "outputs": [
    {
     "data": {
      "text/plain": [
       "[<matplotlib.lines.Line2D at 0x7f9b06f13ac0>]"
      ]
     },
     "execution_count": 76,
     "metadata": {},
     "output_type": "execute_result"
    },
    {
     "data": {
      "image/png": "[encoded data removed]",
      "text/plain": [
       "<Figure size 432x288 with 1 Axes>"
      ]
     },
     "metadata": {
      "needs_background": "light"
     },
     "output_type": "display_data"
    }
   ],
   "source": [
    "plt.plot(Ec)"
   ]
  },
  {
   "cell_type": "code",
   "execution_count": 74,
   "id": "strange-contractor",
   "metadata": {},
   "outputs": [
    {
     "data": {
      "text/plain": [
       "[<matplotlib.lines.Line2D at 0x7f9b06fcbb50>]"
      ]
     },
     "execution_count": 74,
     "metadata": {},
     "output_type": "execute_result"
    },
    {
     "data": {
      "image/png": "[encoded data removed]",
      "text/plain": [
       "<Figure size 432x288 with 1 Axes>"
      ]
     },
     "metadata": {
      "needs_background": "light"
     },
     "output_type": "display_data"
    }
   ],
   "source": [
    "i = 0\n",
    "for la, lb in zip(La, Lb):\n",
    "    i += 1\n",
    "    plt.plot([i, i], [la, lb], color='teal')\n",
    "plt.plot(Ec, color='coral')"
   ]
  },
  {
   "cell_type": "code",
   "execution_count": 75,
   "id": "related-prison",
   "metadata": {},
   "outputs": [
    {
     "data": {
      "text/plain": [
       "[<matplotlib.lines.Line2D at 0x7f9b06faadc0>]"
      ]
     },
     "execution_count": 75,
     "metadata": {},
     "output_type": "execute_result"
    },
    {
     "data": {
      "image/png": "[encoded data removed]",
      "text/plain": [
       "<Figure size 432x288 with 1 Axes>"
      ]
     },
     "metadata": {
      "needs_background": "light"
     },
     "output_type": "display_data"
    }
   ],
   "source": [
    "plt.plot(f(Ec))"
   ]
  },
  {
   "cell_type": "code",
   "execution_count": null,
   "id": "quality-professional",
   "metadata": {},
   "outputs": [],
   "source": []
  }
 ],
 "metadata": {
  "kernelspec": {
   "display_name": "Python 3",
   "language": "python",
   "name": "python3"
  },
  "language_info": {
   "codemirror_mode": {
    "name": "ipython",
    "version": 3
   },
   "file_extension": ".py",
   "mimetype": "text/x-python",
   "name": "python",
   "nbconvert_exporter": "python",
   "pygments_lexer": "ipython3",
   "version": "3.8.5"
  }
 },
 "nbformat": 4,
 "nbformat_minor": 5
}
