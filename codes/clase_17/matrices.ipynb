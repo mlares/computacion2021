{
 "cells": [
  {
   "cell_type": "code",
   "execution_count": 174,
   "id": "special-concord",
   "metadata": {},
   "outputs": [],
   "source": [
    "import numpy as np"
   ]
  },
  {
   "cell_type": "code",
   "execution_count": 175,
   "id": "offshore-marijuana",
   "metadata": {},
   "outputs": [
    {
     "name": "stdout",
     "output_type": "stream",
     "text": [
      "(4, 2)\n",
      "(2, 3)\n"
     ]
    }
   ],
   "source": [
    "A = np.array([[1402, 191], [1371, 821], [949, 1437], [147, 1448]])\n",
    "B = np.array([[1, 2, 3], [4, 5, 6]])\n",
    "\n",
    "print(A.shape)\n",
    "print(B.shape)"
   ]
  },
  {
   "cell_type": "markdown",
   "id": "numerous-details",
   "metadata": {},
   "source": [
    "La forma se devuelva como \"NUMERO DE FILAS\", \"NUMERO DE COLUMNAS\""
   ]
  },
  {
   "cell_type": "code",
   "execution_count": 177,
   "id": "written-toyota",
   "metadata": {},
   "outputs": [
    {
     "data": {
      "text/plain": [
       "array([1402,  191])"
      ]
     },
     "execution_count": 177,
     "metadata": {},
     "output_type": "execute_result"
    }
   ],
   "source": [
    "A[0]"
   ]
  },
  {
   "cell_type": "code",
   "execution_count": 180,
   "id": "corporate-tucson",
   "metadata": {},
   "outputs": [
    {
     "name": "stdout",
     "output_type": "stream",
     "text": [
      "191\n"
     ]
    }
   ],
   "source": [
    "print(A[0][1])"
   ]
  },
  {
   "cell_type": "code",
   "execution_count": 181,
   "id": "statutory-eagle",
   "metadata": {},
   "outputs": [
    {
     "name": "stdout",
     "output_type": "stream",
     "text": [
      "191\n"
     ]
    }
   ],
   "source": [
    "print(A[0,1])"
   ]
  },
  {
   "cell_type": "code",
   "execution_count": 182,
   "id": "varying-chance",
   "metadata": {},
   "outputs": [],
   "source": [
    "L = [[1402, 191], [1371, 821], [949, 1437], [147, 1448]]"
   ]
  },
  {
   "cell_type": "code",
   "execution_count": 184,
   "id": "taken-gender",
   "metadata": {},
   "outputs": [
    {
     "data": {
      "text/plain": [
       "1402"
      ]
     },
     "execution_count": 184,
     "metadata": {},
     "output_type": "execute_result"
    }
   ],
   "source": [
    "L[0][0]"
   ]
  },
  {
   "cell_type": "code",
   "execution_count": 185,
   "id": "medium-eleven",
   "metadata": {},
   "outputs": [
    {
     "ename": "TypeError",
     "evalue": "list indices must be integers or slices, not tuple",
     "output_type": "error",
     "traceback": [
      "\u001b[1;31m---------------------------------------------------------------------------\u001b[0m",
      "\u001b[1;31mTypeError\u001b[0m                                 Traceback (most recent call last)",
      "\u001b[1;32m<ipython-input-185-98436977e4ba>\u001b[0m in \u001b[0;36m<module>\u001b[1;34m\u001b[0m\n\u001b[1;32m----> 1\u001b[1;33m \u001b[0mL\u001b[0m\u001b[1;33m[\u001b[0m\u001b[1;36m0\u001b[0m\u001b[1;33m,\u001b[0m \u001b[1;36m0\u001b[0m\u001b[1;33m]\u001b[0m\u001b[1;33m\u001b[0m\u001b[1;33m\u001b[0m\u001b[0m\n\u001b[0m",
      "\u001b[1;31mTypeError\u001b[0m: list indices must be integers or slices, not tuple"
     ]
    }
   ],
   "source": [
    "L[0, 0]"
   ]
  },
  {
   "cell_type": "code",
   "execution_count": 191,
   "id": "colored-proxy",
   "metadata": {},
   "outputs": [
    {
     "name": "stdout",
     "output_type": "stream",
     "text": [
      "1402\n",
      "1371\n",
      "949\n",
      "147\n"
     ]
    }
   ],
   "source": [
    "print(A[0,0])\n",
    "print(A[1,0])\n",
    "print(A[2,0])\n",
    "print(A[3,0])"
   ]
  },
  {
   "cell_type": "code",
   "execution_count": 132,
   "id": "impressive-period",
   "metadata": {},
   "outputs": [
    {
     "name": "stdout",
     "output_type": "stream",
     "text": [
      "[[1402  191]\n",
      " [1371  821]\n",
      " [ 949 1437]\n",
      " [ 147 1448]]\n"
     ]
    }
   ],
   "source": [
    "print(A)"
   ]
  },
  {
   "cell_type": "code",
   "execution_count": 133,
   "id": "steady-engine",
   "metadata": {},
   "outputs": [
    {
     "name": "stdout",
     "output_type": "stream",
     "text": [
      "[1402 1371  949  147]\n"
     ]
    }
   ],
   "source": [
    "print(A[:,0])"
   ]
  },
  {
   "cell_type": "code",
   "execution_count": 193,
   "id": "forbidden-childhood",
   "metadata": {},
   "outputs": [
    {
     "name": "stdout",
     "output_type": "stream",
     "text": [
      "[1371  821]\n"
     ]
    }
   ],
   "source": [
    "print(A[1,:])"
   ]
  },
  {
   "cell_type": "code",
   "execution_count": 194,
   "id": "reasonable-party",
   "metadata": {},
   "outputs": [
    {
     "data": {
      "text/plain": [
       "array([1371,  821])"
      ]
     },
     "execution_count": 194,
     "metadata": {},
     "output_type": "execute_result"
    }
   ],
   "source": [
    "A[1]"
   ]
  },
  {
   "cell_type": "markdown",
   "id": "wireless-supervisor",
   "metadata": {},
   "source": [
    "De esta forma se trabaja con los índices  **\"FILA\", \"COLUMNA\"**"
   ]
  },
  {
   "cell_type": "markdown",
   "id": "civic-executive",
   "metadata": {},
   "source": [
    "### Vector \"fila\""
   ]
  },
  {
   "cell_type": "code",
   "execution_count": 135,
   "id": "modern-nirvana",
   "metadata": {},
   "outputs": [
    {
     "name": "stdout",
     "output_type": "stream",
     "text": [
      "[460 232 315 178]\n"
     ]
    }
   ],
   "source": [
    "y = np.array([460, 232, 315, 178])\n",
    "\n",
    "print(y)"
   ]
  },
  {
   "cell_type": "markdown",
   "id": "intellectual-death",
   "metadata": {},
   "source": [
    "### Vector \"columna\""
   ]
  },
  {
   "cell_type": "code",
   "execution_count": 136,
   "id": "dependent-grammar",
   "metadata": {},
   "outputs": [
    {
     "name": "stdout",
     "output_type": "stream",
     "text": [
      "[[460]\n",
      " [232]\n",
      " [315]\n",
      " [178]]\n"
     ]
    }
   ],
   "source": [
    "y = np.array([[460], [232], [315], [178]])\n",
    "\n",
    "print(y)"
   ]
  },
  {
   "cell_type": "markdown",
   "id": "wireless-climate",
   "metadata": {},
   "source": [
    "### Suma de matrices"
   ]
  },
  {
   "cell_type": "code",
   "execution_count": 138,
   "id": "reflected-platform",
   "metadata": {},
   "outputs": [
    {
     "name": "stdout",
     "output_type": "stream",
     "text": [
      "[[ 5.   0.5]\n",
      " [ 4.  10. ]\n",
      " [ 3.   2. ]]\n"
     ]
    }
   ],
   "source": [
    "A = np.array([[1, 0  ], [2, 5], [3, 1]])\n",
    "B = np.array([[4, 0.5], [2, 5], [0, 1]])\n",
    "\n",
    "print(A+B)"
   ]
  },
  {
   "cell_type": "markdown",
   "id": "eight-denmark",
   "metadata": {},
   "source": [
    "### Multiplicación por un escalar"
   ]
  },
  {
   "cell_type": "code",
   "execution_count": 139,
   "id": "varying-ultimate",
   "metadata": {},
   "outputs": [
    {
     "name": "stdout",
     "output_type": "stream",
     "text": [
      "[[ 3  0]\n",
      " [ 6 15]\n",
      " [ 9  3]]\n"
     ]
    }
   ],
   "source": [
    "print(3*A)"
   ]
  },
  {
   "cell_type": "code",
   "execution_count": 140,
   "id": "controlling-lucas",
   "metadata": {},
   "outputs": [
    {
     "name": "stdout",
     "output_type": "stream",
     "text": [
      "[[0.25 0.  ]\n",
      " [0.5  1.25]\n",
      " [0.75 0.25]]\n"
     ]
    }
   ],
   "source": [
    "print(A/4)"
   ]
  },
  {
   "cell_type": "code",
   "execution_count": 141,
   "id": "answering-portland",
   "metadata": {},
   "outputs": [
    {
     "data": {
      "text/plain": [
       "\u001b[1;31mDocstring:\u001b[0m\n",
       "a.dot(b, out=None)\n",
       "\n",
       "Dot product of two arrays.\n",
       "\n",
       "Refer to `numpy.dot` for full documentation.\n",
       "\n",
       "See Also\n",
       "--------\n",
       "numpy.dot : equivalent function\n",
       "\n",
       "Examples\n",
       "--------\n",
       ">>> a = np.eye(2)\n",
       ">>> b = np.ones((2, 2)) * 2\n",
       ">>> a.dot(b)\n",
       "array([[2.,  2.],\n",
       "       [2.,  2.]])\n",
       "\n",
       "This array method can be conveniently chained:\n",
       "\n",
       ">>> a.dot(b).dot(b)\n",
       "array([[8.,  8.],\n",
       "       [8.,  8.]])\n",
       "\u001b[1;31mType:\u001b[0m      builtin_function_or_method\n"
      ]
     },
     "metadata": {},
     "output_type": "display_data"
    }
   ],
   "source": [
    "A.dot?"
   ]
  },
  {
   "cell_type": "markdown",
   "id": "trying-scott",
   "metadata": {},
   "source": [
    "### Multiplicación de matrices"
   ]
  },
  {
   "cell_type": "code",
   "execution_count": 197,
   "id": "threaded-preference",
   "metadata": {},
   "outputs": [
    {
     "name": "stdout",
     "output_type": "stream",
     "text": [
      "16\n"
     ]
    }
   ],
   "source": [
    "A = np.array([1, 3])\n",
    "y = np.array([1, 5])\n",
    "\n",
    "print(A.dot(y))"
   ]
  },
  {
   "cell_type": "code",
   "execution_count": 198,
   "id": "blocked-forth",
   "metadata": {},
   "outputs": [
    {
     "data": {
      "text/plain": [
       "16"
      ]
     },
     "execution_count": 198,
     "metadata": {},
     "output_type": "execute_result"
    }
   ],
   "source": [
    "np.dot(A, y)"
   ]
  },
  {
   "cell_type": "code",
   "execution_count": 203,
   "id": "beginning-print",
   "metadata": {},
   "outputs": [
    {
     "name": "stdout",
     "output_type": "stream",
     "text": [
      "[16  4  7]\n"
     ]
    }
   ],
   "source": [
    "A = np.array([[1, 3], [4, 0], [2, 1]])\n",
    "y = np.array([1, 5])\n",
    "\n",
    "print(A.dot(y))"
   ]
  },
  {
   "cell_type": "code",
   "execution_count": 200,
   "id": "associate-producer",
   "metadata": {},
   "outputs": [
    {
     "data": {
      "text/plain": [
       "16"
      ]
     },
     "execution_count": 200,
     "metadata": {},
     "output_type": "execute_result"
    }
   ],
   "source": [
    "np.dot(A, y)"
   ]
  },
  {
   "cell_type": "code",
   "execution_count": 201,
   "id": "unsigned-auditor",
   "metadata": {},
   "outputs": [
    {
     "data": {
      "text/plain": [
       "16"
      ]
     },
     "execution_count": 201,
     "metadata": {},
     "output_type": "execute_result"
    }
   ],
   "source": [
    "np.matmul(A, y)"
   ]
  },
  {
   "cell_type": "code",
   "execution_count": 202,
   "id": "atmospheric-olympus",
   "metadata": {},
   "outputs": [
    {
     "data": {
      "text/plain": [
       "16"
      ]
     },
     "execution_count": 202,
     "metadata": {},
     "output_type": "execute_result"
    }
   ],
   "source": [
    "A@y"
   ]
  },
  {
   "cell_type": "code",
   "execution_count": 152,
   "id": "medical-astrology",
   "metadata": {},
   "outputs": [
    {
     "name": "stdout",
     "output_type": "stream",
     "text": [
      "[486.  314.  343.5 173. ]\n"
     ]
    }
   ],
   "source": [
    "data = np.array([[1, 2104], [1, 1416], [1, 1534], [1, 852]])\n",
    "func = np.array([-40, 0.25])\n",
    "\n",
    "print(data.dot(func))"
   ]
  },
  {
   "cell_type": "code",
   "execution_count": 153,
   "id": "sophisticated-baking",
   "metadata": {},
   "outputs": [
    {
     "name": "stdout",
     "output_type": "stream",
     "text": [
      "[[11 10]\n",
      " [ 9 14]]\n"
     ]
    }
   ],
   "source": [
    "A = np.array([[1, 3, 2], [4, 0, 1]])\n",
    "B = np.array([[1, 3], [0, 1], [5, 2]])\n",
    "\n",
    "print(A.dot(B))"
   ]
  },
  {
   "cell_type": "code",
   "execution_count": 215,
   "id": "adverse-boutique",
   "metadata": {},
   "outputs": [
    {
     "name": "stdout",
     "output_type": "stream",
     "text": [
      "[[1 1]\n",
      " [2 0]]\n",
      "[[1 1]\n",
      " [2 0]]\n"
     ]
    }
   ],
   "source": [
    "# Propiedad conmutativa de la suma\n",
    "A = np.array([[1, 1], [0, 0]])\n",
    "B = np.array([[0, 0], [2, 0]])\n",
    "print(A+B)\n",
    "print(B+A)"
   ]
  },
  {
   "cell_type": "code",
   "execution_count": 216,
   "id": "molecular-monte",
   "metadata": {},
   "outputs": [
    {
     "name": "stdout",
     "output_type": "stream",
     "text": [
      "4\n",
      "4\n"
     ]
    }
   ],
   "source": [
    "A = np.array([1, 1])\n",
    "B = np.array([1, 3])\n",
    "print(np.dot(A, B))\n",
    "print(np.dot(B, A))"
   ]
  },
  {
   "cell_type": "code",
   "execution_count": 226,
   "id": "searching-specification",
   "metadata": {},
   "outputs": [
    {
     "name": "stdout",
     "output_type": "stream",
     "text": [
      "[[2 0]\n",
      " [0 0]]\n",
      "[[0 0]\n",
      " [2 2]]\n"
     ]
    }
   ],
   "source": [
    "\n",
    "A = np.array([[1, 1], [0, 0]])\n",
    "B = np.array([[0, 0], [2, 0]])\n",
    "print(A.dot(B))\n",
    "print(B.dot(A))"
   ]
  },
  {
   "cell_type": "code",
   "execution_count": 227,
   "id": "preceding-revolution",
   "metadata": {},
   "outputs": [
    {
     "data": {
      "text/plain": [
       "array([[2, 0],\n",
       "       [0, 0]])"
      ]
     },
     "execution_count": 227,
     "metadata": {},
     "output_type": "execute_result"
    }
   ],
   "source": [
    "np.dot(A, B)"
   ]
  },
  {
   "cell_type": "code",
   "execution_count": 228,
   "id": "charitable-watts",
   "metadata": {},
   "outputs": [
    {
     "data": {
      "text/plain": [
       "array([[0, 0],\n",
       "       [2, 2]])"
      ]
     },
     "execution_count": 228,
     "metadata": {},
     "output_type": "execute_result"
    }
   ],
   "source": [
    "np.dot(B, A)"
   ]
  },
  {
   "cell_type": "code",
   "execution_count": 229,
   "id": "proprietary-miracle",
   "metadata": {},
   "outputs": [
    {
     "data": {
      "text/plain": [
       "array([[2, 0],\n",
       "       [0, 0]])"
      ]
     },
     "execution_count": 229,
     "metadata": {},
     "output_type": "execute_result"
    }
   ],
   "source": [
    "np.matmul(A, B)"
   ]
  },
  {
   "cell_type": "code",
   "execution_count": 230,
   "id": "finished-fortune",
   "metadata": {},
   "outputs": [
    {
     "data": {
      "text/plain": [
       "array([[0, 0],\n",
       "       [2, 2]])"
      ]
     },
     "execution_count": 230,
     "metadata": {},
     "output_type": "execute_result"
    }
   ],
   "source": [
    "np.matmul(B, A)"
   ]
  },
  {
   "cell_type": "code",
   "execution_count": 232,
   "id": "fatty-marine",
   "metadata": {},
   "outputs": [
    {
     "data": {
      "text/plain": [
       "array([[2, 0],\n",
       "       [0, 0]])"
      ]
     },
     "execution_count": 232,
     "metadata": {},
     "output_type": "execute_result"
    }
   ],
   "source": [
    "A@B"
   ]
  },
  {
   "cell_type": "code",
   "execution_count": 233,
   "id": "conditional-airplane",
   "metadata": {},
   "outputs": [
    {
     "data": {
      "text/plain": [
       "array([[0, 0],\n",
       "       [2, 2]])"
      ]
     },
     "execution_count": 233,
     "metadata": {},
     "output_type": "execute_result"
    }
   ],
   "source": [
    "B@A"
   ]
  },
  {
   "cell_type": "code",
   "execution_count": 235,
   "id": "diagnostic-stevens",
   "metadata": {},
   "outputs": [
    {
     "name": "stdout",
     "output_type": "stream",
     "text": [
      "[[2 4 6]\n",
      " [0 0 0]]\n",
      "[[2 4 6]\n",
      " [0 0 0]]\n"
     ]
    }
   ],
   "source": [
    "# Propiedad asociativa\n",
    "C = np.array([[1, 2, 3], [4, 5, 6]])\n",
    "\n",
    "print(A.dot(B.dot(C)))\n",
    "print(A.dot(B).dot(C))"
   ]
  },
  {
   "cell_type": "code",
   "execution_count": null,
   "id": "hybrid-vampire",
   "metadata": {},
   "outputs": [],
   "source": []
  },
  {
   "cell_type": "code",
   "execution_count": 236,
   "id": "numeric-currency",
   "metadata": {},
   "outputs": [
    {
     "name": "stdout",
     "output_type": "stream",
     "text": [
      "[[1. 1.]\n",
      " [0. 0.]]\n",
      "[[1. 1.]\n",
      " [0. 0.]]\n"
     ]
    }
   ],
   "source": [
    "# Matriz identidad\n",
    "I = np.identity(2)\n",
    "\n",
    "print(A.dot(I))\n",
    "print(I.dot(A))"
   ]
  },
  {
   "cell_type": "code",
   "execution_count": 122,
   "id": "abandoned-bedroom",
   "metadata": {},
   "outputs": [
    {
     "name": "stdout",
     "output_type": "stream",
     "text": [
      "[[1. 0.]\n",
      " [0. 1.]]\n"
     ]
    }
   ],
   "source": [
    "I = np.eye(2)\n",
    "\n",
    "print(I)"
   ]
  },
  {
   "cell_type": "code",
   "execution_count": 123,
   "id": "broken-supply",
   "metadata": {},
   "outputs": [
    {
     "data": {
      "text/plain": [
       "\u001b[1;31mSignature:\u001b[0m \u001b[0mnp\u001b[0m\u001b[1;33m.\u001b[0m\u001b[0midentity\u001b[0m\u001b[1;33m(\u001b[0m\u001b[0mn\u001b[0m\u001b[1;33m,\u001b[0m \u001b[0mdtype\u001b[0m\u001b[1;33m=\u001b[0m\u001b[1;32mNone\u001b[0m\u001b[1;33m,\u001b[0m \u001b[1;33m*\u001b[0m\u001b[1;33m,\u001b[0m \u001b[0mlike\u001b[0m\u001b[1;33m=\u001b[0m\u001b[1;32mNone\u001b[0m\u001b[1;33m)\u001b[0m\u001b[1;33m\u001b[0m\u001b[1;33m\u001b[0m\u001b[0m\n",
       "\u001b[1;31mDocstring:\u001b[0m\n",
       "Return the identity array.\n",
       "\n",
       "The identity array is a square array with ones on\n",
       "the main diagonal.\n",
       "\n",
       "Parameters\n",
       "----------\n",
       "n : int\n",
       "    Number of rows (and columns) in `n` x `n` output.\n",
       "dtype : data-type, optional\n",
       "    Data-type of the output.  Defaults to ``float``.\n",
       "like : array_like\n",
       "    Reference object to allow the creation of arrays which are not\n",
       "    NumPy arrays. If an array-like passed in as ``like`` supports\n",
       "    the ``__array_function__`` protocol, the result will be defined\n",
       "    by it. In this case, it ensures the creation of an array object\n",
       "    compatible with that passed in via this argument.\n",
       "\n",
       "    .. note::\n",
       "        The ``like`` keyword is an experimental feature pending on\n",
       "        acceptance of :ref:`NEP 35 <NEP35>`.\n",
       "\n",
       "    .. versionadded:: 1.20.0\n",
       "\n",
       "Returns\n",
       "-------\n",
       "out : ndarray\n",
       "    `n` x `n` array with its main diagonal set to one,\n",
       "    and all other elements 0.\n",
       "\n",
       "Examples\n",
       "--------\n",
       ">>> np.identity(3)\n",
       "array([[1.,  0.,  0.],\n",
       "       [0.,  1.,  0.],\n",
       "       [0.,  0.,  1.]])\n",
       "\u001b[1;31mSource:\u001b[0m   \n",
       "\u001b[1;33m@\u001b[0m\u001b[0mset_array_function_like_doc\u001b[0m\u001b[1;33m\u001b[0m\n",
       "\u001b[1;33m\u001b[0m\u001b[1;33m@\u001b[0m\u001b[0mset_module\u001b[0m\u001b[1;33m(\u001b[0m\u001b[1;34m'numpy'\u001b[0m\u001b[1;33m)\u001b[0m\u001b[1;33m\u001b[0m\n",
       "\u001b[1;33m\u001b[0m\u001b[1;32mdef\u001b[0m \u001b[0midentity\u001b[0m\u001b[1;33m(\u001b[0m\u001b[0mn\u001b[0m\u001b[1;33m,\u001b[0m \u001b[0mdtype\u001b[0m\u001b[1;33m=\u001b[0m\u001b[1;32mNone\u001b[0m\u001b[1;33m,\u001b[0m \u001b[1;33m*\u001b[0m\u001b[1;33m,\u001b[0m \u001b[0mlike\u001b[0m\u001b[1;33m=\u001b[0m\u001b[1;32mNone\u001b[0m\u001b[1;33m)\u001b[0m\u001b[1;33m:\u001b[0m\u001b[1;33m\u001b[0m\n",
       "\u001b[1;33m\u001b[0m    \u001b[1;34m\"\"\"\u001b[0m\n",
       "\u001b[1;34m    Return the identity array.\u001b[0m\n",
       "\u001b[1;34m\u001b[0m\n",
       "\u001b[1;34m    The identity array is a square array with ones on\u001b[0m\n",
       "\u001b[1;34m    the main diagonal.\u001b[0m\n",
       "\u001b[1;34m\u001b[0m\n",
       "\u001b[1;34m    Parameters\u001b[0m\n",
       "\u001b[1;34m    ----------\u001b[0m\n",
       "\u001b[1;34m    n : int\u001b[0m\n",
       "\u001b[1;34m        Number of rows (and columns) in `n` x `n` output.\u001b[0m\n",
       "\u001b[1;34m    dtype : data-type, optional\u001b[0m\n",
       "\u001b[1;34m        Data-type of the output.  Defaults to ``float``.\u001b[0m\n",
       "\u001b[1;34m    ${ARRAY_FUNCTION_LIKE}\u001b[0m\n",
       "\u001b[1;34m\u001b[0m\n",
       "\u001b[1;34m        .. versionadded:: 1.20.0\u001b[0m\n",
       "\u001b[1;34m\u001b[0m\n",
       "\u001b[1;34m    Returns\u001b[0m\n",
       "\u001b[1;34m    -------\u001b[0m\n",
       "\u001b[1;34m    out : ndarray\u001b[0m\n",
       "\u001b[1;34m        `n` x `n` array with its main diagonal set to one,\u001b[0m\n",
       "\u001b[1;34m        and all other elements 0.\u001b[0m\n",
       "\u001b[1;34m\u001b[0m\n",
       "\u001b[1;34m    Examples\u001b[0m\n",
       "\u001b[1;34m    --------\u001b[0m\n",
       "\u001b[1;34m    >>> np.identity(3)\u001b[0m\n",
       "\u001b[1;34m    array([[1.,  0.,  0.],\u001b[0m\n",
       "\u001b[1;34m           [0.,  1.,  0.],\u001b[0m\n",
       "\u001b[1;34m           [0.,  0.,  1.]])\u001b[0m\n",
       "\u001b[1;34m\u001b[0m\n",
       "\u001b[1;34m    \"\"\"\u001b[0m\u001b[1;33m\u001b[0m\n",
       "\u001b[1;33m\u001b[0m    \u001b[1;32mif\u001b[0m \u001b[0mlike\u001b[0m \u001b[1;32mis\u001b[0m \u001b[1;32mnot\u001b[0m \u001b[1;32mNone\u001b[0m\u001b[1;33m:\u001b[0m\u001b[1;33m\u001b[0m\n",
       "\u001b[1;33m\u001b[0m        \u001b[1;32mreturn\u001b[0m \u001b[0m_identity_with_like\u001b[0m\u001b[1;33m(\u001b[0m\u001b[0mn\u001b[0m\u001b[1;33m,\u001b[0m \u001b[0mdtype\u001b[0m\u001b[1;33m=\u001b[0m\u001b[0mdtype\u001b[0m\u001b[1;33m,\u001b[0m \u001b[0mlike\u001b[0m\u001b[1;33m=\u001b[0m\u001b[0mlike\u001b[0m\u001b[1;33m)\u001b[0m\u001b[1;33m\u001b[0m\n",
       "\u001b[1;33m\u001b[0m\u001b[1;33m\u001b[0m\n",
       "\u001b[1;33m\u001b[0m    \u001b[1;32mfrom\u001b[0m \u001b[0mnumpy\u001b[0m \u001b[1;32mimport\u001b[0m \u001b[0meye\u001b[0m\u001b[1;33m\u001b[0m\n",
       "\u001b[1;33m\u001b[0m    \u001b[1;32mreturn\u001b[0m \u001b[0meye\u001b[0m\u001b[1;33m(\u001b[0m\u001b[0mn\u001b[0m\u001b[1;33m,\u001b[0m \u001b[0mdtype\u001b[0m\u001b[1;33m=\u001b[0m\u001b[0mdtype\u001b[0m\u001b[1;33m,\u001b[0m \u001b[0mlike\u001b[0m\u001b[1;33m=\u001b[0m\u001b[0mlike\u001b[0m\u001b[1;33m)\u001b[0m\u001b[1;33m\u001b[0m\u001b[1;33m\u001b[0m\u001b[0m\n",
       "\u001b[1;31mFile:\u001b[0m      ~/.virtualenvs/compuprof/lib/python3.8/site-packages/numpy/core/numeric.py\n",
       "\u001b[1;31mType:\u001b[0m      function\n"
      ]
     },
     "metadata": {},
     "output_type": "display_data"
    }
   ],
   "source": [
    "np.identity??"
   ]
  },
  {
   "cell_type": "markdown",
   "id": "measured-access",
   "metadata": {},
   "source": [
    "### Inversa de una matriz"
   ]
  },
  {
   "cell_type": "code",
   "execution_count": 241,
   "id": "negative-pontiac",
   "metadata": {},
   "outputs": [
    {
     "name": "stdout",
     "output_type": "stream",
     "text": [
      "[[-2.   1. ]\n",
      " [ 1.5 -0.5]]\n",
      "[[1.00000000e+00 0.00000000e+00]\n",
      " [1.11022302e-16 1.00000000e+00]]\n",
      "[[1.0000000e+00 0.0000000e+00]\n",
      " [8.8817842e-16 1.0000000e+00]]\n"
     ]
    }
   ],
   "source": [
    "A = np.array([[1, 2], [3, 4]])\n",
    "Ainv = np.linalg.inv(A)\n",
    "\n",
    "print(Ainv)\n",
    "print(Ainv.dot(A))\n",
    "print(A.dot(Ainv))"
   ]
  },
  {
   "cell_type": "code",
   "execution_count": null,
   "id": "atmospheric-fashion",
   "metadata": {},
   "outputs": [],
   "source": []
  },
  {
   "cell_type": "code",
   "execution_count": 32,
   "id": "serious-apple",
   "metadata": {},
   "outputs": [
    {
     "name": "stdout",
     "output_type": "stream",
     "text": [
      "[[1 1]\n",
      " [1 5]]\n",
      "[[ 1.25 -0.25]\n",
      " [-0.25  0.25]]\n"
     ]
    }
   ],
   "source": [
    "A = np.array([[1, 1], [1, 5]])\n",
    "Ainv = np.linalg.inv(A)\n",
    "\n",
    "print(A)\n",
    "print(Ainv)"
   ]
  },
  {
   "cell_type": "code",
   "execution_count": 242,
   "id": "gothic-bulgarian",
   "metadata": {},
   "outputs": [],
   "source": [
    "def matprint(mat, fmt=\"g\"):\n",
    "    col_maxes = [max([len((\"{:\"+fmt+\"}\").format(x)) for x in col]) for col in mat.T]\n",
    "    for x in mat:\n",
    "        for i, y in enumerate(x):\n",
    "            print((\"{:\"+str(col_maxes[i])+fmt+\"}\").format(y), end=\"  \")\n",
    "        print(\"\")"
   ]
  },
  {
   "cell_type": "code",
   "execution_count": 243,
   "id": "measured-cancellation",
   "metadata": {},
   "outputs": [
    {
     "name": "stdout",
     "output_type": "stream",
     "text": [
      " -2     1  \n",
      "1.5  -0.5  \n"
     ]
    }
   ],
   "source": [
    "matprint(Ainv)"
   ]
  },
  {
   "cell_type": "markdown",
   "id": "selected-boring",
   "metadata": {},
   "source": [
    "### Mostrar matriz e índices con pandas"
   ]
  },
  {
   "cell_type": "code",
   "execution_count": 244,
   "id": "brave-ticket",
   "metadata": {},
   "outputs": [],
   "source": [
    "import pandas as pd"
   ]
  },
  {
   "cell_type": "code",
   "execution_count": 40,
   "id": "eight-wrapping",
   "metadata": {},
   "outputs": [
    {
     "name": "stdout",
     "output_type": "stream",
     "text": [
      "      0     1\n",
      "0  1.25 -0.25\n",
      "1 -0.25  0.25\n"
     ]
    }
   ],
   "source": [
    "P = pd.DataFrame(Ainv)\n",
    "print(P)"
   ]
  },
  {
   "cell_type": "markdown",
   "id": "pretty-court",
   "metadata": {},
   "source": [
    "### Transpuesta"
   ]
  },
  {
   "cell_type": "code",
   "execution_count": 246,
   "id": "broadband-visiting",
   "metadata": {},
   "outputs": [
    {
     "name": "stdout",
     "output_type": "stream",
     "text": [
      "[[1 2]\n",
      " [3 4]]\n",
      "[[1 3]\n",
      " [2 4]]\n"
     ]
    }
   ],
   "source": [
    "A = np.array([[1, 2], [3, 4]])\n",
    "print(A)\n",
    "print(np.transpose(A))"
   ]
  },
  {
   "cell_type": "markdown",
   "id": "driving-thunder",
   "metadata": {},
   "source": [
    "# Tiempos de ejecución"
   ]
  },
  {
   "cell_type": "code",
   "execution_count": 250,
   "id": "obvious-appreciation",
   "metadata": {},
   "outputs": [],
   "source": [
    "import timeit\n",
    "import numpy as np"
   ]
  },
  {
   "cell_type": "code",
   "execution_count": 251,
   "id": "handy-import",
   "metadata": {},
   "outputs": [],
   "source": [
    "SIZE = 200\n",
    "A = np.random.rand(SIZE,SIZE)\n",
    "B = np.random.rand(SIZE,SIZE)"
   ]
  },
  {
   "cell_type": "code",
   "execution_count": 255,
   "id": "martial-schedule",
   "metadata": {},
   "outputs": [
    {
     "name": "stdout",
     "output_type": "stream",
     "text": [
      "CPU times: user 3.53 s, sys: 0 ns, total: 3.53 s\n",
      "Wall time: 3.53 s\n"
     ]
    }
   ],
   "source": [
    "%%time\n",
    "producto_a_mano = np.zeros((SIZE,SIZE))\n",
    "for i in range(SIZE):\n",
    "  for j in range(SIZE):\n",
    "    for k in range(SIZE):\n",
    "      producto_a_mano[i,k] += A[i,j]*B[j,k]"
   ]
  },
  {
   "cell_type": "code",
   "execution_count": 259,
   "id": "harmful-monkey",
   "metadata": {},
   "outputs": [
    {
     "name": "stdout",
     "output_type": "stream",
     "text": [
      "CPU times: user 12.1 ms, sys: 4.07 ms, total: 16.2 ms\n",
      "Wall time: 4.93 ms\n"
     ]
    }
   ],
   "source": [
    "%%time\n",
    "producto_numpy = A.dot(B)"
   ]
  },
  {
   "cell_type": "markdown",
   "id": "infectious-representation",
   "metadata": {},
   "source": [
    "### Resolver sistemas de ecuaciones"
   ]
  },
  {
   "cell_type": "code",
   "execution_count": 261,
   "id": "running-coast",
   "metadata": {},
   "outputs": [],
   "source": [
    "from numpy import linalg as la"
   ]
  },
  {
   "cell_type": "code",
   "execution_count": 262,
   "id": "micro-swift",
   "metadata": {},
   "outputs": [],
   "source": [
    "A = np.array([[1, 2],[1, 5]])\n",
    "b = [3, 1]"
   ]
  },
  {
   "cell_type": "code",
   "execution_count": 264,
   "id": "auburn-silly",
   "metadata": {},
   "outputs": [],
   "source": [
    "x = la.solve(A, b)"
   ]
  },
  {
   "cell_type": "code",
   "execution_count": 265,
   "id": "neither-seventh",
   "metadata": {},
   "outputs": [
    {
     "data": {
      "text/plain": [
       "array([ 4.33333333, -0.66666667])"
      ]
     },
     "execution_count": 265,
     "metadata": {},
     "output_type": "execute_result"
    }
   ],
   "source": [
    "x"
   ]
  },
  {
   "cell_type": "code",
   "execution_count": 266,
   "id": "frank-insight",
   "metadata": {},
   "outputs": [
    {
     "data": {
      "text/plain": [
       "array([0., 0.])"
      ]
     },
     "execution_count": 266,
     "metadata": {},
     "output_type": "execute_result"
    }
   ],
   "source": [
    "A@x-b"
   ]
  },
  {
   "cell_type": "markdown",
   "id": "equipped-success",
   "metadata": {},
   "source": [
    "Además. linalg tiene funcionalidades para operar con matrices"
   ]
  },
  {
   "cell_type": "code",
   "execution_count": 172,
   "id": "obvious-willow",
   "metadata": {},
   "outputs": [],
   "source": [
    "A = np.matrix([[5, 6, 2],\n",
    "               [4, 7, 19],\n",
    "               [0, 3, 12]])"
   ]
  },
  {
   "cell_type": "code",
   "execution_count": 173,
   "id": "indonesian-thermal",
   "metadata": {},
   "outputs": [],
   "source": [
    "Ainv = la.inv(A)"
   ]
  },
  {
   "cell_type": "code",
   "execution_count": null,
   "id": "architectural-vanilla",
   "metadata": {},
   "outputs": [],
   "source": []
  }
 ],
 "metadata": {
  "kernelspec": {
   "display_name": "Python 3 (ipykernel)",
   "language": "python",
   "name": "python3"
  },
  "language_info": {
   "codemirror_mode": {
    "name": "ipython",
    "version": 3
   },
   "file_extension": ".py",
   "mimetype": "text/x-python",
   "name": "python",
   "nbconvert_exporter": "python",
   "pygments_lexer": "ipython3",
   "version": "3.8.10"
  }
 },
 "nbformat": 4,
 "nbformat_minor": 5
}
