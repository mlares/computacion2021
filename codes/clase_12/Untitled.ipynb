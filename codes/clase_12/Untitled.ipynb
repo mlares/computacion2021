{
 "cells": [
  {
   "cell_type": "code",
   "execution_count": 1,
   "id": "adolescent-federal",
   "metadata": {},
   "outputs": [],
   "source": [
    "import numpy as np\n",
    "from matplotlib import pyplot as plt"
   ]
  },
  {
   "cell_type": "code",
   "execution_count": 2,
   "id": "stuffed-peripheral",
   "metadata": {},
   "outputs": [],
   "source": [
    "def NDD(x, y):\n",
    "    \"\"\"Devuelve las diferencias divididas de Newton.\n",
    "\n",
    "    Args:\n",
    "    x : lista o array\n",
    "        Los valores de x\n",
    "    y : lista o array\n",
    "        Los valores de y\n",
    "    Returns:\n",
    "    NDD : array\n",
    "        Array con las diferencias divididas\n",
    "    \"\"\"\n",
    "    NDD = []\n",
    "    N = len(x)\n",
    "    M = np.zeros([N,N])\n",
    "    M[:,0] = y\n",
    "    \n",
    "    for columna in range(1,N):\n",
    "        for fila in range(N-columna):\n",
    "    \n",
    "            m = f\"M[{fila}, {columna}]\"\n",
    "    \n",
    "            ll = [m, f\"= (M[{fila+1},{columna-1}]\", '-', \n",
    "                     f\"M[{fila}, {columna-1}])\", '/',\n",
    "                     f\"(x[{fila+columna}] - x[{fila}])\", '\\n']\n",
    "            print(''.join(ll))\n",
    "    \n",
    "            num = M[fila+1, columna-1] - M[fila, columna-1] \n",
    "            den = x[fila+columna] - x[fila]\n",
    "            M[fila,columna] = num/den\n",
    "                                                                 \n",
    "    print('Matriz:')\n",
    "    print(M)\n",
    "    NDD = M[0,:]\n",
    "    return NDD"
   ]
  },
  {
   "cell_type": "code",
   "execution_count": 3,
   "id": "desirable-child",
   "metadata": {},
   "outputs": [],
   "source": [
    "def NDD_eval(x_sample, a, x):\n",
    "    \"\"\"Evaluar el polinomio interpolante.\n",
    "\n",
    "    Args:\n",
    "    a : array\n",
    "        Diferencias divididas\n",
    "    x_sample : list or array\n",
    "        Valores donde quiero evaluar al polinomio\n",
    "    x : list or array\n",
    "        Valores X interpolados\n",
    "    Returns:\n",
    "    y : list or array\n",
    "        Valores del polinomio en x\n",
    "    \"\"\"\n",
    "    N = len(dd)\n",
    "    print(f\"P = a[{N-1}]\")\n",
    "    for i in range(N-2, -1, -1):\n",
    "        print(f\"P = a[{i}] + p*(x-x[{i}])\")\n",
    "                                             \n",
    "    N = len(a)\n",
    "    y = []\n",
    "    for xx in x_sample:\n",
    "        p = a[N-1]\n",
    "        for i in range(N-2, -1, -1):\n",
    "            p = a[i] + p*(xx-x[i])\n",
    "        y.append(p)\n",
    "\n",
    "    return y"
   ]
  },
  {
   "cell_type": "code",
   "execution_count": 4,
   "id": "early-resource",
   "metadata": {},
   "outputs": [
    {
     "name": "stdout",
     "output_type": "stream",
     "text": [
      "M[0, 1]= (M[1,0]-M[0, 0])/(x[1] - x[0])\n",
      "\n",
      "M[1, 1]= (M[2,0]-M[1, 0])/(x[2] - x[1])\n",
      "\n",
      "M[2, 1]= (M[3,0]-M[2, 0])/(x[3] - x[2])\n",
      "\n",
      "M[0, 2]= (M[1,1]-M[0, 1])/(x[2] - x[0])\n",
      "\n",
      "M[1, 2]= (M[2,1]-M[1, 1])/(x[3] - x[1])\n",
      "\n",
      "M[0, 3]= (M[1,2]-M[0, 2])/(x[3] - x[0])\n",
      "\n",
      "Matriz:\n",
      "[[-10.    5.    0.5  -1. ]\n",
      " [ -5.    6.   -2.5   0. ]\n",
      " [  1.    1.    0.    0. ]\n",
      " [  2.    0.    0.    0. ]]\n",
      "P = a[3]\n",
      "P = a[2] + p*(x-x[2])\n",
      "P = a[1] + p*(x-x[1])\n",
      "P = a[0] + p*(x-x[0])\n"
     ]
    },
    {
     "data": {
      "image/png": "[encoded data removed]",
      "text/plain": [
       "<Figure size 432x288 with 1 Axes>"
      ]
     },
     "metadata": {
      "needs_background": "light"
     },
     "output_type": "display_data"
    }
   ],
   "source": [
    "x = [-1, 0, 1, 2]\n",
    "y = [-10, -5, 1, 2]\n",
    "              \n",
    "dd = NDD(x, y)\n",
    "\n",
    "xi = np.linspace(-1, 2, 100)\n",
    "yi = NDD_eval(xi, dd, x)\n",
    "\n",
    "plt.plot(x, y, 'ob')\n",
    "plt.plot(xi, yi, 'r-')\n",
    "plt.show()"
   ]
  },
  {
   "cell_type": "code",
   "execution_count": null,
   "id": "careful-video",
   "metadata": {},
   "outputs": [],
   "source": []
  }
 ],
 "metadata": {
  "kernelspec": {
   "display_name": "Python 3",
   "language": "python",
   "name": "python3"
  },
  "language_info": {
   "codemirror_mode": {
    "name": "ipython",
    "version": 3
   },
   "file_extension": ".py",
   "mimetype": "text/x-python",
   "name": "python",
   "nbconvert_exporter": "python",
   "pygments_lexer": "ipython3",
   "version": "3.8.5"
  }
 },
 "nbformat": 4,
 "nbformat_minor": 5
}
