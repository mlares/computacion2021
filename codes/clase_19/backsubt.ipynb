{
 "cells": [
  {
   "cell_type": "code",
   "execution_count": 1,
   "id": "molecular-drive",
   "metadata": {},
   "outputs": [],
   "source": [
    "import numpy as np"
   ]
  },
  {
   "cell_type": "code",
   "execution_count": 275,
   "id": "essential-panama",
   "metadata": {},
   "outputs": [],
   "source": [
    "from mytools import bcolors, niceprint, operador, show_eqs"
   ]
  },
  {
   "cell_type": "markdown",
   "id": "described-astronomy",
   "metadata": {},
   "source": [
    "Copiamos el código para obtener una matriz triangular:"
   ]
  },
  {
   "cell_type": "code",
   "execution_count": 276,
   "id": "alleged-spectacular",
   "metadata": {},
   "outputs": [],
   "source": [
    "def triang_sup_numpy(A, b):\n",
    "    '''\n",
    "    Implementa el método de eliminación de Gauss para resolver\n",
    "    un sistema de ecuaciones\n",
    "    '''\n",
    "    A = np.array(A) \n",
    "    b = np.array(b) \n",
    "    n = len(b)\n",
    "    M = np.column_stack((A, b))\n",
    "\n",
    "    for i in range(n):\n",
    "        for j in range(i+1,n):\n",
    "            factor = M[j][i]/M[i][i]\n",
    "            M[j,:] = M[j,:] - factor*M[i,:]\n",
    "    return M  "
   ]
  },
  {
   "cell_type": "code",
   "execution_count": 277,
   "id": "selective-arkansas",
   "metadata": {},
   "outputs": [],
   "source": [
    "A = np.random.randint(1, 6, [3,3])\n",
    "b = np.random.randint(1, 6, [3,1])"
   ]
  },
  {
   "cell_type": "code",
   "execution_count": 278,
   "id": "varying-worthy",
   "metadata": {},
   "outputs": [
    {
     "data": {
      "text/plain": [
       "array([[ 1,  1,  3,  2],\n",
       "       [ 0,  3,  2,  1],\n",
       "       [ 0,  0, -6, -5]])"
      ]
     },
     "execution_count": 278,
     "metadata": {},
     "output_type": "execute_result"
    }
   ],
   "source": [
    "triang_sup_numpy(A, b)"
   ]
  },
  {
   "cell_type": "code",
   "execution_count": 279,
   "id": "related-messaging",
   "metadata": {},
   "outputs": [],
   "source": [
    "M = triang_sup_numpy(A, b)"
   ]
  },
  {
   "cell_type": "code",
   "execution_count": 280,
   "id": "objective-edinburgh",
   "metadata": {},
   "outputs": [
    {
     "name": "stdout",
     "output_type": "stream",
     "text": [
      "[[ 1  1  3  2]\n",
      " [ 0  3  2  1]\n",
      " [ 0  0 -6 -5]]\n"
     ]
    }
   ],
   "source": [
    "print(M)"
   ]
  },
  {
   "cell_type": "markdown",
   "id": "extreme-federation",
   "metadata": {},
   "source": [
    "Ahora implementamos el método de sustutición inversa:"
   ]
  },
  {
   "cell_type": "code",
   "execution_count": 206,
   "id": "excess-consistency",
   "metadata": {},
   "outputs": [],
   "source": [
    "def back_sub_numpy(A, b):\n",
    "    '''\n",
    "    Implementa el método de sustitución inversa para\n",
    "    resolver un sistema de ecuaciones representado por\n",
    "    una matrix triangular superior\n",
    "    '''\n",
    "    A = np.array(A) \n",
    "    b = np.array(b) \n",
    "    n = len(b)\n",
    "    M = np.column_stack((A, b))\n",
    "\n",
    "    for i in range(n):\n",
    "        for j in range(n):\n",
    "            factor = M[j][i]/M[i][i]\n",
    "            M[j,:] = M[j,:] - factor*M[i,:]\n",
    "    return M  "
   ]
  },
  {
   "cell_type": "code",
   "execution_count": null,
   "id": "serious-beauty",
   "metadata": {},
   "outputs": [],
   "source": []
  },
  {
   "cell_type": "code",
   "execution_count": 266,
   "id": "armed-drilling",
   "metadata": {},
   "outputs": [],
   "source": [
    "def show_eqs(A, B):\n",
    "    for a, b in zip(A, B):\n",
    "        s = ''\n",
    "        for i, aa in enumerate(a):\n",
    "            if abs(aa)>1.e-12:\n",
    "                aij = f'{aa}*x{i+1} + ' \n",
    "            else:\n",
    "                aij = ' '*6\n",
    "            s = s + aij\n",
    "        s = s[:-2] + f' = {b}'\n",
    "        print(s)   "
   ]
  },
  {
   "cell_type": "code",
   "execution_count": 283,
   "id": "expensive-cradle",
   "metadata": {},
   "outputs": [
    {
     "name": "stdout",
     "output_type": "stream",
     "text": [
      "[[1, -1, 2], [0, -1, 2], [0, 0, -6]]\n",
      "[5, 1, 2]\n"
     ]
    }
   ],
   "source": [
    "x = np.zeros(1)\n",
    "M = [[1, -1, 2], [0, -1, 2], [0, 0, -6]]\n",
    "b = [5,1,2]\n",
    "print(M)\n",
    "print(b)"
   ]
  },
  {
   "cell_type": "code",
   "execution_count": 284,
   "id": "three-trance",
   "metadata": {},
   "outputs": [
    {
     "name": "stdout",
     "output_type": "stream",
     "text": [
      "1*x1 + -1*x2 + 2*x3  = 5\n",
      "      -1*x2 + 2*x3  = 1\n",
      "            -6*x3  = 2\n"
     ]
    }
   ],
   "source": [
    "show_eqs(M, b)"
   ]
  },
  {
   "cell_type": "code",
   "execution_count": 285,
   "id": "third-bikini",
   "metadata": {},
   "outputs": [],
   "source": [
    "def back_sub(T, b):\n",
    "    n = len(b)\n",
    "    x = np.zeros(n)\n",
    "\n",
    "    s = 0.\n",
    "    for i in range(n-1, -1, -1):        \n",
    "        x[i] = (b[i]-s)/T[i,i]\n",
    "        j = i-1\n",
    "        s = np.dot(T[j,j:], x[j:])\n",
    "    return x"
   ]
  },
  {
   "cell_type": "code",
   "execution_count": 290,
   "id": "interpreted-jimmy",
   "metadata": {},
   "outputs": [
    {
     "name": "stdout",
     "output_type": "stream",
     "text": [
      "2 0.0 2 -6 -0.3333333333333333\n",
      "1 -0.6666666666666666 1 -1 -1.6666666666666665\n",
      "0 0.9999999999999999 5 1 4.0\n"
     ]
    }
   ],
   "source": [
    "x = back_sub(np.array(M), np.array(b))"
   ]
  },
  {
   "cell_type": "code",
   "execution_count": 291,
   "id": "outstanding-pioneer",
   "metadata": {},
   "outputs": [
    {
     "data": {
      "text/plain": [
       "-0.3333333333333333"
      ]
     },
     "execution_count": 291,
     "metadata": {},
     "output_type": "execute_result"
    }
   ],
   "source": [
    "2/(-6)"
   ]
  },
  {
   "cell_type": "code",
   "execution_count": 292,
   "id": "choice-photograph",
   "metadata": {},
   "outputs": [
    {
     "name": "stdout",
     "output_type": "stream",
     "text": [
      "[[1, -1, 2], [0, -1, 2], [0, 0, -6]]\n",
      "[5, 1, 2]\n"
     ]
    }
   ],
   "source": [
    "print(M)\n",
    "print(b)"
   ]
  },
  {
   "cell_type": "code",
   "execution_count": 293,
   "id": "abstract-oracle",
   "metadata": {},
   "outputs": [
    {
     "data": {
      "text/plain": [
       "array([ 4.        , -1.66666667, -0.33333333])"
      ]
     },
     "execution_count": 293,
     "metadata": {},
     "output_type": "execute_result"
    }
   ],
   "source": [
    "x"
   ]
  },
  {
   "cell_type": "code",
   "execution_count": 294,
   "id": "intended-penetration",
   "metadata": {},
   "outputs": [
    {
     "data": {
      "text/plain": [
       "array([5., 1., 2.])"
      ]
     },
     "execution_count": 294,
     "metadata": {},
     "output_type": "execute_result"
    }
   ],
   "source": [
    "M@x"
   ]
  },
  {
   "cell_type": "code",
   "execution_count": 295,
   "id": "isolated-profile",
   "metadata": {},
   "outputs": [
    {
     "data": {
      "text/plain": [
       "[5, 1, 2]"
      ]
     },
     "execution_count": 295,
     "metadata": {},
     "output_type": "execute_result"
    }
   ],
   "source": [
    "b"
   ]
  },
  {
   "cell_type": "code",
   "execution_count": null,
   "id": "sacred-development",
   "metadata": {},
   "outputs": [],
   "source": []
  }
 ],
 "metadata": {
  "kernelspec": {
   "display_name": "Python 3",
   "language": "python",
   "name": "python3"
  },
  "language_info": {
   "codemirror_mode": {
    "name": "ipython",
    "version": 3
   },
   "file_extension": ".py",
   "mimetype": "text/x-python",
   "name": "python",
   "nbconvert_exporter": "python",
   "pygments_lexer": "ipython3",
   "version": "3.9.0"
  }
 },
 "nbformat": 4,
 "nbformat_minor": 5
}
