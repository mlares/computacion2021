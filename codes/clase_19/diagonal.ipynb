{
 "cells": [
  {
   "cell_type": "code",
   "execution_count": 1,
   "id": "yellow-status",
   "metadata": {},
   "outputs": [],
   "source": [
    "import numpy as np"
   ]
  },
  {
   "cell_type": "code",
   "execution_count": 2,
   "id": "lyric-supply",
   "metadata": {},
   "outputs": [],
   "source": [
    "from mytools import bcolors, niceprint, operador"
   ]
  },
  {
   "cell_type": "code",
   "execution_count": 3,
   "id": "interpreted-acoustic",
   "metadata": {},
   "outputs": [],
   "source": [
    "def diag(A, b):\n",
    "    '''\n",
    "    Implementa el método de eliminación de Gauss para resolver\n",
    "    un sistema de ecuaciones\n",
    "    '''\n",
    "    A = np.array(A) \n",
    "    b = np.array(b) \n",
    "    n = len(b)\n",
    "    M = np.zeros((A.shape[0],A.shape[1]+1))\n",
    "    M[:,:-1] = A\n",
    "    M[:,-1] = b\n",
    "\n",
    "    for i in range(n):\n",
    "        for j in range(n):\n",
    "            if i != j:\n",
    "                factor = M[j][i]/M[i][i]\n",
    "\n",
    "                niceprint(M); foo = input('')\n",
    "                for k in range(n+1):\n",
    "                    M[j][k] = M[j][k] - factor * M[i][k]\n",
    "\n",
    "    niceprint(M); foo = input('')\n",
    "    x = b*0.\n",
    "    for i in range(n):\n",
    "        x[i] = M[i][n]/M[i][i]\n",
    "    return M, x          "
   ]
  },
  {
   "cell_type": "code",
   "execution_count": 4,
   "id": "infectious-season",
   "metadata": {},
   "outputs": [],
   "source": [
    "A = [[1, 2, 3],\n",
    "     [2, 1, 4],\n",
    "     [5, 2, 1]]\n",
    "b = [4, 2, 5]"
   ]
  },
  {
   "cell_type": "code",
   "execution_count": 5,
   "id": "excess-dining",
   "metadata": {},
   "outputs": [
    {
     "name": "stdout",
     "output_type": "stream",
     "text": [
      "\u001b[4;95;1m                                                  \u001b[0m\n",
      "\n",
      "1\t2\t3\t\u001b[93m:\u001b[0m\t\u001b[31;1m4\u001b[0m\n",
      "\u001b[0m\n",
      "2\t1\t4\t\u001b[93m:\u001b[0m\t\u001b[31;1m2\u001b[0m\n",
      "\u001b[0m\n",
      "5\t2\t1\t\u001b[93m:\u001b[0m\t\u001b[31;1m5\u001b[0m\n",
      "\u001b[0m\n"
     ]
    },
    {
     "name": "stdin",
     "output_type": "stream",
     "text": [
      " \n"
     ]
    },
    {
     "name": "stdout",
     "output_type": "stream",
     "text": [
      "\u001b[4;95;1m                                                  \u001b[0m\n",
      "\n",
      "1\t2\t3\t\u001b[93m:\u001b[0m\t\u001b[31;1m4\u001b[0m\n",
      "\u001b[0m\n",
      "0\t-3\t-2\t\u001b[93m:\u001b[0m\t\u001b[31;1m-6\u001b[0m\n",
      "\u001b[0m\n",
      "5\t2\t1\t\u001b[93m:\u001b[0m\t\u001b[31;1m5\u001b[0m\n",
      "\u001b[0m\n"
     ]
    },
    {
     "name": "stdin",
     "output_type": "stream",
     "text": [
      " \n"
     ]
    },
    {
     "name": "stdout",
     "output_type": "stream",
     "text": [
      "\u001b[4;95;1m                                                  \u001b[0m\n",
      "\n",
      "1\t2\t3\t\u001b[93m:\u001b[0m\t\u001b[31;1m4\u001b[0m\n",
      "\u001b[0m\n",
      "0\t-3\t-2\t\u001b[93m:\u001b[0m\t\u001b[31;1m-6\u001b[0m\n",
      "\u001b[0m\n",
      "0\t-8\t-14\t\u001b[93m:\u001b[0m\t\u001b[31;1m-15\u001b[0m\n",
      "\u001b[0m\n"
     ]
    },
    {
     "name": "stdin",
     "output_type": "stream",
     "text": [
      " \n"
     ]
    },
    {
     "name": "stdout",
     "output_type": "stream",
     "text": [
      "\u001b[4;95;1m                                                  \u001b[0m\n",
      "\n",
      "1\t0\t  1.667\t\u001b[93m:\u001b[0m\t\u001b[31;1m0\u001b[0m\n",
      "\u001b[0m\n",
      "0\t-3\t-2\t\u001b[93m:\u001b[0m\t\u001b[31;1m-6\u001b[0m\n",
      "\u001b[0m\n",
      "0\t-8\t-14\t\u001b[93m:\u001b[0m\t\u001b[31;1m-15\u001b[0m\n",
      "\u001b[0m\n"
     ]
    },
    {
     "name": "stdin",
     "output_type": "stream",
     "text": [
      " \n"
     ]
    },
    {
     "name": "stdout",
     "output_type": "stream",
     "text": [
      "\u001b[4;95;1m                                                  \u001b[0m\n",
      "\n",
      "1\t0\t  1.667\t\u001b[93m:\u001b[0m\t\u001b[31;1m0\u001b[0m\n",
      "\u001b[0m\n",
      "0\t-3\t-2\t\u001b[93m:\u001b[0m\t\u001b[31;1m-6\u001b[0m\n",
      "\u001b[0m\n",
      "0\t0\t -8.667\t\u001b[93m:\u001b[0m\t\u001b[31;1m1\u001b[0m\n",
      "\u001b[0m\n"
     ]
    },
    {
     "name": "stdin",
     "output_type": "stream",
     "text": [
      " \n"
     ]
    },
    {
     "name": "stdout",
     "output_type": "stream",
     "text": [
      "\u001b[4;95;1m                                                  \u001b[0m\n",
      "\n",
      "1\t0\t0\t\u001b[93m:\u001b[0m\t\u001b[31;1m  0.192\u001b[0m\n",
      "\u001b[0m\n",
      "0\t-3\t-2\t\u001b[93m:\u001b[0m\t\u001b[31;1m-6\u001b[0m\n",
      "\u001b[0m\n",
      "0\t0\t -8.667\t\u001b[93m:\u001b[0m\t\u001b[31;1m1\u001b[0m\n",
      "\u001b[0m\n"
     ]
    },
    {
     "name": "stdin",
     "output_type": "stream",
     "text": [
      " \n"
     ]
    },
    {
     "name": "stdout",
     "output_type": "stream",
     "text": [
      "\u001b[4;95;1m                                                  \u001b[0m\n",
      "\n",
      "1\t0\t0\t\u001b[93m:\u001b[0m\t\u001b[31;1m  0.192\u001b[0m\n",
      "\u001b[0m\n",
      "0\t-3\t0\t\u001b[93m:\u001b[0m\t\u001b[31;1m -6.231\u001b[0m\n",
      "\u001b[0m\n",
      "0\t0\t -8.667\t\u001b[93m:\u001b[0m\t\u001b[31;1m1\u001b[0m\n",
      "\u001b[0m\n"
     ]
    },
    {
     "name": "stdin",
     "output_type": "stream",
     "text": [
      " \n"
     ]
    },
    {
     "data": {
      "text/plain": [
       "(array([[ 1.        ,  0.        ,  0.        ,  0.19230769],\n",
       "        [ 0.        , -3.        ,  0.        , -6.23076923],\n",
       "        [ 0.        ,  0.        , -8.66666667,  1.        ]]),\n",
       " array([ 0.19230769,  2.07692308, -0.11538462]))"
      ]
     },
     "execution_count": 5,
     "metadata": {},
     "output_type": "execute_result"
    }
   ],
   "source": [
    "diag(A, b)"
   ]
  },
  {
   "cell_type": "code",
   "execution_count": 8,
   "id": "legitimate-mapping",
   "metadata": {},
   "outputs": [],
   "source": [
    "def diag_numpy(A, b):\n",
    "    '''\n",
    "    Implementa el método de eliminación de Gauss para resolver\n",
    "    un sistema de ecuaciones\n",
    "    '''\n",
    "    A = np.array(A) \n",
    "    b = np.array(b) \n",
    "    n = len(b)\n",
    "    M = np.zeros((A.shape[0],A.shape[1]+1))\n",
    "    M[:,:-1] = A\n",
    "    M[:,-1] = b\n",
    "\n",
    "    vname = ['x','y','z','v','w','p','q','g','s','d']\n",
    "\n",
    "    for i in range(n):\n",
    "        for j in range(i+1,n):\n",
    "\n",
    "            niceprint(M, [j,i])\n",
    "            print((f'\\nfila {j}, columna {i}'\n",
    "                   f' - Operación: E{j} ← E{j} - µ E{i},\\n                   '\n",
    "                   f' µ = E{j}{vname[i]}/E{i}{vname[i]} = {M[j][i]}/{M[i][i]}'\n",
    "                   f' = {M[j][i]/M[i][i]}'))\n",
    "\n",
    "            factor = M[j][i]/M[i][i]\n",
    "            M[j,:] = M[j,:] - factor*M[i,:]\n",
    "\n",
    "    niceprint(M); foo = input('')\n",
    "    x = b*0.\n",
    "    for i in range(n):\n",
    "        x[i] = M[i][n]/M[i][i]\n",
    "\n",
    "    M[:,:-1] = np.eye(n)\n",
    "    M[:,-1] = x\n",
    "\n",
    "    niceprint(M); foo = input('')\n",
    "\n",
    "    return M, x   "
   ]
  },
  {
   "cell_type": "code",
   "execution_count": null,
   "id": "first-piano",
   "metadata": {},
   "outputs": [],
   "source": [
    "\n",
    "diag_numpy(A, b)"
   ]
  },
  {
   "cell_type": "code",
   "execution_count": null,
   "id": "blank-ethiopia",
   "metadata": {},
   "outputs": [],
   "source": []
  },
  {
   "cell_type": "code",
   "execution_count": 14,
   "id": "juvenile-functionality",
   "metadata": {},
   "outputs": [],
   "source": [
    "def diag_numpy(A, b, verbose=False):\n",
    "    '''\n",
    "    Implementa el método de eliminación de Gauss para resolver\n",
    "    un sistema de ecuaciones\n",
    "    '''\n",
    "    A = np.array(A) \n",
    "    b = np.array(b) \n",
    "    n = len(b)\n",
    "    M = np.zeros((A.shape[0],A.shape[1]+1))\n",
    "    M[:,:-1] = A\n",
    "    M[:,-1] = b\n",
    "\n",
    "    vname = ['x','y','z','v','w','p','q','g','s','d']\n",
    "\n",
    "    for i in range(n):\n",
    "        for j in range(n):\n",
    "            if i != j:\n",
    "\n",
    "                if verbose:\n",
    "                    niceprint(M, [j,i]); foo = input('')\n",
    "                    print((f'\\nfila {j}, columna {i}'\n",
    "                           f' - Operación: E{j} ← E{j} - µ E{i},\\n                   '\n",
    "                           f' µ = E{j}{vname[i]}/E{i}{vname[i]} = {M[j][i]}/{M[i][i]}'\n",
    "                           f' = {M[j][i]/M[i][i]}'))\n",
    "\n",
    "                factor = M[j][i]/M[i][i]\n",
    "                M[j,:] = M[j,:] - factor*M[i,:]\n",
    "\n",
    "        if verbose:\n",
    "            niceprint(M); foo = input('')\n",
    "    x = b*0.\n",
    "    for i in range(n):\n",
    "        x[i] = M[i][n]/M[i][i]\n",
    "\n",
    "    return M, x  "
   ]
  },
  {
   "cell_type": "code",
   "execution_count": 15,
   "id": "automated-background",
   "metadata": {},
   "outputs": [
    {
     "data": {
      "text/plain": [
       "(array([[ 1.        ,  0.        ,  0.        ,  0.19230769],\n",
       "        [ 0.        , -3.        ,  0.        , -6.23076923],\n",
       "        [ 0.        ,  0.        , -8.66666667,  1.        ]]),\n",
       " array([ 0.19230769,  2.07692308, -0.11538462]))"
      ]
     },
     "execution_count": 15,
     "metadata": {},
     "output_type": "execute_result"
    }
   ],
   "source": [
    "diag_numpy(A, b)"
   ]
  },
  {
   "cell_type": "code",
   "execution_count": 19,
   "id": "lonely-closer",
   "metadata": {},
   "outputs": [
    {
     "name": "stdout",
     "output_type": "stream",
     "text": [
      "\u001b[4;95;1m                                                  \u001b[0m\n",
      "\n",
      "1\t2\t3\t\u001b[93m:\u001b[0m\t\u001b[31;1m4\u001b[0m\n",
      "\u001b[0m\n",
      "\u001b[92m2\u001b[0m\t1\t4\t\u001b[93m:\u001b[0m\t\u001b[31;1m2\u001b[0m\n",
      "\u001b[0m\n",
      "5\t2\t1\t\u001b[93m:\u001b[0m\t\u001b[31;1m5\u001b[0m\n",
      "\u001b[0m\n"
     ]
    },
    {
     "name": "stdin",
     "output_type": "stream",
     "text": [
      " \n"
     ]
    },
    {
     "name": "stdout",
     "output_type": "stream",
     "text": [
      "\n",
      "fila 1, columna 0 - Operación: E1 ← E1 - µ E0,\n",
      "                    µ = E1x/E0x = 2.0/1.0 = 2.0\n",
      "\u001b[4;95;1m                                                  \u001b[0m\n",
      "\n",
      "1\t2\t3\t\u001b[93m:\u001b[0m\t\u001b[31;1m4\u001b[0m\n",
      "\u001b[0m\n",
      "0\t-3\t-2\t\u001b[93m:\u001b[0m\t\u001b[31;1m-6\u001b[0m\n",
      "\u001b[0m\n",
      "\u001b[92m5\u001b[0m\t2\t1\t\u001b[93m:\u001b[0m\t\u001b[31;1m5\u001b[0m\n",
      "\u001b[0m\n"
     ]
    },
    {
     "name": "stdin",
     "output_type": "stream",
     "text": [
      " \n"
     ]
    },
    {
     "name": "stdout",
     "output_type": "stream",
     "text": [
      "\n",
      "fila 2, columna 0 - Operación: E2 ← E2 - µ E0,\n",
      "                    µ = E2x/E0x = 5.0/1.0 = 5.0\n",
      "\u001b[4;95;1m                                                  \u001b[0m\n",
      "\n",
      "1\t2\t3\t\u001b[93m:\u001b[0m\t\u001b[31;1m4\u001b[0m\n",
      "\u001b[0m\n",
      "0\t-3\t-2\t\u001b[93m:\u001b[0m\t\u001b[31;1m-6\u001b[0m\n",
      "\u001b[0m\n",
      "0\t-8\t-14\t\u001b[93m:\u001b[0m\t\u001b[31;1m-15\u001b[0m\n",
      "\u001b[0m\n"
     ]
    },
    {
     "name": "stdin",
     "output_type": "stream",
     "text": [
      " \n"
     ]
    },
    {
     "name": "stdout",
     "output_type": "stream",
     "text": [
      "\u001b[4;95;1m                                                  \u001b[0m\n",
      "\n",
      "1\t\u001b[92m2\u001b[0m\t3\t\u001b[93m:\u001b[0m\t\u001b[31;1m4\u001b[0m\n",
      "\u001b[0m\n",
      "0\t-3\t-2\t\u001b[93m:\u001b[0m\t\u001b[31;1m-6\u001b[0m\n",
      "\u001b[0m\n",
      "0\t-8\t-14\t\u001b[93m:\u001b[0m\t\u001b[31;1m-15\u001b[0m\n",
      "\u001b[0m\n"
     ]
    },
    {
     "name": "stdin",
     "output_type": "stream",
     "text": [
      " \n"
     ]
    },
    {
     "name": "stdout",
     "output_type": "stream",
     "text": [
      "\n",
      "fila 0, columna 1 - Operación: E0 ← E0 - µ E1,\n",
      "                    µ = E0y/E1y = 2.0/-3.0 = -0.6666666666666666\n",
      "\u001b[4;95;1m                                                  \u001b[0m\n",
      "\n",
      "1\t0\t  1.667\t\u001b[93m:\u001b[0m\t\u001b[31;1m0\u001b[0m\n",
      "\u001b[0m\n",
      "0\t-3\t-2\t\u001b[93m:\u001b[0m\t\u001b[31;1m-6\u001b[0m\n",
      "\u001b[0m\n",
      "0\t\u001b[92m-8\u001b[0m\t-14\t\u001b[93m:\u001b[0m\t\u001b[31;1m-15\u001b[0m\n",
      "\u001b[0m\n"
     ]
    },
    {
     "name": "stdin",
     "output_type": "stream",
     "text": [
      " \n"
     ]
    },
    {
     "name": "stdout",
     "output_type": "stream",
     "text": [
      "\n",
      "fila 2, columna 1 - Operación: E2 ← E2 - µ E1,\n",
      "                    µ = E2y/E1y = -8.0/-3.0 = 2.6666666666666665\n",
      "\u001b[4;95;1m                                                  \u001b[0m\n",
      "\n",
      "1\t0\t  1.667\t\u001b[93m:\u001b[0m\t\u001b[31;1m0\u001b[0m\n",
      "\u001b[0m\n",
      "0\t-3\t-2\t\u001b[93m:\u001b[0m\t\u001b[31;1m-6\u001b[0m\n",
      "\u001b[0m\n",
      "0\t0\t -8.667\t\u001b[93m:\u001b[0m\t\u001b[31;1m1\u001b[0m\n",
      "\u001b[0m\n"
     ]
    },
    {
     "name": "stdin",
     "output_type": "stream",
     "text": [
      " \n"
     ]
    },
    {
     "name": "stdout",
     "output_type": "stream",
     "text": [
      "\u001b[4;95;1m                                                  \u001b[0m\n",
      "\n",
      "1\t0\t\u001b[92m  1.667\u001b[0m\t\u001b[93m:\u001b[0m\t\u001b[31;1m0\u001b[0m\n",
      "\u001b[0m\n",
      "0\t-3\t-2\t\u001b[93m:\u001b[0m\t\u001b[31;1m-6\u001b[0m\n",
      "\u001b[0m\n",
      "0\t0\t -8.667\t\u001b[93m:\u001b[0m\t\u001b[31;1m1\u001b[0m\n",
      "\u001b[0m\n"
     ]
    },
    {
     "name": "stdin",
     "output_type": "stream",
     "text": [
      " \n"
     ]
    },
    {
     "name": "stdout",
     "output_type": "stream",
     "text": [
      "\n",
      "fila 0, columna 2 - Operación: E0 ← E0 - µ E2,\n",
      "                    µ = E0z/E2z = 1.6666666666666667/-8.666666666666668 = -0.1923076923076923\n",
      "\u001b[4;95;1m                                                  \u001b[0m\n",
      "\n",
      "1\t0\t0\t\u001b[93m:\u001b[0m\t\u001b[31;1m  0.192\u001b[0m\n",
      "\u001b[0m\n",
      "0\t-3\t\u001b[92m-2\u001b[0m\t\u001b[93m:\u001b[0m\t\u001b[31;1m-6\u001b[0m\n",
      "\u001b[0m\n",
      "0\t0\t -8.667\t\u001b[93m:\u001b[0m\t\u001b[31;1m1\u001b[0m\n",
      "\u001b[0m\n"
     ]
    },
    {
     "name": "stdin",
     "output_type": "stream",
     "text": [
      " \n"
     ]
    },
    {
     "name": "stdout",
     "output_type": "stream",
     "text": [
      "\n",
      "fila 1, columna 2 - Operación: E1 ← E1 - µ E2,\n",
      "                    µ = E1z/E2z = -2.0/-8.666666666666668 = 0.23076923076923073\n",
      "\u001b[4;95;1m                                                  \u001b[0m\n",
      "\n",
      "1\t0\t0\t\u001b[93m:\u001b[0m\t\u001b[31;1m  0.192\u001b[0m\n",
      "\u001b[0m\n",
      "0\t-3\t0\t\u001b[93m:\u001b[0m\t\u001b[31;1m -6.231\u001b[0m\n",
      "\u001b[0m\n",
      "0\t0\t -8.667\t\u001b[93m:\u001b[0m\t\u001b[31;1m1\u001b[0m\n",
      "\u001b[0m\n"
     ]
    },
    {
     "name": "stdin",
     "output_type": "stream",
     "text": [
      " \n"
     ]
    }
   ],
   "source": [
    "M, x = diag_numpy(A, b, True)"
   ]
  },
  {
   "cell_type": "code",
   "execution_count": 17,
   "id": "italic-correction",
   "metadata": {},
   "outputs": [
    {
     "data": {
      "text/plain": [
       "array([[ 1.        ,  0.        ,  0.        ,  0.19230769],\n",
       "       [ 0.        , -3.        ,  0.        , -6.23076923],\n",
       "       [ 0.        ,  0.        , -8.66666667,  1.        ]])"
      ]
     },
     "execution_count": 17,
     "metadata": {},
     "output_type": "execute_result"
    }
   ],
   "source": [
    "M"
   ]
  },
  {
   "cell_type": "code",
   "execution_count": 18,
   "id": "postal-passing",
   "metadata": {},
   "outputs": [
    {
     "data": {
      "text/plain": [
       "array([8.8817842e-16, 0.0000000e+00, 8.8817842e-16])"
      ]
     },
     "execution_count": 18,
     "metadata": {},
     "output_type": "execute_result"
    }
   ],
   "source": [
    "A@x - b"
   ]
  },
  {
   "cell_type": "code",
   "execution_count": null,
   "id": "earlier-throat",
   "metadata": {},
   "outputs": [],
   "source": []
  }
 ],
 "metadata": {
  "kernelspec": {
   "display_name": "Python 3 (ipykernel)",
   "language": "python",
   "name": "python3"
  },
  "language_info": {
   "codemirror_mode": {
    "name": "ipython",
    "version": 3
   },
   "file_extension": ".py",
   "mimetype": "text/x-python",
   "name": "python",
   "nbconvert_exporter": "python",
   "pygments_lexer": "ipython3",
   "version": "3.8.10"
  }
 },
 "nbformat": 4,
 "nbformat_minor": 5
}
