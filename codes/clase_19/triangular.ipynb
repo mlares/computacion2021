{
 "cells": [
  {
   "cell_type": "code",
   "execution_count": 155,
   "id": "consistent-express",
   "metadata": {},
   "outputs": [],
   "source": [
    "import numpy as np\n",
    "from fractions import Fraction as frac"
   ]
  },
  {
   "cell_type": "code",
   "execution_count": 218,
   "id": "impressed-supplement",
   "metadata": {},
   "outputs": [
    {
     "name": "stdout",
     "output_type": "stream",
     "text": [
      "44/35\n"
     ]
    }
   ],
   "source": [
    "x=frac(2,5)\n",
    "y=frac(6,7)\n",
    "print(x+y)"
   ]
  },
  {
   "cell_type": "code",
   "execution_count": 221,
   "id": "appreciated-bradford",
   "metadata": {},
   "outputs": [
    {
     "data": {
      "text/plain": [
       "5"
      ]
     },
     "execution_count": 221,
     "metadata": {},
     "output_type": "execute_result"
    }
   ],
   "source": [
    "x.denominator"
   ]
  },
  {
   "cell_type": "markdown",
   "id": "exceptional-accused",
   "metadata": {},
   "source": [
    "Generando matrices random"
   ]
  },
  {
   "cell_type": "code",
   "execution_count": 213,
   "id": "cosmetic-wedding",
   "metadata": {},
   "outputs": [],
   "source": [
    "np.random.seed(3324523)"
   ]
  },
  {
   "cell_type": "code",
   "execution_count": 214,
   "id": "fewer-retail",
   "metadata": {},
   "outputs": [],
   "source": [
    "A = np.random.randint(1, 6, [3,3])\n",
    "b = np.random.randint(1, 6, [3,1])"
   ]
  },
  {
   "cell_type": "code",
   "execution_count": 215,
   "id": "stable-excitement",
   "metadata": {},
   "outputs": [
    {
     "name": "stdout",
     "output_type": "stream",
     "text": [
      "[[5 2 5]\n",
      " [3 1 2]\n",
      " [4 2 1]]\n",
      "[[3]\n",
      " [4]\n",
      " [2]]\n"
     ]
    }
   ],
   "source": [
    "print(A)\n",
    "print(b)"
   ]
  },
  {
   "cell_type": "code",
   "execution_count": 174,
   "id": "union-winter",
   "metadata": {},
   "outputs": [
    {
     "name": "stdout",
     "output_type": "stream",
     "text": [
      "[[38]\n",
      " [13]\n",
      " [20]]\n"
     ]
    }
   ],
   "source": [
    "print(A@b)"
   ]
  },
  {
   "cell_type": "code",
   "execution_count": 175,
   "id": "latin-residence",
   "metadata": {},
   "outputs": [
    {
     "name": "stdout",
     "output_type": "stream",
     "text": [
      "[[38]\n",
      " [13]\n",
      " [20]]\n"
     ]
    }
   ],
   "source": [
    "print(np.dot(A, b))"
   ]
  },
  {
   "cell_type": "code",
   "execution_count": 176,
   "id": "indonesian-cycling",
   "metadata": {},
   "outputs": [
    {
     "name": "stdout",
     "output_type": "stream",
     "text": [
      "[[38]\n",
      " [13]\n",
      " [20]]\n"
     ]
    }
   ],
   "source": [
    "print(np.matmul(A, b))"
   ]
  },
  {
   "cell_type": "code",
   "execution_count": 177,
   "id": "continental-hardwood",
   "metadata": {},
   "outputs": [
    {
     "name": "stdout",
     "output_type": "stream",
     "text": [
      "[[4 4 5]\n",
      " [3 1 1]\n",
      " [3 2 2]]\n",
      "[[2]\n",
      " [5]\n",
      " [2]]\n",
      "[[4 4 5 2]\n",
      " [3 1 1 5]\n",
      " [3 2 2 2]]\n"
     ]
    }
   ],
   "source": [
    "# Para hacer una matriz extendida:\n",
    "\n",
    "M = np.column_stack((A, b))\n",
    "print(A)\n",
    "print(b)\n",
    "print(M)"
   ]
  },
  {
   "cell_type": "markdown",
   "id": "mechanical-founder",
   "metadata": {},
   "source": [
    "## funciones auxiliares"
   ]
  },
  {
   "cell_type": "code",
   "execution_count": 181,
   "id": "polar-seventh",
   "metadata": {},
   "outputs": [],
   "source": [
    "class bcolors:\n",
    "    # ANSI escape sequences\n",
    "    # Ver también el paquete colorama\n",
    "    HEADER = '\\033[95m'\n",
    "    OKBLUE = '\\033[94m'\n",
    "    OKCYAN = '\\033[96m'\n",
    "    OKGREEN = '\\033[92m'\n",
    "    WARNING = '\\033[93m'\n",
    "    FAIL = '\\033[91m'\n",
    "    ENDC = '\\033[0m'\n",
    "    BOLD = '\\033[1m'\n",
    "    UNDERLINE = '\\033[4m'\n",
    "    TST = '\\033[31;1m'\n",
    "    X = '\\033[4;95;1m'  "
   ]
  },
  {
   "cell_type": "code",
   "execution_count": 182,
   "id": "likely-claim",
   "metadata": {},
   "outputs": [
    {
     "name": "stdout",
     "output_type": "stream",
     "text": [
      "\n",
      "\n",
      "\u001b[94mUn saludo colorido!\u001b[0m\n",
      "\n",
      "\n"
     ]
    }
   ],
   "source": [
    "# ejemplo de uso:\n",
    "\n",
    "print(f'\\n\\n{bcolors.OKBLUE}Un saludo colorido!{bcolors.ENDC}\\n\\n')"
   ]
  },
  {
   "cell_type": "code",
   "execution_count": 216,
   "id": "brave-immunology",
   "metadata": {},
   "outputs": [],
   "source": [
    "def niceprint(matrix, ij=[None, None]):\n",
    "    sp = ' '*50\n",
    "    print(f'{bcolors.X}{sp}{bcolors.ENDC}\\n')\n",
    "    ki=0\n",
    "    for irow, row in enumerate(matrix):\n",
    "        pp = []\n",
    "        for icol, rr in enumerate(row):\n",
    "            if abs(rr)>1.e-8:\n",
    "                r = frac(rr)\n",
    "                if r.numerator > 1.e3 or r.denominator > 1.e3:\n",
    "                    r = f'{rr:7.3f}'\n",
    "                else:\n",
    "                    r = str(frac(rr))\n",
    "                if (ij[0]==irow) and (ij[1]==icol):\n",
    "                    r = f'{bcolors.OKGREEN}{r}{bcolors.ENDC}'\n",
    "            else:\n",
    "                r = '0'\n",
    "            pp.append(r)\n",
    "        p = pp[:-1]\n",
    "        p.append(f'{bcolors.WARNING}:{bcolors.ENDC}')\n",
    "        p.append(f'{bcolors.TST}{pp[-1]}{bcolors.ENDC}')\n",
    "        msg = \"\\t\".join(p)           \n",
    "        print(msg)\n",
    "        # print(\"\\uI001b[0m\")  # reset"
   ]
  },
  {
   "cell_type": "code",
   "execution_count": 217,
   "id": "continued-cement",
   "metadata": {},
   "outputs": [
    {
     "name": "stdout",
     "output_type": "stream",
     "text": [
      "[[4 4 5 2]\n",
      " [3 1 1 5]\n",
      " [3 2 2 2]]\n",
      "\u001b[4;95;1m                                                  \u001b[0m\n",
      "\n",
      "4\t4\t5\t\u001b[93m:\u001b[0m\t\u001b[31;1m2\u001b[0m\n",
      "3\t1\t1\t\u001b[93m:\u001b[0m\t\u001b[31;1m5\u001b[0m\n",
      "3\t2\t2\t\u001b[93m:\u001b[0m\t\u001b[31;1m2\u001b[0m\n",
      "\u001b[4;95;1m                                                  \u001b[0m\n",
      "\n",
      "4\t4\t5\t\u001b[93m:\u001b[0m\t\u001b[31;1m2\u001b[0m\n",
      "3\t\u001b[92m1\u001b[0m\t1\t\u001b[93m:\u001b[0m\t\u001b[31;1m5\u001b[0m\n",
      "3\t2\t2\t\u001b[93m:\u001b[0m\t\u001b[31;1m2\u001b[0m\n"
     ]
    }
   ],
   "source": [
    "# Ejemplo de uso:\n",
    "print(M)\n",
    "niceprint(M)\n",
    "niceprint(M, [1, 1])"
   ]
  },
  {
   "cell_type": "code",
   "execution_count": 224,
   "id": "treated-spanking",
   "metadata": {},
   "outputs": [
    {
     "name": "stdout",
     "output_type": "stream",
     "text": [
      "[[5 2 5]\n",
      " [3 1 2]\n",
      " [4 2 1]]\n",
      "[[3]\n",
      " [4]\n",
      " [2]]\n"
     ]
    }
   ],
   "source": [
    "print(A)\n",
    "print(b)"
   ]
  },
  {
   "cell_type": "code",
   "execution_count": 222,
   "id": "quantitative-confidentiality",
   "metadata": {},
   "outputs": [],
   "source": [
    "def show_eqs(A, B):\n",
    "    for a, b in zip(A, B):\n",
    "        s = ''\n",
    "        for i, aa in enumerate(a):\n",
    "            s = s + f'{aa}*x{i+1} + '\n",
    "        s = s[:-2] + f' = {b}'\n",
    "        print(s)"
   ]
  },
  {
   "cell_type": "code",
   "execution_count": 223,
   "id": "broke-friendly",
   "metadata": {},
   "outputs": [
    {
     "name": "stdout",
     "output_type": "stream",
     "text": [
      "5*x1 + 2*x2 + 5*x3  = [3]\n",
      "3*x1 + 1*x2 + 2*x3  = [4]\n",
      "4*x1 + 2*x2 + 1*x3  = [2]\n"
     ]
    }
   ],
   "source": [
    "show_eqs(A, b)"
   ]
  },
  {
   "cell_type": "code",
   "execution_count": null,
   "id": "agricultural-norwegian",
   "metadata": {},
   "outputs": [],
   "source": []
  },
  {
   "cell_type": "code",
   "execution_count": null,
   "id": "useful-german",
   "metadata": {},
   "outputs": [],
   "source": []
  },
  {
   "cell_type": "markdown",
   "id": "addressed-finger",
   "metadata": {},
   "source": [
    "## Eliminación de Gauss para hacer una matrix triangular"
   ]
  },
  {
   "cell_type": "markdown",
   "id": "center-absence",
   "metadata": {},
   "source": [
    "Primero probamos escribir el procedimiento:"
   ]
  },
  {
   "cell_type": "code",
   "execution_count": 230,
   "id": "hairy-provision",
   "metadata": {},
   "outputs": [],
   "source": [
    "def triang_sup(A, b):\n",
    "    '''\n",
    "    Implementa el método de eliminación de Gauss para\n",
    "    hacer una matrix triangular\n",
    "    '''\n",
    "    A = np.array(A) \n",
    "    b = np.array(b) \n",
    "    n = len(b)\n",
    "    M = np.zeros((A.shape[0],A.shape[1]+1))\n",
    "    M[:,:-1] = A\n",
    "    M[:,-1] = b\n",
    "\n",
    "    vname = ['x','y','z','v','w','p','q','g','s','d']\n",
    "\n",
    "    for i in range(n):\n",
    "        for j in range(i+1,n):\n",
    "\n",
    "            print(f'\\nfila {j}, columna {i}')\n",
    "            print(f'Operación: E{j} ← E{j} - µ E{i}')\n",
    "            print(f'µ = E{j}{vname[i]}/E{i}{vname[i]} = {M[j][i]}/{M[i][i]}')"
   ]
  },
  {
   "cell_type": "code",
   "execution_count": 231,
   "id": "nuclear-orange",
   "metadata": {},
   "outputs": [],
   "source": [
    "A = [[1, 2, 3],\n",
    "     [2, 1, 4],\n",
    "     [5, 2, 1]]\n",
    "b = [4, 2, 5]"
   ]
  },
  {
   "cell_type": "code",
   "execution_count": 232,
   "id": "lightweight-dakota",
   "metadata": {},
   "outputs": [
    {
     "name": "stdout",
     "output_type": "stream",
     "text": [
      "[[1, 2, 3], [2, 1, 4], [5, 2, 1]]\n",
      "[4, 2, 5]\n"
     ]
    }
   ],
   "source": [
    "print(A)\n",
    "print(b)"
   ]
  },
  {
   "cell_type": "code",
   "execution_count": 236,
   "id": "powered-broadway",
   "metadata": {},
   "outputs": [
    {
     "name": "stdout",
     "output_type": "stream",
     "text": [
      "\n",
      "fila 1, columna 0 - Operación: E1 ← E1 - µ E0,\n",
      "                    µ = E1x/E0x = 2.0/1.0\n",
      "\n",
      "fila 2, columna 0 - Operación: E2 ← E2 - µ E0,\n",
      "                    µ = E2x/E0x = 5.0/1.0\n",
      "\n",
      "fila 2, columna 1 - Operación: E2 ← E2 - µ E1,\n",
      "                    µ = E2y/E1y = 2.0/1.0\n"
     ]
    }
   ],
   "source": [
    "triang_sup(A, b)"
   ]
  },
  {
   "cell_type": "code",
   "execution_count": 238,
   "id": "about-strengthening",
   "metadata": {},
   "outputs": [],
   "source": [
    "V = [[1,2,3,4],[5,5,6,7]]"
   ]
  },
  {
   "cell_type": "code",
   "execution_count": 240,
   "id": "reasonable-malpractice",
   "metadata": {},
   "outputs": [
    {
     "data": {
      "text/plain": [
       "[[1, 2, 3, 4], [5, 5, 6, 7]]"
      ]
     },
     "execution_count": 240,
     "metadata": {},
     "output_type": "execute_result"
    }
   ],
   "source": [
    "V"
   ]
  },
  {
   "cell_type": "code",
   "execution_count": 241,
   "id": "organic-serum",
   "metadata": {},
   "outputs": [],
   "source": [
    "V = np.array(V)"
   ]
  },
  {
   "cell_type": "code",
   "execution_count": 244,
   "id": "dried-wholesale",
   "metadata": {},
   "outputs": [
    {
     "data": {
      "text/plain": [
       "(2, 4)"
      ]
     },
     "execution_count": 244,
     "metadata": {},
     "output_type": "execute_result"
    }
   ],
   "source": [
    "V.shape"
   ]
  },
  {
   "cell_type": "code",
   "execution_count": 247,
   "id": "imposed-foundation",
   "metadata": {},
   "outputs": [
    {
     "data": {
      "text/plain": [
       "array([[0., 0., 0., 0., 0., 0., 0.],\n",
       "       [0., 0., 0., 0., 0., 0., 0.]])"
      ]
     },
     "execution_count": 247,
     "metadata": {},
     "output_type": "execute_result"
    }
   ],
   "source": [
    "np.zeros([2,7])"
   ]
  },
  {
   "cell_type": "code",
   "execution_count": null,
   "id": "willing-header",
   "metadata": {},
   "outputs": [],
   "source": []
  },
  {
   "cell_type": "code",
   "execution_count": 248,
   "id": "rental-american",
   "metadata": {},
   "outputs": [],
   "source": [
    "def triang_sup(A, b):\n",
    "    '''\n",
    "    Implementa el método de eliminación de Gauss para\n",
    "    hacer una matrix triangular\n",
    "    '''\n",
    "    A = np.array(A) \n",
    "    b = np.array(b) \n",
    "    n = len(b)\n",
    "    M = np.zeros((A.shape[0],A.shape[1]+1))\n",
    "    M = np.zeros((n, n+1))\n",
    "    M[:,:-1] = A\n",
    "    M[:,-1] = b\n",
    "    M = np.column_stack((A, b))\n",
    "\n",
    "\n",
    "    vname = ['x','y','z','v','w','p','q','g','s','d']\n",
    "\n",
    "    for i in range(n):\n",
    "        for j in range(i+1,n):\n",
    "\n",
    "            print((f'\\nfila {j}, columna {i}'\n",
    "                   f' - Operación: E{j} ← E{j} - µ E{i},\\n                   '\n",
    "                   f' µ = E{j}{vname[i]}/E{i}{vname[i]} = {M[j][i]}/{M[i][i]}'))"
   ]
  },
  {
   "cell_type": "code",
   "execution_count": 249,
   "id": "buried-moderator",
   "metadata": {},
   "outputs": [
    {
     "name": "stdout",
     "output_type": "stream",
     "text": [
      "\n",
      "fila 1, columna 0 - Operación: E1 ← E1 - µ E0,\n",
      "                    µ = E1x/E0x = 2/1\n",
      "\n",
      "fila 2, columna 0 - Operación: E2 ← E2 - µ E0,\n",
      "                    µ = E2x/E0x = 5/1\n",
      "\n",
      "fila 2, columna 1 - Operación: E2 ← E2 - µ E1,\n",
      "                    µ = E2y/E1y = 2/1\n"
     ]
    }
   ],
   "source": [
    "triang_sup(A, b)"
   ]
  },
  {
   "cell_type": "markdown",
   "id": "separate-carol",
   "metadata": {},
   "source": [
    "Ahora hacemos la cuenta:"
   ]
  },
  {
   "cell_type": "code",
   "execution_count": 250,
   "id": "promotional-spirituality",
   "metadata": {},
   "outputs": [],
   "source": [
    "def triang_sup(A, b):\n",
    "    '''\n",
    "    Implementa el método de eliminación de Gauss para\n",
    "    hacer una matrix triangular\n",
    "    '''\n",
    "    A = np.array(A) \n",
    "    b = np.array(b) \n",
    "    n = len(b)\n",
    "    M = np.zeros((A.shape[0],A.shape[1]+1))\n",
    "    M[:,:-1] = A\n",
    "    M[:,-1] = b\n",
    "\n",
    "    vname = ['x','y','z','v','w','p','q','g','s','d']\n",
    "\n",
    "    for i in range(n):\n",
    "        for j in range(i+1,n):\n",
    "\n",
    "            niceprint(M, [j,i]); foo = input('')\n",
    "            print((f'\\nfila {j}, columna {i}'\n",
    "                   f' - Operación: E{j} ← E{j} - µ E{i},\\n                   '\n",
    "                   f' µ = E{j}{vname[i]}/E{i}{vname[i]} = {M[j][i]}/{M[i][i]}'))\n",
    "            factor = M[j][i]/M[i][i]\n",
    "\n",
    "            for k in range(n+1):\n",
    "                M[j,k] = M[j,k] - factor * M[i,k]\n",
    "                \n",
    "    niceprint(M); foo = input('')\n",
    "\n",
    "    return M "
   ]
  },
  {
   "cell_type": "code",
   "execution_count": 251,
   "id": "billion-humanitarian",
   "metadata": {},
   "outputs": [
    {
     "name": "stdout",
     "output_type": "stream",
     "text": [
      "\u001b[4;95;1m                                                  \u001b[0m\n",
      "\n",
      "1\t2\t3\t\u001b[93m:\u001b[0m\t\u001b[31;1m4\u001b[0m\n",
      "\u001b[92m2\u001b[0m\t1\t4\t\u001b[93m:\u001b[0m\t\u001b[31;1m2\u001b[0m\n",
      "5\t2\t1\t\u001b[93m:\u001b[0m\t\u001b[31;1m5\u001b[0m\n"
     ]
    },
    {
     "name": "stdin",
     "output_type": "stream",
     "text": [
      " \n"
     ]
    },
    {
     "name": "stdout",
     "output_type": "stream",
     "text": [
      "\n",
      "fila 1, columna 0 - Operación: E1 ← E1 - µ E0,\n",
      "                    µ = E1x/E0x = 2.0/1.0\n",
      "\u001b[4;95;1m                                                  \u001b[0m\n",
      "\n",
      "1\t2\t3\t\u001b[93m:\u001b[0m\t\u001b[31;1m4\u001b[0m\n",
      "0\t-3\t-2\t\u001b[93m:\u001b[0m\t\u001b[31;1m-6\u001b[0m\n",
      "\u001b[92m5\u001b[0m\t2\t1\t\u001b[93m:\u001b[0m\t\u001b[31;1m5\u001b[0m\n"
     ]
    },
    {
     "name": "stdin",
     "output_type": "stream",
     "text": [
      " \n"
     ]
    },
    {
     "name": "stdout",
     "output_type": "stream",
     "text": [
      "\n",
      "fila 2, columna 0 - Operación: E2 ← E2 - µ E0,\n",
      "                    µ = E2x/E0x = 5.0/1.0\n",
      "\u001b[4;95;1m                                                  \u001b[0m\n",
      "\n",
      "1\t2\t3\t\u001b[93m:\u001b[0m\t\u001b[31;1m4\u001b[0m\n",
      "0\t-3\t-2\t\u001b[93m:\u001b[0m\t\u001b[31;1m-6\u001b[0m\n",
      "0\t\u001b[92m-8\u001b[0m\t-14\t\u001b[93m:\u001b[0m\t\u001b[31;1m-15\u001b[0m\n"
     ]
    },
    {
     "name": "stdin",
     "output_type": "stream",
     "text": [
      " \n"
     ]
    },
    {
     "name": "stdout",
     "output_type": "stream",
     "text": [
      "\n",
      "fila 2, columna 1 - Operación: E2 ← E2 - µ E1,\n",
      "                    µ = E2y/E1y = -8.0/-3.0\n",
      "\u001b[4;95;1m                                                  \u001b[0m\n",
      "\n",
      "1\t2\t3\t\u001b[93m:\u001b[0m\t\u001b[31;1m4\u001b[0m\n",
      "0\t-3\t-2\t\u001b[93m:\u001b[0m\t\u001b[31;1m-6\u001b[0m\n",
      "0\t0\t -8.667\t\u001b[93m:\u001b[0m\t\u001b[31;1m1\u001b[0m\n"
     ]
    },
    {
     "ename": "KeyboardInterrupt",
     "evalue": "Interrupted by user",
     "output_type": "error",
     "traceback": [
      "\u001b[1;31m--------------------------------------------------------------------\u001b[0m",
      "\u001b[1;31mKeyboardInterrupt\u001b[0m                  Traceback (most recent call last)",
      "\u001b[1;32m<ipython-input-251-32312a68fc03>\u001b[0m in \u001b[0;36m<module>\u001b[1;34m\u001b[0m\n\u001b[1;32m----> 1\u001b[1;33m \u001b[0mM\u001b[0m \u001b[1;33m=\u001b[0m \u001b[0mtriang_sup\u001b[0m\u001b[1;33m(\u001b[0m\u001b[0mA\u001b[0m\u001b[1;33m,\u001b[0m \u001b[0mb\u001b[0m\u001b[1;33m)\u001b[0m\u001b[1;33m\u001b[0m\u001b[1;33m\u001b[0m\u001b[0m\n\u001b[0m",
      "\u001b[1;32m<ipython-input-250-2132af42328d>\u001b[0m in \u001b[0;36mtriang_sup\u001b[1;34m(A, b)\u001b[0m\n\u001b[0;32m     25\u001b[0m                 \u001b[0mM\u001b[0m\u001b[1;33m[\u001b[0m\u001b[0mj\u001b[0m\u001b[1;33m,\u001b[0m\u001b[0mk\u001b[0m\u001b[1;33m]\u001b[0m \u001b[1;33m=\u001b[0m \u001b[0mM\u001b[0m\u001b[1;33m[\u001b[0m\u001b[0mj\u001b[0m\u001b[1;33m,\u001b[0m\u001b[0mk\u001b[0m\u001b[1;33m]\u001b[0m \u001b[1;33m-\u001b[0m \u001b[0mfactor\u001b[0m \u001b[1;33m*\u001b[0m \u001b[0mM\u001b[0m\u001b[1;33m[\u001b[0m\u001b[0mi\u001b[0m\u001b[1;33m,\u001b[0m\u001b[0mk\u001b[0m\u001b[1;33m]\u001b[0m\u001b[1;33m\u001b[0m\u001b[1;33m\u001b[0m\u001b[0m\n\u001b[0;32m     26\u001b[0m \u001b[1;33m\u001b[0m\u001b[0m\n\u001b[1;32m---> 27\u001b[1;33m     \u001b[0mniceprint\u001b[0m\u001b[1;33m(\u001b[0m\u001b[0mM\u001b[0m\u001b[1;33m)\u001b[0m\u001b[1;33m;\u001b[0m \u001b[0mfoo\u001b[0m \u001b[1;33m=\u001b[0m \u001b[0minput\u001b[0m\u001b[1;33m(\u001b[0m\u001b[1;34m''\u001b[0m\u001b[1;33m)\u001b[0m\u001b[1;33m\u001b[0m\u001b[1;33m\u001b[0m\u001b[0m\n\u001b[0m\u001b[0;32m     28\u001b[0m \u001b[1;33m\u001b[0m\u001b[0m\n\u001b[0;32m     29\u001b[0m     \u001b[1;32mreturn\u001b[0m \u001b[0mM\u001b[0m\u001b[1;33m\u001b[0m\u001b[1;33m\u001b[0m\u001b[0m\n",
      "\u001b[1;32m~/.virtualenvs/compuprof/lib/python3.8/site-packages/ipykernel/kernelbase.py\u001b[0m in \u001b[0;36mraw_input\u001b[1;34m(self, prompt)\u001b[0m\n\u001b[0;32m    846\u001b[0m                 \u001b[1;34m\"raw_input was called, but this frontend does not support input requests.\"\u001b[0m\u001b[1;33m\u001b[0m\u001b[1;33m\u001b[0m\u001b[0m\n\u001b[0;32m    847\u001b[0m             )\n\u001b[1;32m--> 848\u001b[1;33m         return self._input_request(str(prompt),\n\u001b[0m\u001b[0;32m    849\u001b[0m             \u001b[0mself\u001b[0m\u001b[1;33m.\u001b[0m\u001b[0m_parent_ident\u001b[0m\u001b[1;33m,\u001b[0m\u001b[1;33m\u001b[0m\u001b[1;33m\u001b[0m\u001b[0m\n\u001b[0;32m    850\u001b[0m             \u001b[0mself\u001b[0m\u001b[1;33m.\u001b[0m\u001b[0m_parent_header\u001b[0m\u001b[1;33m,\u001b[0m\u001b[1;33m\u001b[0m\u001b[1;33m\u001b[0m\u001b[0m\n",
      "\u001b[1;32m~/.virtualenvs/compuprof/lib/python3.8/site-packages/ipykernel/kernelbase.py\u001b[0m in \u001b[0;36m_input_request\u001b[1;34m(self, prompt, ident, parent, password)\u001b[0m\n\u001b[0;32m    890\u001b[0m             \u001b[1;32mexcept\u001b[0m \u001b[0mKeyboardInterrupt\u001b[0m\u001b[1;33m:\u001b[0m\u001b[1;33m\u001b[0m\u001b[1;33m\u001b[0m\u001b[0m\n\u001b[0;32m    891\u001b[0m                 \u001b[1;31m# re-raise KeyboardInterrupt, to truncate traceback\u001b[0m\u001b[1;33m\u001b[0m\u001b[1;33m\u001b[0m\u001b[1;33m\u001b[0m\u001b[0m\n\u001b[1;32m--> 892\u001b[1;33m                 \u001b[1;32mraise\u001b[0m \u001b[0mKeyboardInterrupt\u001b[0m\u001b[1;33m(\u001b[0m\u001b[1;34m\"Interrupted by user\"\u001b[0m\u001b[1;33m)\u001b[0m \u001b[1;32mfrom\u001b[0m \u001b[1;32mNone\u001b[0m\u001b[1;33m\u001b[0m\u001b[1;33m\u001b[0m\u001b[0m\n\u001b[0m\u001b[0;32m    893\u001b[0m             \u001b[1;32mexcept\u001b[0m \u001b[0mException\u001b[0m \u001b[1;32mas\u001b[0m \u001b[0me\u001b[0m\u001b[1;33m:\u001b[0m\u001b[1;33m\u001b[0m\u001b[1;33m\u001b[0m\u001b[0m\n\u001b[0;32m    894\u001b[0m                 \u001b[0mself\u001b[0m\u001b[1;33m.\u001b[0m\u001b[0mlog\u001b[0m\u001b[1;33m.\u001b[0m\u001b[0mwarning\u001b[0m\u001b[1;33m(\u001b[0m\u001b[1;34m\"Invalid Message:\"\u001b[0m\u001b[1;33m,\u001b[0m \u001b[0mexc_info\u001b[0m\u001b[1;33m=\u001b[0m\u001b[1;32mTrue\u001b[0m\u001b[1;33m)\u001b[0m\u001b[1;33m\u001b[0m\u001b[1;33m\u001b[0m\u001b[0m\n",
      "\u001b[1;31mKeyboardInterrupt\u001b[0m: Interrupted by user"
     ]
    }
   ],
   "source": [
    "M = triang_sup(A, b)"
   ]
  },
  {
   "cell_type": "code",
   "execution_count": null,
   "id": "colonial-ranch",
   "metadata": {},
   "outputs": [],
   "source": []
  },
  {
   "cell_type": "code",
   "execution_count": null,
   "id": "gorgeous-recruitment",
   "metadata": {},
   "outputs": [],
   "source": [
    "def triang_sup_numpy(A, b):\n",
    "    '''\n",
    "    Implementa el método de eliminación de Gauss para resolver\n",
    "    un sistema de ecuaciones\n",
    "    '''\n",
    "    A = np.array(A) \n",
    "    b = np.array(b) \n",
    "    n = len(b)\n",
    "    M = np.zeros((A.shape[0],A.shape[1]+1))\n",
    "    M[:,:-1] = A\n",
    "    M[:,-1] = b\n",
    "\n",
    "    vname = ['x','y','z','v','w','p','q','g','s','d']\n",
    "\n",
    "    for i in range(n):\n",
    "        for j in range(i+1,n):\n",
    "\n",
    "            niceprint(M, [j,i]); foo = input('')\n",
    "            print((f'\\nfila {j}, columna {i}'\n",
    "                   f' - Operación: E{j} ← E{j} - µ E{i},\\n                   '\n",
    "                   f' µ = E{j}{vname[i]}/E{i}{vname[i]} = {M[j][i]}/{M[i][i]}'\n",
    "                   f' = {M[j][i]/M[i][i]}'))\n",
    "\n",
    "            factor = M[j][i]/M[i][i]\n",
    "            M[j,:] = M[j,:] - factor*M[i,:]\n",
    "\n",
    "    niceprint(M); foo = input('')\n",
    "\n",
    "    return M  "
   ]
  },
  {
   "cell_type": "code",
   "execution_count": 252,
   "id": "small-decline",
   "metadata": {},
   "outputs": [
    {
     "name": "stdout",
     "output_type": "stream",
     "text": [
      "\u001b[4;95;1m                                                  \u001b[0m\n",
      "\n",
      "1\t2\t3\t\u001b[93m:\u001b[0m\t\u001b[31;1m4\u001b[0m\n",
      "\u001b[92m2\u001b[0m\t1\t4\t\u001b[93m:\u001b[0m\t\u001b[31;1m2\u001b[0m\n",
      "5\t2\t1\t\u001b[93m:\u001b[0m\t\u001b[31;1m5\u001b[0m\n"
     ]
    },
    {
     "name": "stdin",
     "output_type": "stream",
     "text": [
      " \n"
     ]
    },
    {
     "name": "stdout",
     "output_type": "stream",
     "text": [
      "\n",
      "fila 1, columna 0 - Operación: E1 ← E1 - µ E0,\n",
      "                    µ = E1x/E0x = 2.0/1.0 = 2.0\n",
      "\u001b[4;95;1m                                                  \u001b[0m\n",
      "\n",
      "1\t2\t3\t\u001b[93m:\u001b[0m\t\u001b[31;1m4\u001b[0m\n",
      "0\t-3\t-2\t\u001b[93m:\u001b[0m\t\u001b[31;1m-6\u001b[0m\n",
      "\u001b[92m5\u001b[0m\t2\t1\t\u001b[93m:\u001b[0m\t\u001b[31;1m5\u001b[0m\n"
     ]
    },
    {
     "name": "stdin",
     "output_type": "stream",
     "text": [
      " \n"
     ]
    },
    {
     "name": "stdout",
     "output_type": "stream",
     "text": [
      "\n",
      "fila 2, columna 0 - Operación: E2 ← E2 - µ E0,\n",
      "                    µ = E2x/E0x = 5.0/1.0 = 5.0\n",
      "\u001b[4;95;1m                                                  \u001b[0m\n",
      "\n",
      "1\t2\t3\t\u001b[93m:\u001b[0m\t\u001b[31;1m4\u001b[0m\n",
      "0\t-3\t-2\t\u001b[93m:\u001b[0m\t\u001b[31;1m-6\u001b[0m\n",
      "0\t\u001b[92m-8\u001b[0m\t-14\t\u001b[93m:\u001b[0m\t\u001b[31;1m-15\u001b[0m\n"
     ]
    },
    {
     "name": "stdin",
     "output_type": "stream",
     "text": [
      " \n"
     ]
    },
    {
     "name": "stdout",
     "output_type": "stream",
     "text": [
      "\n",
      "fila 2, columna 1 - Operación: E2 ← E2 - µ E1,\n",
      "                    µ = E2y/E1y = -8.0/-3.0 = 2.6666666666666665\n",
      "\u001b[4;95;1m                                                  \u001b[0m\n",
      "\n",
      "1\t2\t3\t\u001b[93m:\u001b[0m\t\u001b[31;1m4\u001b[0m\n",
      "0\t-3\t-2\t\u001b[93m:\u001b[0m\t\u001b[31;1m-6\u001b[0m\n",
      "0\t0\t -8.667\t\u001b[93m:\u001b[0m\t\u001b[31;1m1\u001b[0m\n"
     ]
    },
    {
     "ename": "KeyboardInterrupt",
     "evalue": "Interrupted by user",
     "output_type": "error",
     "traceback": [
      "\u001b[1;31m--------------------------------------------------------------------\u001b[0m",
      "\u001b[1;31mKeyboardInterrupt\u001b[0m                  Traceback (most recent call last)",
      "\u001b[1;32m<ipython-input-252-f07ca2636f59>\u001b[0m in \u001b[0;36m<module>\u001b[1;34m\u001b[0m\n\u001b[1;32m----> 1\u001b[1;33m \u001b[0mtriang_sup_numpy\u001b[0m\u001b[1;33m(\u001b[0m\u001b[0mA\u001b[0m\u001b[1;33m,\u001b[0m \u001b[0mb\u001b[0m\u001b[1;33m)\u001b[0m\u001b[1;33m\u001b[0m\u001b[1;33m\u001b[0m\u001b[0m\n\u001b[0m",
      "\u001b[1;32m<ipython-input-119-60de77a74f72>\u001b[0m in \u001b[0;36mtriang_sup_numpy\u001b[1;34m(A, b)\u001b[0m\n\u001b[0;32m     25\u001b[0m             \u001b[0mM\u001b[0m\u001b[1;33m[\u001b[0m\u001b[0mj\u001b[0m\u001b[1;33m,\u001b[0m\u001b[1;33m:\u001b[0m\u001b[1;33m]\u001b[0m \u001b[1;33m=\u001b[0m \u001b[0mM\u001b[0m\u001b[1;33m[\u001b[0m\u001b[0mj\u001b[0m\u001b[1;33m,\u001b[0m\u001b[1;33m:\u001b[0m\u001b[1;33m]\u001b[0m \u001b[1;33m-\u001b[0m \u001b[0mfactor\u001b[0m\u001b[1;33m*\u001b[0m\u001b[0mM\u001b[0m\u001b[1;33m[\u001b[0m\u001b[0mi\u001b[0m\u001b[1;33m,\u001b[0m\u001b[1;33m:\u001b[0m\u001b[1;33m]\u001b[0m\u001b[1;33m\u001b[0m\u001b[1;33m\u001b[0m\u001b[0m\n\u001b[0;32m     26\u001b[0m \u001b[1;33m\u001b[0m\u001b[0m\n\u001b[1;32m---> 27\u001b[1;33m     \u001b[0mniceprint\u001b[0m\u001b[1;33m(\u001b[0m\u001b[0mM\u001b[0m\u001b[1;33m)\u001b[0m\u001b[1;33m;\u001b[0m \u001b[0mfoo\u001b[0m \u001b[1;33m=\u001b[0m \u001b[0minput\u001b[0m\u001b[1;33m(\u001b[0m\u001b[1;34m''\u001b[0m\u001b[1;33m)\u001b[0m\u001b[1;33m\u001b[0m\u001b[1;33m\u001b[0m\u001b[0m\n\u001b[0m\u001b[0;32m     28\u001b[0m \u001b[1;33m\u001b[0m\u001b[0m\n\u001b[0;32m     29\u001b[0m     \u001b[1;32mreturn\u001b[0m \u001b[0mM\u001b[0m\u001b[1;33m\u001b[0m\u001b[1;33m\u001b[0m\u001b[0m\n",
      "\u001b[1;32m~/.virtualenvs/compuprof/lib/python3.8/site-packages/ipykernel/kernelbase.py\u001b[0m in \u001b[0;36mraw_input\u001b[1;34m(self, prompt)\u001b[0m\n\u001b[0;32m    846\u001b[0m                 \u001b[1;34m\"raw_input was called, but this frontend does not support input requests.\"\u001b[0m\u001b[1;33m\u001b[0m\u001b[1;33m\u001b[0m\u001b[0m\n\u001b[0;32m    847\u001b[0m             )\n\u001b[1;32m--> 848\u001b[1;33m         return self._input_request(str(prompt),\n\u001b[0m\u001b[0;32m    849\u001b[0m             \u001b[0mself\u001b[0m\u001b[1;33m.\u001b[0m\u001b[0m_parent_ident\u001b[0m\u001b[1;33m,\u001b[0m\u001b[1;33m\u001b[0m\u001b[1;33m\u001b[0m\u001b[0m\n\u001b[0;32m    850\u001b[0m             \u001b[0mself\u001b[0m\u001b[1;33m.\u001b[0m\u001b[0m_parent_header\u001b[0m\u001b[1;33m,\u001b[0m\u001b[1;33m\u001b[0m\u001b[1;33m\u001b[0m\u001b[0m\n",
      "\u001b[1;32m~/.virtualenvs/compuprof/lib/python3.8/site-packages/ipykernel/kernelbase.py\u001b[0m in \u001b[0;36m_input_request\u001b[1;34m(self, prompt, ident, parent, password)\u001b[0m\n\u001b[0;32m    890\u001b[0m             \u001b[1;32mexcept\u001b[0m \u001b[0mKeyboardInterrupt\u001b[0m\u001b[1;33m:\u001b[0m\u001b[1;33m\u001b[0m\u001b[1;33m\u001b[0m\u001b[0m\n\u001b[0;32m    891\u001b[0m                 \u001b[1;31m# re-raise KeyboardInterrupt, to truncate traceback\u001b[0m\u001b[1;33m\u001b[0m\u001b[1;33m\u001b[0m\u001b[1;33m\u001b[0m\u001b[0m\n\u001b[1;32m--> 892\u001b[1;33m                 \u001b[1;32mraise\u001b[0m \u001b[0mKeyboardInterrupt\u001b[0m\u001b[1;33m(\u001b[0m\u001b[1;34m\"Interrupted by user\"\u001b[0m\u001b[1;33m)\u001b[0m \u001b[1;32mfrom\u001b[0m \u001b[1;32mNone\u001b[0m\u001b[1;33m\u001b[0m\u001b[1;33m\u001b[0m\u001b[0m\n\u001b[0m\u001b[0;32m    893\u001b[0m             \u001b[1;32mexcept\u001b[0m \u001b[0mException\u001b[0m \u001b[1;32mas\u001b[0m \u001b[0me\u001b[0m\u001b[1;33m:\u001b[0m\u001b[1;33m\u001b[0m\u001b[1;33m\u001b[0m\u001b[0m\n\u001b[0;32m    894\u001b[0m                 \u001b[0mself\u001b[0m\u001b[1;33m.\u001b[0m\u001b[0mlog\u001b[0m\u001b[1;33m.\u001b[0m\u001b[0mwarning\u001b[0m\u001b[1;33m(\u001b[0m\u001b[1;34m\"Invalid Message:\"\u001b[0m\u001b[1;33m,\u001b[0m \u001b[0mexc_info\u001b[0m\u001b[1;33m=\u001b[0m\u001b[1;32mTrue\u001b[0m\u001b[1;33m)\u001b[0m\u001b[1;33m\u001b[0m\u001b[1;33m\u001b[0m\u001b[0m\n",
      "\u001b[1;31mKeyboardInterrupt\u001b[0m: Interrupted by user"
     ]
    }
   ],
   "source": [
    "triang_sup_numpy(A, b)"
   ]
  },
  {
   "cell_type": "code",
   "execution_count": null,
   "id": "beneficial-crest",
   "metadata": {},
   "outputs": [],
   "source": []
  },
  {
   "cell_type": "code",
   "execution_count": 253,
   "id": "increasing-prospect",
   "metadata": {},
   "outputs": [],
   "source": [
    "def operador(i, j, mu=None, f=None, n=3):\n",
    "    \"\"\"\n",
    "    Construye un operador matricial para la operacion:\n",
    "    F[f] ← F[i] + mu*F[j]\n",
    "    \"\"\"\n",
    "    M = np.eye(n)\n",
    "    if mu is None:\n",
    "        # permutar filas\n",
    "        aux = M[i,:].copy()\n",
    "        M[i,:] = M[j,:]\n",
    "        M[j,:] = aux\n",
    "    else:\n",
    "        nuevafila = M[i,:] + mu*M[j,:]\n",
    "        M[f,:] = nuevafila\n",
    "    return M"
   ]
  },
  {
   "cell_type": "markdown",
   "id": "equal-olympus",
   "metadata": {},
   "source": [
    "ejemplo de como se usa:"
   ]
  },
  {
   "cell_type": "code",
   "execution_count": 260,
   "id": "intimate-apparel",
   "metadata": {},
   "outputs": [
    {
     "name": "stdout",
     "output_type": "stream",
     "text": [
      "[[0. 1. 0.]\n",
      " [1. 0. 0.]\n",
      " [0. 0. 1.]]\n",
      "[[1. 0. 0.]\n",
      " [0. 1. 0.]\n",
      " [0. 0. 1.]]\n",
      "[[0. 1. 0.]\n",
      " [1. 0. 0.]\n",
      " [0. 0. 1.]]\n"
     ]
    }
   ],
   "source": [
    "# intercambiar las filas 0 y 1\n",
    "op = operador(0,1)\n",
    "I = np.eye(3)\n",
    "print(op)\n",
    "print(I)\n",
    "W = op@I\n",
    "print(W)"
   ]
  },
  {
   "cell_type": "code",
   "execution_count": 257,
   "id": "instrumental-independence",
   "metadata": {},
   "outputs": [
    {
     "name": "stdout",
     "output_type": "stream",
     "text": [
      "[[4. 5. 3.]\n",
      " [5. 2. 4.]\n",
      " [3. 5. 3.]] \n",
      "\n",
      " [[5. 2. 4.]\n",
      " [4. 5. 3.]\n",
      " [3. 5. 3.]]\n"
     ]
    }
   ],
   "source": [
    "A = np.random.randint(1, 6, [3,3])\n",
    "A = A.astype(float)\n",
    "print(A, '\\n\\n', operador(0,1)@A)"
   ]
  },
  {
   "cell_type": "code",
   "execution_count": 261,
   "id": "indonesian-lincoln",
   "metadata": {},
   "outputs": [
    {
     "data": {
      "text/plain": [
       "array([[1., 0., 0.],\n",
       "       [0., 0., 1.],\n",
       "       [0., 1., 0.]])"
      ]
     },
     "execution_count": 261,
     "metadata": {},
     "output_type": "execute_result"
    }
   ],
   "source": [
    "# intercambiar las filas 2 y 1\n",
    "operador(2,1)"
   ]
  },
  {
   "cell_type": "code",
   "execution_count": 262,
   "id": "hungry-court",
   "metadata": {},
   "outputs": [
    {
     "name": "stdout",
     "output_type": "stream",
     "text": [
      "[[4. 5. 3.]\n",
      " [5. 2. 4.]\n",
      " [3. 5. 3.]] \n",
      "\n",
      " [[4. 5. 3.]\n",
      " [3. 5. 3.]\n",
      " [5. 2. 4.]]\n"
     ]
    }
   ],
   "source": [
    "print(A, '\\n\\n', operador(2,1)@A)"
   ]
  },
  {
   "cell_type": "code",
   "execution_count": 263,
   "id": "continental-tucson",
   "metadata": {},
   "outputs": [
    {
     "data": {
      "text/plain": [
       "array([[1. , 0. , 0. ],\n",
       "       [2.5, 1. , 0. ],\n",
       "       [0. , 0. , 1. ]])"
      ]
     },
     "execution_count": 263,
     "metadata": {},
     "output_type": "execute_result"
    }
   ],
   "source": [
    "# hacer  fila1 <--- fila1 - 2.5 * fila0\n",
    "\n",
    "operador(1, 0, 2.5, 1)"
   ]
  },
  {
   "cell_type": "code",
   "execution_count": 264,
   "id": "suitable-contrast",
   "metadata": {},
   "outputs": [
    {
     "name": "stdout",
     "output_type": "stream",
     "text": [
      "[[2. 1. 1.]\n",
      " [1. 5. 2.]\n",
      " [3. 2. 3.]] \n",
      "\n",
      " [[2.  1.  1. ]\n",
      " [0.  4.5 1.5]\n",
      " [3.  2.  3. ]]\n"
     ]
    }
   ],
   "source": [
    "A = [[2,1,1],[1,5,2],[3,2,3]]\n",
    "A = np.array(A).astype(float)\n",
    "print(A, '\\n\\n', operador(1, 0, -1/2, 1)@A)"
   ]
  },
  {
   "cell_type": "code",
   "execution_count": 265,
   "id": "laughing-disabled",
   "metadata": {},
   "outputs": [],
   "source": [
    "def triang_sup_operador(A, b):\n",
    "\n",
    "    n = len(b)\n",
    "    M = np.column_stack((np.array(A), np.array(b)))\n",
    "    vname = ['x','y','z','v','w','p','q','g','s','d']\n",
    "\n",
    "    for i in range(n):\n",
    "        for j in range(i+1,n):\n",
    "\n",
    "            print((f'\\nfila {j}, columna {i}'\n",
    "                   f' - Operación: E{j} ← E{j} - µ E{i},\\n                   '\n",
    "                   f' µ = E{j}{vname[i]}/E{i}{vname[i]} = {M[j][i]}/{M[i][i]}'))\n",
    "            niceprint(M, [j,i]); foo = input('')\n",
    "\n",
    "            op = operador(j, i, -M[j][i]/M[i][i], j, n)\n",
    "            M = op@M\n",
    "\n",
    "    niceprint(M); foo = input('')\n",
    "\n",
    "    return M   "
   ]
  },
  {
   "cell_type": "code",
   "execution_count": 266,
   "id": "eight-fleet",
   "metadata": {},
   "outputs": [],
   "source": [
    "A = np.random.randint(1, 6, [3,3])\n",
    "b = np.random.randint(1, 6, [3,1])"
   ]
  },
  {
   "cell_type": "code",
   "execution_count": 267,
   "id": "figured-jimmy",
   "metadata": {},
   "outputs": [
    {
     "data": {
      "text/plain": [
       "array([[4, 1, 5],\n",
       "       [1, 2, 5],\n",
       "       [2, 4, 4]])"
      ]
     },
     "execution_count": 267,
     "metadata": {},
     "output_type": "execute_result"
    }
   ],
   "source": [
    "A"
   ]
  },
  {
   "cell_type": "code",
   "execution_count": 268,
   "id": "discrete-minimum",
   "metadata": {},
   "outputs": [
    {
     "data": {
      "text/plain": [
       "array([[2],\n",
       "       [3],\n",
       "       [1]])"
      ]
     },
     "execution_count": 268,
     "metadata": {},
     "output_type": "execute_result"
    }
   ],
   "source": [
    "b"
   ]
  },
  {
   "cell_type": "code",
   "execution_count": null,
   "id": "mathematical-vacation",
   "metadata": {},
   "outputs": [
    {
     "name": "stdout",
     "output_type": "stream",
     "text": [
      "\n",
      "fila 1, columna 0 - Operación: E1 ← E1 - µ E0,\n",
      "                    µ = E1x/E0x = 1/4\n",
      "\u001b[4;95;1m                                                  \u001b[0m\n",
      "\n",
      "4\t1\t5\t\u001b[93m:\u001b[0m\t\u001b[31;1m2\u001b[0m\n",
      "\u001b[92m1\u001b[0m\t2\t5\t\u001b[93m:\u001b[0m\t\u001b[31;1m3\u001b[0m\n",
      "2\t4\t4\t\u001b[93m:\u001b[0m\t\u001b[31;1m1\u001b[0m\n"
     ]
    },
    {
     "name": "stdin",
     "output_type": "stream",
     "text": [
      " \n"
     ]
    },
    {
     "name": "stdout",
     "output_type": "stream",
     "text": [
      "\n",
      "fila 2, columna 0 - Operación: E2 ← E2 - µ E0,\n",
      "                    µ = E2x/E0x = 2.0/4.0\n",
      "\u001b[4;95;1m                                                  \u001b[0m\n",
      "\n",
      "4\t1\t5\t\u001b[93m:\u001b[0m\t\u001b[31;1m2\u001b[0m\n",
      "0\t7/4\t15/4\t\u001b[93m:\u001b[0m\t\u001b[31;1m5/2\u001b[0m\n",
      "\u001b[92m2\u001b[0m\t4\t4\t\u001b[93m:\u001b[0m\t\u001b[31;1m1\u001b[0m\n"
     ]
    },
    {
     "name": "stdin",
     "output_type": "stream",
     "text": [
      " \n"
     ]
    },
    {
     "name": "stdout",
     "output_type": "stream",
     "text": [
      "\n",
      "fila 2, columna 1 - Operación: E2 ← E2 - µ E1,\n",
      "                    µ = E2y/E1y = 3.5/1.75\n",
      "\u001b[4;95;1m                                                  \u001b[0m\n",
      "\n",
      "4\t1\t5\t\u001b[93m:\u001b[0m\t\u001b[31;1m2\u001b[0m\n",
      "0\t7/4\t15/4\t\u001b[93m:\u001b[0m\t\u001b[31;1m5/2\u001b[0m\n",
      "0\t\u001b[92m7/2\u001b[0m\t3/2\t\u001b[93m:\u001b[0m\t\u001b[31;1m0\u001b[0m\n"
     ]
    },
    {
     "name": "stdin",
     "output_type": "stream",
     "text": [
      " \n"
     ]
    },
    {
     "name": "stdout",
     "output_type": "stream",
     "text": [
      "\u001b[4;95;1m                                                  \u001b[0m\n",
      "\n",
      "4\t1\t5\t\u001b[93m:\u001b[0m\t\u001b[31;1m2\u001b[0m\n",
      "0\t7/4\t15/4\t\u001b[93m:\u001b[0m\t\u001b[31;1m5/2\u001b[0m\n",
      "0\t0\t-6\t\u001b[93m:\u001b[0m\t\u001b[31;1m-5\u001b[0m\n"
     ]
    }
   ],
   "source": [
    "triang_sup_operador(A, b)"
   ]
  },
  {
   "cell_type": "code",
   "execution_count": null,
   "id": "expected-cleaning",
   "metadata": {},
   "outputs": [],
   "source": []
  }
 ],
 "metadata": {
  "kernelspec": {
   "display_name": "Python 3",
   "language": "python",
   "name": "python3"
  },
  "language_info": {
   "codemirror_mode": {
    "name": "ipython",
    "version": 3
   },
   "file_extension": ".py",
   "mimetype": "text/x-python",
   "name": "python",
   "nbconvert_exporter": "python",
   "pygments_lexer": "ipython3",
   "version": "3.8.5"
  }
 },
 "nbformat": 4,
 "nbformat_minor": 5
}
