{
 "cells": [
  {
   "cell_type": "markdown",
   "id": "approximate-frederick",
   "metadata": {},
   "source": [
    "# Cuadrados mínimos"
   ]
  },
  {
   "cell_type": "markdown",
   "id": "exceptional-suggestion",
   "metadata": {},
   "source": [
    "primero generamos un modelo con ruido"
   ]
  },
  {
   "cell_type": "code",
   "execution_count": 12,
   "id": "unknown-philadelphia",
   "metadata": {},
   "outputs": [],
   "source": [
    "import numpy as np\n",
    "from matplotlib import pyplot as plt"
   ]
  },
  {
   "cell_type": "code",
   "execution_count": 76,
   "id": "nasty-truck",
   "metadata": {},
   "outputs": [],
   "source": [
    "N = 200"
   ]
  },
  {
   "cell_type": "code",
   "execution_count": 77,
   "id": "corresponding-internship",
   "metadata": {},
   "outputs": [],
   "source": [
    "x = np.random.uniform(1, 7, N)"
   ]
  },
  {
   "cell_type": "code",
   "execution_count": 78,
   "id": "whole-personal",
   "metadata": {},
   "outputs": [],
   "source": [
    "a = 3\n",
    "b = -2"
   ]
  },
  {
   "cell_type": "code",
   "execution_count": 79,
   "id": "bigger-agency",
   "metadata": {},
   "outputs": [],
   "source": [
    "y = a*x + b"
   ]
  },
  {
   "cell_type": "code",
   "execution_count": 80,
   "id": "urban-comfort",
   "metadata": {},
   "outputs": [
    {
     "data": {
      "text/plain": [
       "[<matplotlib.lines.Line2D at 0x7f692e4c9400>]"
      ]
     },
     "execution_count": 80,
     "metadata": {},
     "output_type": "execute_result"
    },
    {
     "data": {
      "image/png": "[encoded data removed]",
      "text/plain": [
       "<Figure size 432x288 with 1 Axes>"
      ]
     },
     "metadata": {
      "needs_background": "light"
     },
     "output_type": "display_data"
    }
   ],
   "source": [
    "plt.plot(x, y)"
   ]
  },
  {
   "cell_type": "code",
   "execution_count": 81,
   "id": "daily-apple",
   "metadata": {},
   "outputs": [],
   "source": [
    "noise = np.random.normal"
   ]
  },
  {
   "cell_type": "code",
   "execution_count": 82,
   "id": "imported-attribute",
   "metadata": {},
   "outputs": [],
   "source": [
    "noise = np.random.normal"
   ]
  },
  {
   "cell_type": "code",
   "execution_count": 83,
   "id": "private-newsletter",
   "metadata": {},
   "outputs": [],
   "source": [
    "noise = np.random.normal(0, 1, len(x))"
   ]
  },
  {
   "cell_type": "code",
   "execution_count": 84,
   "id": "living-roller",
   "metadata": {},
   "outputs": [],
   "source": [
    "yn = y + noise"
   ]
  },
  {
   "cell_type": "code",
   "execution_count": 85,
   "id": "minus-needle",
   "metadata": {},
   "outputs": [
    {
     "data": {
      "text/plain": [
       "[<matplotlib.lines.Line2D at 0x7f692e25d7f0>]"
      ]
     },
     "execution_count": 85,
     "metadata": {},
     "output_type": "execute_result"
    },
    {
     "data": {
      "image/png": "[encoded data removed]",
      "text/plain": [
       "<Figure size 432x288 with 1 Axes>"
      ]
     },
     "metadata": {
      "needs_background": "light"
     },
     "output_type": "display_data"
    }
   ],
   "source": [
    "plt.plot(x, yn, linestyle='None', marker='o')"
   ]
  },
  {
   "cell_type": "code",
   "execution_count": 111,
   "id": "described-error",
   "metadata": {},
   "outputs": [],
   "source": [
    "yy = np.ones((len(x), 1))\n",
    "A = np.column_stack((x, yy))"
   ]
  },
  {
   "cell_type": "code",
   "execution_count": 112,
   "id": "editorial-boards",
   "metadata": {},
   "outputs": [],
   "source": [
    "At = np.transpose(A)"
   ]
  },
  {
   "cell_type": "code",
   "execution_count": 113,
   "id": "civilian-charter",
   "metadata": {},
   "outputs": [],
   "source": [
    "A_ = At @ A"
   ]
  },
  {
   "cell_type": "code",
   "execution_count": 121,
   "id": "happy-thinking",
   "metadata": {},
   "outputs": [],
   "source": [
    "b_ = At @ yn"
   ]
  },
  {
   "cell_type": "code",
   "execution_count": 122,
   "id": "timely-trance",
   "metadata": {},
   "outputs": [
    {
     "data": {
      "text/plain": [
       "array([[3683.17277842,  782.18599903],\n",
       "       [ 782.18599903,  200.        ]])"
      ]
     },
     "execution_count": 122,
     "metadata": {},
     "output_type": "execute_result"
    }
   ],
   "source": [
    "A_"
   ]
  },
  {
   "cell_type": "code",
   "execution_count": 123,
   "id": "retired-pepper",
   "metadata": {},
   "outputs": [
    {
     "data": {
      "text/plain": [
       "array([9475.6376599 , 1957.36469874])"
      ]
     },
     "execution_count": 123,
     "metadata": {},
     "output_type": "execute_result"
    }
   ],
   "source": [
    "b_"
   ]
  },
  {
   "cell_type": "code",
   "execution_count": null,
   "id": "central-flight",
   "metadata": {},
   "outputs": [],
   "source": []
  },
  {
   "cell_type": "code",
   "execution_count": 124,
   "id": "competent-dream",
   "metadata": {},
   "outputs": [],
   "source": [
    "def diag_numpy(A, b, verbose=False):\n",
    "    '''\n",
    "    Implementa el método de eliminación de Gauss para resolver\n",
    "    un sistema de ecuaciones\n",
    "    '''\n",
    "    A = np.array(A) \n",
    "    b = np.array(b) \n",
    "    n = len(b)\n",
    "    M = np.zeros((A.shape[0],A.shape[1]+1))\n",
    "    M[:,:-1] = A\n",
    "    M[:,-1] = b\n",
    "\n",
    "    vname = ['x','y','z','v','w','p','q','g','s','d']\n",
    "\n",
    "    for i in range(n):\n",
    "        for j in range(n):\n",
    "            if i != j:\n",
    "\n",
    "                if verbose:\n",
    "                    niceprint(M, [j,i]); foo = input('')\n",
    "                    print((f'\\nfila {j}, columna {i}'\n",
    "                           f' - Operación: E{j} ← E{j} - µ E{i},\\n                   '\n",
    "                           f' µ = E{j}{vname[i]}/E{i}{vname[i]} = {M[j][i]}/{M[i][i]}'\n",
    "                           f' = {M[j][i]/M[i][i]}'))\n",
    "\n",
    "                factor = M[j][i]/M[i][i]\n",
    "                M[j,:] = M[j,:] - factor*M[i,:]\n",
    "\n",
    "        if verbose:\n",
    "            niceprint(M); foo = input('')\n",
    "    x = b*0.\n",
    "    for i in range(n):\n",
    "        x[i] = M[i][n]/M[i][i]\n",
    "\n",
    "    return M, x "
   ]
  },
  {
   "cell_type": "code",
   "execution_count": 128,
   "id": "pharmaceutical-thousand",
   "metadata": {},
   "outputs": [],
   "source": [
    "M, ab = diag_numpy(A_, b_)"
   ]
  },
  {
   "cell_type": "code",
   "execution_count": 126,
   "id": "fifth-instrument",
   "metadata": {},
   "outputs": [],
   "source": [
    "fit = lambda x: ab[0]*x + ab[1]"
   ]
  },
  {
   "cell_type": "code",
   "execution_count": 131,
   "id": "constitutional-scientist",
   "metadata": {},
   "outputs": [
    {
     "data": {
      "text/plain": [
       "<matplotlib.lines._AxLine at 0x7f692deb3460>"
      ]
     },
     "execution_count": 131,
     "metadata": {},
     "output_type": "execute_result"
    },
    {
     "data": {
      "image/png": "[encoded data removed]",
      "text/plain": [
       "<Figure size 432x288 with 1 Axes>"
      ]
     },
     "metadata": {
      "needs_background": "light"
     },
     "output_type": "display_data"
    }
   ],
   "source": [
    "plt.plot(x, yn, linestyle='None', marker='o')\n",
    "plt.axline((1, a+b), (6, 6*a+b))\n",
    "plt.axline((1, fit(a)), (6, fit(6)))"
   ]
  },
  {
   "cell_type": "code",
   "execution_count": null,
   "id": "temporal-compression",
   "metadata": {},
   "outputs": [],
   "source": []
  },
  {
   "cell_type": "code",
   "execution_count": null,
   "id": "acute-driver",
   "metadata": {},
   "outputs": [],
   "source": []
  },
  {
   "cell_type": "code",
   "execution_count": null,
   "id": "sustained-miami",
   "metadata": {},
   "outputs": [],
   "source": []
  }
 ],
 "metadata": {
  "kernelspec": {
   "display_name": "Python 3",
   "language": "python",
   "name": "python3"
  },
  "language_info": {
   "codemirror_mode": {
    "name": "ipython",
    "version": 3
   },
   "file_extension": ".py",
   "mimetype": "text/x-python",
   "name": "python",
   "nbconvert_exporter": "python",
   "pygments_lexer": "ipython3",
   "version": "3.9.2"
  }
 },
 "nbformat": 4,
 "nbformat_minor": 5
}
